{
 "cells": [
  {
   "cell_type": "code",
   "execution_count": 3,
   "id": "074a4919-ec88-485d-bd85-465748a22ee3",
   "metadata": {},
   "outputs": [],
   "source": [
    "import numpy as np\n",
    "\n",
    "list_ = ['1', '2', '3', '4', '5']\n",
    "array_list = np.array(object=list_)\n"
   ]
  },
  {
   "cell_type": "markdown",
   "id": "2664d638-47e5-49ba-8d8b-c49f30c9406c",
   "metadata": {},
   "source": [
    "## Q1. Is there any difference in the data type of variables list_ and array_list?"
   ]
  },
  {
   "cell_type": "code",
   "execution_count": 5,
   "id": "5c75a59e-1b6d-46d8-b68c-ce82e92286fa",
   "metadata": {},
   "outputs": [
    {
     "name": "stdout",
     "output_type": "stream",
     "text": [
      "Type of list_: <class 'list'>\n",
      "Type of array_list: <class 'numpy.ndarray'>\n"
     ]
    }
   ],
   "source": [
    "# Checking the type of each variable\n",
    "print(\"Type of list_:\", type(list_))\n",
    "print(\"Type of array_list:\", type(array_list))\n"
   ]
  },
  {
   "cell_type": "raw",
   "id": "c19779ed-3502-47c3-8d1b-9ad6ef76d83b",
   "metadata": {},
   "source": [
    "Answer:\n",
    "Yes, there is a difference. list_ is of type Python list, and array_list is of type NumPy ndarray."
   ]
  },
  {
   "cell_type": "markdown",
   "id": "fba20bf7-cf13-4d4a-9d2b-2a0d503f4a98",
   "metadata": {},
   "source": [
    "## Q2. Write a code to print the data type of each and every element of both the variables list_ and array_list."
   ]
  },
  {
   "cell_type": "code",
   "execution_count": 8,
   "id": "be03761f-309f-46dc-94c5-a17943dd2178",
   "metadata": {},
   "outputs": [
    {
     "name": "stdout",
     "output_type": "stream",
     "text": [
      "Data types of elements in list_:\n",
      "1 -> <class 'str'>\n",
      "2 -> <class 'str'>\n",
      "3 -> <class 'str'>\n",
      "4 -> <class 'str'>\n",
      "5 -> <class 'str'>\n",
      "\n",
      "Data types of elements in array_list:\n",
      "1 -> <class 'numpy.str_'>\n",
      "2 -> <class 'numpy.str_'>\n",
      "3 -> <class 'numpy.str_'>\n",
      "4 -> <class 'numpy.str_'>\n",
      "5 -> <class 'numpy.str_'>\n"
     ]
    }
   ],
   "source": [
    "print(\"Data types of elements in list_:\")\n",
    "for element in list_:\n",
    "    print(f\"{element} -> {type(element)}\")\n",
    "\n",
    "print(\"\\nData types of elements in array_list:\")\n",
    "for element in array_list:\n",
    "    print(f\"{element} -> {type(element)}\")\n"
   ]
  },
  {
   "cell_type": "markdown",
   "id": "26253776-8b09-4e71-b397-7be004fc09e2",
   "metadata": {},
   "source": [
    "## Q3. Considering the following changes in the variable, array_list = np.array(object = list_, dtype = int) Will there be any difference in the data type of the elements present in both the variables, list_ and array_list?"
   ]
  },
  {
   "cell_type": "code",
   "execution_count": 11,
   "id": "e463677d-45c3-4ed7-afc9-c5a2b526908d",
   "metadata": {},
   "outputs": [
    {
     "name": "stdout",
     "output_type": "stream",
     "text": [
      "Data types of elements in list_:\n",
      "1 -> <class 'str'>\n",
      "2 -> <class 'str'>\n",
      "3 -> <class 'str'>\n",
      "4 -> <class 'str'>\n",
      "5 -> <class 'str'>\n",
      "\n",
      "Data types of elements in array_list (with dtype=int):\n",
      "1 -> <class 'numpy.int32'>\n",
      "2 -> <class 'numpy.int32'>\n",
      "3 -> <class 'numpy.int32'>\n",
      "4 -> <class 'numpy.int32'>\n",
      "5 -> <class 'numpy.int32'>\n"
     ]
    }
   ],
   "source": [
    "array_list = np.array(object=list_, dtype=int)\n",
    "\n",
    "print(\"Data types of elements in list_:\")\n",
    "for element in list_:\n",
    "    print(f\"{element} -> {type(element)}\")\n",
    "\n",
    "print(\"\\nData types of elements in array_list (with dtype=int):\")\n",
    "for element in array_list:\n",
    "    print(f\"{element} -> {type(element)}\")\n"
   ]
  },
  {
   "cell_type": "markdown",
   "id": "79d242bf-b701-4b17-a8e3-f2f9581971cf",
   "metadata": {},
   "source": [
    "Answer:\n",
    "Yes, there is a difference now. The list_ still contains strings, but array_list now contains integers, as we explicitly converted the data type."
   ]
  },
  {
   "cell_type": "code",
   "execution_count": 13,
   "id": "dc65b795-86e6-473d-8dad-7c08bcba83cf",
   "metadata": {},
   "outputs": [],
   "source": [
    "import numpy as np\n",
    "\n",
    "num_list = [[1, 2, 3], [4, 5, 6]]\n",
    "num_array = np.array(object=num_list)\n"
   ]
  },
  {
   "cell_type": "markdown",
   "id": "baedc78f-4387-4b5b-9717-2a6a0c7f5a2d",
   "metadata": {},
   "source": [
    "## Q4. Write a code to find the following characteristics of variable num_array:"
   ]
  },
  {
   "cell_type": "code",
   "execution_count": 16,
   "id": "f1813ecc-7005-43e1-9185-a53dc49e2d46",
   "metadata": {},
   "outputs": [
    {
     "name": "stdout",
     "output_type": "stream",
     "text": [
      "Shape of num_array: (2, 3)\n",
      "Size of num_array: 6\n"
     ]
    }
   ],
   "source": [
    "print(\"Shape of num_array:\", num_array.shape)\n",
    "print(\"Size of num_array:\", num_array.size)\n"
   ]
  },
  {
   "cell_type": "markdown",
   "id": "d27b93f2-355c-4ef3-bb74-e1d1a03b22bc",
   "metadata": {},
   "source": [
    "## Q5. Write a code to create NumPy array of 3×3 matrix containing zeros only, using a NumPy array creation function."
   ]
  },
  {
   "cell_type": "code",
   "execution_count": 19,
   "id": "66d7e657-126f-43b1-83be-8d9244cdbb04",
   "metadata": {},
   "outputs": [
    {
     "name": "stdout",
     "output_type": "stream",
     "text": [
      "3x3 Zero Matrix:\n",
      " [[0. 0. 0.]\n",
      " [0. 0. 0.]\n",
      " [0. 0. 0.]]\n"
     ]
    }
   ],
   "source": [
    "zero_matrix = np.zeros((3, 3))\n",
    "print(\"3x3 Zero Matrix:\\n\", zero_matrix)\n"
   ]
  },
  {
   "cell_type": "markdown",
   "id": "02ca16b1-47bb-42c6-b585-21dad7b3a451",
   "metadata": {},
   "source": [
    "## Q6. Create an identity matrix of shape (5,5) using NumPy functions."
   ]
  },
  {
   "cell_type": "code",
   "execution_count": 22,
   "id": "adfd9ebd-04be-4304-8d8c-c09fd5981e7d",
   "metadata": {},
   "outputs": [
    {
     "name": "stdout",
     "output_type": "stream",
     "text": [
      "5x5 Identity Matrix:\n",
      " [[1. 0. 0. 0. 0.]\n",
      " [0. 1. 0. 0. 0.]\n",
      " [0. 0. 1. 0. 0.]\n",
      " [0. 0. 0. 1. 0.]\n",
      " [0. 0. 0. 0. 1.]]\n"
     ]
    }
   ],
   "source": [
    "identity_matrix = np.identity(5)\n",
    "print(\"5x5 Identity Matrix:\\n\", identity_matrix)\n"
   ]
  },
  {
   "cell_type": "code",
   "execution_count": null,
   "id": "91cb9cca-fe2a-423f-a5f2-6d5978a8b2ce",
   "metadata": {},
   "outputs": [],
   "source": []
  }
 ],
 "metadata": {
  "kernelspec": {
   "display_name": "Python (tf_env)",
   "language": "python",
   "name": "tf_env"
  },
  "language_info": {
   "codemirror_mode": {
    "name": "ipython",
    "version": 3
   },
   "file_extension": ".py",
   "mimetype": "text/x-python",
   "name": "python",
   "nbconvert_exporter": "python",
   "pygments_lexer": "ipython3",
   "version": "3.12.7"
  }
 },
 "nbformat": 4,
 "nbformat_minor": 5
}
