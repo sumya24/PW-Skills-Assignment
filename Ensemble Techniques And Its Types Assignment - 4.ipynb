{
 "cells": [
  {
   "cell_type": "markdown",
   "id": "b27bba3c-3b6d-42c2-bb29-03e2b048a7a2",
   "metadata": {},
   "source": [
    "## Q1. What is Random Forest Regressor?"
   ]
  },
  {
   "cell_type": "markdown",
   "id": "1096faa3-9583-467b-8d61-d3f12cccbdc1",
   "metadata": {},
   "source": [
    "Random Forest Regressor is an ensemble learning method that builds multiple decision trees and averages their predictions to perform regression (predicting continuous values). It uses a technique called bagging to train trees on different random subsets of the dataset.\n",
    "\n"
   ]
  },
  {
   "cell_type": "markdown",
   "id": "e807e6f5-c135-4da7-83c4-04e78469a0ee",
   "metadata": {},
   "source": [
    "## Q2. How does Random Forest Regressor reduce the risk of overfitting?"
   ]
  },
  {
   "cell_type": "markdown",
   "id": "f9c104d2-76e1-440c-8279-d298bb7af322",
   "metadata": {},
   "source": [
    "It reduces overfitting by:\n",
    "\n",
    "Training on random subsets of the data (bagging).\n",
    "\n",
    "Selecting random subsets of features for each tree.\n",
    "\n",
    "Aggregating predictions from multiple trees, which smooths out anomalies and reduces variance.\n",
    "\n",
    "Unlike a single decision tree, it generalizes better to unseen data."
   ]
  },
  {
   "cell_type": "markdown",
   "id": "00dfa926-c19f-469b-997f-b2f89ee78b6c",
   "metadata": {},
   "source": [
    "## Q3. How does Random Forest Regressor aggregate the predictions of multiple decision trees?"
   ]
  },
  {
   "cell_type": "markdown",
   "id": "a6c5c403-5b05-4fa1-a505-34e3f50ecea1",
   "metadata": {},
   "source": [
    "In regression, each tree outputs a numeric prediction.\n",
    "\n",
    "The final prediction is the average of all trees' outputs.\n",
    "\n",
    "Example: If 3 trees predict [10.2, 9.8, 10.0], the final output is:\n",
    "(10.2 + 9.8 + 10.0) / 3 = 10.0"
   ]
  },
  {
   "cell_type": "markdown",
   "id": "a0756879-dd6c-4088-9a3c-d0e15b84ca3e",
   "metadata": {},
   "source": [
    "## Q4. What are the hyperparameters of Random Forest Regressor?"
   ]
  },
  {
   "cell_type": "markdown",
   "id": "e659b22d-0c73-4d1d-8305-3723aafd7ed1",
   "metadata": {},
   "source": [
    "Key hyperparameters include:\n",
    "\n",
    "n_estimators: Number of trees in the forest.\n",
    "\n",
    "max_depth: Maximum depth of each tree.\n",
    "\n",
    "min_samples_split: Minimum number of samples to split an internal node.\n",
    "\n",
    "min_samples_leaf: Minimum number of samples required at a leaf node.\n",
    "\n",
    "max_features: Number of features to consider when looking for the best split.\n",
    "\n",
    "bootstrap: Whether bootstrap samples are used."
   ]
  },
  {
   "cell_type": "markdown",
   "id": "d8e9461a-9394-4c14-9c05-1a326b6b5294",
   "metadata": {},
   "source": [
    "##  Q5. What is the difference between Random Forest Regressor and Decision Tree Regressor?"
   ]
  },
  {
   "cell_type": "code",
   "execution_count": null,
   "id": "e0e35f55-7b02-413d-897d-624db4a4e337",
   "metadata": {},
   "outputs": [],
   "source": []
  },
  {
   "cell_type": "markdown",
   "id": "b2dcfb32-fd51-463c-9937-75e8acfffb2a",
   "metadata": {},
   "source": [
    "## Q6. What are the advantages and disadvantages of Random Forest Regressor?"
   ]
  },
  {
   "cell_type": "markdown",
   "id": "319ff9cb-c1bb-4a4d-b272-27c0d765414c",
   "metadata": {},
   "source": [
    "Advantages:\n",
    "\n",
    "Reduces overfitting.\n",
    "\n",
    "Works well with both categorical and numerical features.\n",
    "\n",
    "Handles missing values well.\n",
    "\n",
    "Robust to outliers and noise.\n",
    "\n",
    "Disadvantages:\n",
    "\n",
    "Slower to train compared to a single tree.\n",
    "\n",
    "Less interpretable (black box).\n",
    "\n",
    "Consumes more memory.\n",
    "\n"
   ]
  },
  {
   "cell_type": "markdown",
   "id": "deaa2b67-e1f5-4a06-ba1e-eb7af1a60ba5",
   "metadata": {},
   "source": [
    "## Q7. What is the output of Random Forest Regressor?"
   ]
  },
  {
   "cell_type": "markdown",
   "id": "c1e41c12-a6b1-41ed-83ab-c6ab232fa2e6",
   "metadata": {},
   "source": [
    "The output is a single continuous value, which is the average prediction of all the decision trees in the forest.\n",
    "\n"
   ]
  },
  {
   "cell_type": "markdown",
   "id": "85d07e40-0465-4988-8a52-2aae23c993fa",
   "metadata": {},
   "source": [
    "## Q8. Can Random Forest Regressor be used for classification tasks?"
   ]
  },
  {
   "cell_type": "markdown",
   "id": "ed67b36e-5fac-494c-9aab-9bec29505ecd",
   "metadata": {},
   "source": [
    "No, Random Forest Regressor is used for regression tasks only.\n",
    "For classification tasks, we use Random Forest Classifier, which uses majority voting to predict the class label."
   ]
  },
  {
   "cell_type": "code",
   "execution_count": 17,
   "id": "67d7ce43-8c70-4ba4-bcb6-41a75223eefb",
   "metadata": {},
   "outputs": [
    {
     "name": "stdout",
     "output_type": "stream",
     "text": [
      "Mean Squared Error: 0.26\n",
      "R² Score: 0.80\n"
     ]
    }
   ],
   "source": [
    "from sklearn.datasets import fetch_california_housing\n",
    "from sklearn.ensemble import RandomForestRegressor\n",
    "from sklearn.model_selection import train_test_split\n",
    "from sklearn.metrics import mean_squared_error, r2_score\n",
    "\n",
    "# Load dataset\n",
    "data = fetch_california_housing()\n",
    "X, y = data.data, data.target\n",
    "\n",
    "# Split into training and test sets\n",
    "X_train, X_test, y_train, y_test = train_test_split(X, y, test_size=0.2, random_state=42)\n",
    "\n",
    "# Train Random Forest Regressor\n",
    "rf = RandomForestRegressor(n_estimators=100, random_state=42)\n",
    "rf.fit(X_train, y_train)\n",
    "\n",
    "# Predict\n",
    "y_pred = rf.predict(X_test)\n",
    "\n",
    "# Evaluate\n",
    "mse = mean_squared_error(y_test, y_pred)\n",
    "r2 = r2_score(y_test, y_pred)\n",
    "\n",
    "print(f\"Mean Squared Error: {mse:.2f}\")\n",
    "print(f\"R² Score: {r2:.2f}\")\n"
   ]
  },
  {
   "cell_type": "code",
   "execution_count": null,
   "id": "08588ce6-c2fd-4739-b9d9-360dbb788919",
   "metadata": {},
   "outputs": [],
   "source": []
  }
 ],
 "metadata": {
  "kernelspec": {
   "display_name": "Python (tf_env)",
   "language": "python",
   "name": "tf_env"
  },
  "language_info": {
   "codemirror_mode": {
    "name": "ipython",
    "version": 3
   },
   "file_extension": ".py",
   "mimetype": "text/x-python",
   "name": "python",
   "nbconvert_exporter": "python",
   "pygments_lexer": "ipython3",
   "version": "3.12.7"
  }
 },
 "nbformat": 4,
 "nbformat_minor": 5
}
