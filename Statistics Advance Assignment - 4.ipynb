{
 "cells": [
  {
   "cell_type": "markdown",
   "id": "5ada6339-900e-40aa-aa4a-6ef38ea6f949",
   "metadata": {},
   "source": [
    "## Q1: What is the difference between a t-test and a z-test? Provide an example scenario where you would use each type of test."
   ]
  },
  {
   "cell_type": "markdown",
   "id": "619f5769-d096-4709-b228-a5ba34812885",
   "metadata": {},
   "source": [
    "T-test: Used when the population standard deviation is unknown and the sample size is small (n < 30).\n",
    "Z-test: Used when the population standard deviation is known and the sample size is large (n ≥ 30).\n",
    "\n",
    "Example for t-test: Testing if a new teaching method improves student performance using a sample of 25 students where population std dev is unknown.\n",
    "Example for z-test: Comparing the average height of a large population where population std dev is known.\n",
    "\n"
   ]
  },
  {
   "cell_type": "markdown",
   "id": "b3db68eb-d324-408f-ad72-3d4f891335d9",
   "metadata": {},
   "source": [
    "## Q2: Differentiate between one-tailed and two-tailed tests."
   ]
  },
  {
   "cell_type": "markdown",
   "id": "19a73604-491c-45ce-80f9-b659467da7e6",
   "metadata": {},
   "source": [
    "One-tailed test: Tests for deviation in one direction (e.g., greater than or less than a value).\n",
    "\n",
    "Two-tailed test: Tests for deviation in both directions (e.g., not equal to a value).\n",
    "\n",
    "Example:\n",
    "\n",
    "One-tailed: Is drug A more effective than drug B?\n",
    "\n",
    "Two-tailed: Is there any difference between the performance of drug A and drug B?"
   ]
  },
  {
   "cell_type": "markdown",
   "id": "f7b89475-3e13-418f-bada-82ab0a8190b1",
   "metadata": {},
   "source": [
    "## Q3: Explain the concept of Type 1 and Type 2 errors in hypothesis testing. Provide an example.\n"
   ]
  },
  {
   "cell_type": "markdown",
   "id": "9045bfbb-9d32-454b-bb0b-315d12c22107",
   "metadata": {},
   "source": [
    "Type I Error (False Positive): Rejecting the null hypothesis when it's actually true.\n",
    "\n",
    "Example: Concluding a medicine works when it doesn't.\n",
    "\n",
    "Type II Error (False Negative): Failing to reject the null hypothesis when it's false.\n",
    "\n",
    "Example: Concluding a medicine doesn’t work when it actually does.\n",
    "\n"
   ]
  },
  {
   "cell_type": "markdown",
   "id": "f7ead38e-2d99-4e30-ab63-94c35c8b0edf",
   "metadata": {},
   "source": [
    "## Q4: Explain Bayes's theorem with an example."
   ]
  },
  {
   "cell_type": "markdown",
   "id": "89c03aec-e791-4391-b4cf-5756c06c1996",
   "metadata": {},
   "source": [
    "Formula:\n",
    "P(A|B) = [P(B|A) × P(A)] / P(B)\n",
    "\n",
    "Example:\n",
    "\n",
    "1% of emails are spam (P(Spam) = 0.01)\n",
    "\n",
    "A keyword appears in 90% of spam emails (P(Keyword|Spam) = 0.9)\n",
    "\n",
    "Appears in 5% of non-spam emails (P(Keyword|Not Spam) = 0.05)\n",
    "Using Bayes’ Theorem, you can calculate the probability that an email is spam given the keyword appears."
   ]
  },
  {
   "cell_type": "markdown",
   "id": "fbaa948a-fa17-4d7f-8a2d-bdf4e32ea0de",
   "metadata": {},
   "source": [
    "## Q5: What is a confidence interval? How to calculate it?"
   ]
  },
  {
   "cell_type": "markdown",
   "id": "a8bed038-798a-4dc7-a180-f175b0886595",
   "metadata": {},
   "source": [
    "A confidence interval (CI) gives a range of values for an unknown parameter (e.g., population mean).\n",
    "\n",
    "Formula:\n",
    "CI = x̄ ± Z × (σ / √n)\n",
    "\n",
    "Example:\n",
    "Mean = 50, std dev = 10, sample size = 100\n",
    "At 95% CI:\n",
    "CI = 50 ± 1.96 × (10/√100) = 50 ± 1.96 = (48.04, 51.96)\n",
    "\n"
   ]
  },
  {
   "cell_type": "markdown",
   "id": "5ed65945-666d-4cb7-8398-4f98ebc44255",
   "metadata": {},
   "source": [
    "## Q6: Use Bayes' Theorem — Sample Problem"
   ]
  },
  {
   "cell_type": "markdown",
   "id": "e2cd692d-86c1-43a7-8f0d-22a934a7ae1c",
   "metadata": {},
   "source": [
    "Problem:\n",
    "A disease affects 1% of population. Test is 99% accurate. What's the probability a person has the disease if the test is positive?\n",
    "\n",
    "Let:\n",
    "P(Disease) = 0.01\n",
    "P(No Disease) = 0.99\n",
    "P(Positive | Disease) = 0.99\n",
    "P(Positive | No Disease) = 0.01\n",
    "\n",
    "Solution:\n",
    "P(Disease | Positive) = [0.99 × 0.01] / [(0.99 × 0.01) + (0.01 × 0.99)]\n",
    "= 0.0099 / 0.0198 = 0.5 or 50%"
   ]
  },
  {
   "cell_type": "markdown",
   "id": "4759b351-3900-441b-b917-34342452c2a4",
   "metadata": {},
   "source": [
    "## Q7: Calculate 95% CI: Mean = 50, Std = 5, n = 100"
   ]
  },
  {
   "cell_type": "markdown",
   "id": "1449abcf-e24a-4122-97a3-5d72afdc2ac0",
   "metadata": {},
   "source": [
    "CI = 50 ± 1.96 × (5 / √100) = 50 ± 0.98 = (49.02, 50.98)\n",
    "\n",
    "Interpretation: We are 95% confident the true population mean lies between 49.02 and 50.98."
   ]
  },
  {
   "cell_type": "markdown",
   "id": "50a35edd-ee76-4e15-b4fc-5ea5597fb99d",
   "metadata": {},
   "source": [
    "## Q8: What is margin of error and how does sample size affect it?"
   ]
  },
  {
   "cell_type": "markdown",
   "id": "81c2845d-7a50-447a-890f-a0b23fe1790d",
   "metadata": {},
   "source": [
    "Margin of Error (MoE): Half the width of the confidence interval.\n",
    "\n",
    "Larger sample size → smaller margin of error.\n",
    "\n",
    "Example:\n",
    "Surveying 100 people gives wider CI than surveying 1000 people."
   ]
  },
  {
   "cell_type": "markdown",
   "id": "a7d36c40-48c6-4805-a15c-aeb47174e9c0",
   "metadata": {},
   "source": [
    "## Q9: Calculate Z-score"
   ]
  },
  {
   "cell_type": "markdown",
   "id": "4a2c9bf2-200c-4e24-848e-7daa61c1874b",
   "metadata": {},
   "source": [
    "Value = 75, Mean = 70, Std Dev = 5\n",
    "Z = (75 - 70) / 5 = 1.0\n",
    "\n",
    "Interpretation: The value is 1 standard deviation above the mean.\n",
    "\n"
   ]
  },
  {
   "cell_type": "markdown",
   "id": "dd4a5cab-b58b-48b0-bf8b-e61e62dc862f",
   "metadata": {},
   "source": [
    "## Q10: T-test for weight loss drug"
   ]
  },
  {
   "cell_type": "markdown",
   "id": "add92630-bb47-4972-802a-1f7bd91013b3",
   "metadata": {},
   "source": [
    "Sample size = 50, Mean = 6, Std Dev = 2.5\n",
    "H₀: μ = 0 (no effect), H₁: μ > 0\n",
    "t = (6 - 0) / (2.5 / √50) = 6 / (0.3536) ≈ 16.97\n",
    "\n",
    "At 95% confidence level, critical t ≈ 1.676 → Reject H₀"
   ]
  },
  {
   "cell_type": "markdown",
   "id": "8bd23f2d-c3dd-4887-8b5e-d81341d50ff0",
   "metadata": {},
   "source": [
    "## Q11: 95% Confidence Interval for proportion"
   ]
  },
  {
   "cell_type": "markdown",
   "id": "1633ffd0-4b27-4b4c-8d41-5954b5e1f4c7",
   "metadata": {},
   "source": [
    "n = 500, p = 0.65\n",
    "CI = p ± Z × √[p(1-p)/n]\n",
    "= 0.65 ± 1.96 × √[0.65×0.35 / 500] ≈ 0.65 ± 0.042\n",
    "= (0.608, 0.692)"
   ]
  },
  {
   "cell_type": "markdown",
   "id": "37486e88-8acf-4772-bbbf-14f312707b22",
   "metadata": {},
   "source": [
    "## Q12: T-test on teaching methods"
   ]
  },
  {
   "cell_type": "markdown",
   "id": "2a9ea5b0-370a-442d-9fd1-e6ab7f87f2dd",
   "metadata": {},
   "source": [
    "Sample A: n1=30, mean1=85, std1=6\n",
    "Sample B: n2=40, mean2=82, std2=5\n",
    "H₀: μ1 = μ2, H₁: μ1 ≠ μ2\n",
    "\n",
    "Use formula for two-sample t-test:\n",
    "t = (85 - 82) / √[(6²/30)+(5²/40)]\n",
    "t ≈ 3 / √[(36/30)+(25/40)] = 3 / √(1.2 + 0.625) = 3 / √1.825 ≈ 2.22\n",
    "\n",
    "At 0.01 significance level, critical t ≈ 2.66 → Fail to reject H₀"
   ]
  },
  {
   "cell_type": "markdown",
   "id": "720f5aba-e27d-4072-ba24-551c59c2c2b2",
   "metadata": {},
   "source": [
    "## Q13: Confidence Interval (population mean)"
   ]
  },
  {
   "cell_type": "markdown",
   "id": "4c77614c-bffd-4ca6-a0cf-4f96cd8ae36b",
   "metadata": {},
   "source": [
    "Mean = 65, Population Mean = 60, Std Dev = 8, n = 50\n",
    "At 90% confidence, Z = 1.645\n",
    "CI = 65 ± 1.645 × (8 / √50) ≈ 65 ± 1.86 = (63.14, 66.86)\n",
    "\n"
   ]
  },
  {
   "cell_type": "markdown",
   "id": "556d4d4a-53f9-48f9-8a57-b1f72b09ee5b",
   "metadata": {},
   "source": [
    "## Q14: T-test for caffeine and reaction time"
   ]
  },
  {
   "cell_type": "markdown",
   "id": "744aace2-18c3-4385-9263-9412d9295356",
   "metadata": {},
   "source": [
    "n = 30, mean = 0.25, std = 0.05\n",
    "H₀: μ = baseline, H₁: μ ≠ baseline\n",
    "Assume baseline = 0.3\n",
    "t = (0.25 - 0.3) / (0.05 / √30) = -0.05 / 0.0091 ≈ -5.49\n",
    "\n",
    "Critical t ≈ ±1.699 → Reject H₀, caffeine has significant effect.\n",
    "\n"
   ]
  },
  {
   "cell_type": "code",
   "execution_count": null,
   "id": "fb7eeda3-70d8-4b20-86a1-851a2480c93c",
   "metadata": {},
   "outputs": [],
   "source": []
  }
 ],
 "metadata": {
  "kernelspec": {
   "display_name": "Python (tf_env)",
   "language": "python",
   "name": "tf_env"
  },
  "language_info": {
   "codemirror_mode": {
    "name": "ipython",
    "version": 3
   },
   "file_extension": ".py",
   "mimetype": "text/x-python",
   "name": "python",
   "nbconvert_exporter": "python",
   "pygments_lexer": "ipython3",
   "version": "3.12.7"
  }
 },
 "nbformat": 4,
 "nbformat_minor": 5
}
