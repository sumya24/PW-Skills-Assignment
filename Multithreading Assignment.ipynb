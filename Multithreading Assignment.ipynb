{
 "cells": [
  {
   "cell_type": "markdown",
   "id": "722b0b21-3b8e-4e61-bdd4-f0a6b80b2725",
   "metadata": {},
   "source": [
    "## Q1. What is multithreading in Python? Why is it used? Name the module used to handle threads in Python."
   ]
  },
  {
   "cell_type": "markdown",
   "id": "a4eac1ae-6b0b-409b-a216-360fb3fe27bd",
   "metadata": {},
   "source": [
    "Answer:\n",
    "\n",
    "Multithreading in Python is a technique where multiple threads run concurrently within a single process. It helps in performing multiple tasks at the same time (concurrently), especially useful for I/O-bound tasks (like reading files, API calls, etc.).\n",
    "\n",
    "Multithreading is used to:\n",
    "\n",
    "Improve application performance by running tasks concurrently.\n",
    "\n",
    "Save time in tasks involving waiting (I/O operations).\n",
    "\n",
    "Create responsive applications (like GUIs or servers)."
   ]
  },
  {
   "cell_type": "markdown",
   "id": "6640187d-44ea-45b5-a2c6-662ce9c6bd2a",
   "metadata": {},
   "source": [
    "Q2. Why is the threading module used? Write the use of the following functions:"
   ]
  },
  {
   "cell_type": "markdown",
   "id": "75e3804e-0fea-44c7-a59b-45d0c1074646",
   "metadata": {},
   "source": [
    "Answer:\n",
    "\n",
    "The threading module allows us to create and manage threads easily in Python."
   ]
  },
  {
   "cell_type": "code",
   "execution_count": 4,
   "id": "bea4cb58-67b0-4b32-a2c4-61b577a753ae",
   "metadata": {},
   "outputs": [
    {
     "name": "stdout",
     "output_type": "stream",
     "text": [
      "Active Threads: 9\n",
      "Current Thread: MainThread\n",
      "All Active Threads: [<_MainThread(MainThread, started 18096)>, <Thread(IOPub, started daemon 17020)>, <Heartbeat(Heartbeat, started daemon 11628)>, <Thread(Tornado selector, started daemon 17252)>, <ControlThread(Control, started daemon 5756)>, <Thread(Tornado selector, started daemon 9192)>, <HistorySavingThread(IPythonHistorySavingThread, started 12896)>, <ParentPollerWindows(Thread-4, started daemon 21540)>, <Thread(Tornado selector, started daemon 4804)>]\n"
     ]
    }
   ],
   "source": [
    "## threading.activeCount()\n",
    "import threading\n",
    "\n",
    "print(\"Active Threads:\", threading.active_count())\n",
    "## threading.currentThread()\n",
    "\n",
    "print(\"Current Thread:\", threading.current_thread().name)\n",
    "\n",
    "## threading.enumerate()\n",
    "print(\"All Active Threads:\", threading.enumerate())\n"
   ]
  },
  {
   "cell_type": "markdown",
   "id": "229eeefc-61ae-4f24-93c6-a5754728c797",
   "metadata": {},
   "source": [
    "## Q3. Explain the following functions:"
   ]
  },
  {
   "cell_type": "markdown",
   "id": "eb82b9de-8ebe-4e89-980a-2ac3c95c9916",
   "metadata": {},
   "source": [
    "Answer:\n",
    "\n",
    "🔹 run()\n",
    "This is the method that gets executed when the thread starts. It defines the thread's activity."
   ]
  },
  {
   "cell_type": "code",
   "execution_count": 7,
   "id": "ee994c4e-2338-4e06-98ed-8e227447b61b",
   "metadata": {},
   "outputs": [],
   "source": [
    "class MyThread(threading.Thread):\n",
    "    def run(self):\n",
    "        print(\"Thread is running\")\n"
   ]
  },
  {
   "cell_type": "markdown",
   "id": "8fb29161-f51c-40f5-9a11-5d0e79623daa",
   "metadata": {},
   "source": [
    " start()\n",
    "Starts the thread and calls the run() method internally."
   ]
  },
  {
   "cell_type": "code",
   "execution_count": 9,
   "id": "022ae814-cbd1-42be-a569-405944970255",
   "metadata": {},
   "outputs": [
    {
     "name": "stdout",
     "output_type": "stream",
     "text": [
      "Thread is running\n"
     ]
    }
   ],
   "source": [
    "t = MyThread()\n",
    "t.start()\n"
   ]
  },
  {
   "cell_type": "markdown",
   "id": "6480398b-8d49-483a-b23c-4cb12368f1d8",
   "metadata": {},
   "source": [
    " join()\n",
    "Waits for a thread to finish before moving on."
   ]
  },
  {
   "cell_type": "code",
   "execution_count": 12,
   "id": "54cfcaf8-4ed7-4a1f-8892-c11f007fd1cb",
   "metadata": {},
   "outputs": [],
   "source": [
    "t.join()  # Waits until thread `t` finishes"
   ]
  },
  {
   "cell_type": "markdown",
   "id": "081fc114-39bf-4cd2-b09a-f5017e811f17",
   "metadata": {},
   "source": [
    "is_alive()\n",
    "Checks if the thread is still running."
   ]
  },
  {
   "cell_type": "code",
   "execution_count": 14,
   "id": "403dab20-6106-49dc-ac0b-42689ad1b779",
   "metadata": {},
   "outputs": [
    {
     "name": "stdout",
     "output_type": "stream",
     "text": [
      "Is thread alive? False\n"
     ]
    }
   ],
   "source": [
    "print(\"Is thread alive?\", t.is_alive())\n"
   ]
  },
  {
   "cell_type": "markdown",
   "id": "63922bcb-668c-4127-b807-fb18d7cc03aa",
   "metadata": {},
   "source": [
    "## Q4. Write a Python program to create two threads. Thread one must print the list of squares and thread two must print the list of cubes."
   ]
  },
  {
   "cell_type": "code",
   "execution_count": 17,
   "id": "b166c8c8-34c1-4cfe-9a82-cce43e33ee4a",
   "metadata": {},
   "outputs": [
    {
     "name": "stdout",
     "output_type": "stream",
     "text": [
      "Square: 1\n",
      "Cube: 1\n",
      "Square: 4\n",
      "Cube: 8\n",
      "Square: 9\n",
      "Cube: 27\n",
      "Square: 16\n",
      "Cube: 64\n",
      "Square: 25\n",
      "Cube: 125\n",
      "Done with both threads!\n"
     ]
    }
   ],
   "source": [
    "import threading\n",
    "import time\n",
    "\n",
    "def print_squares():\n",
    "    for i in range(1, 6):\n",
    "        print(\"Square:\", i*i)\n",
    "        time.sleep(0.5)\n",
    "\n",
    "def print_cubes():\n",
    "    for i in range(1, 6):\n",
    "        print(\"Cube:\", i**3)\n",
    "        time.sleep(0.5)\n",
    "\n",
    "# Create threads\n",
    "t1 = threading.Thread(target=print_squares)\n",
    "t2 = threading.Thread(target=print_cubes)\n",
    "\n",
    "# Start threads\n",
    "t1.start()\n",
    "t2.start()\n",
    "\n",
    "# Wait for both threads to finish\n",
    "t1.join()\n",
    "t2.join()\n",
    "\n",
    "print(\"Done with both threads!\")\n"
   ]
  },
  {
   "cell_type": "markdown",
   "id": "274324ed-38d9-449c-85b7-289efc2eb88f",
   "metadata": {},
   "source": [
    "## Q5. State advantages and disadvantages of multithreading."
   ]
  },
  {
   "cell_type": "markdown",
   "id": "766f002d-b9ed-4498-a770-da840d52542c",
   "metadata": {},
   "source": [
    "Advantages:\n",
    "\n",
    " Improves application performance for I/O-bound tasks.\n",
    "\n",
    " Allows multitasking and parallelism within a single process.\n",
    "\n",
    " Makes programs more responsive (e.g., GUI or server).\n",
    "\n",
    " Efficient use of system resources.\n",
    "\n",
    "Disadvantages:\n",
    "\n",
    " Threads can lead to complex code that is hard to debug.\n",
    "\n",
    " Risk of race conditions and deadlocks.\n",
    "\n",
    " Python’s GIL (Global Interpreter Lock) limits multithreading for CPU-bound tasks.\n",
    "\n",
    " Requires careful synchronization (e.g., with locks)"
   ]
  },
  {
   "cell_type": "markdown",
   "id": "0bf361d9-c475-4d1b-89ff-74023b8d7e05",
   "metadata": {},
   "source": [
    "## Q6. Explain deadlocks and race conditions."
   ]
  },
  {
   "cell_type": "markdown",
   "id": "ffcd80cd-f6c0-4aa3-9d35-bc71d9b32698",
   "metadata": {},
   "source": [
    "🔹 Deadlock:\n",
    "A deadlock occurs when two or more threads are waiting for each other to release resources, and none of them ever do. This causes the program to freeze.\n",
    "\n",
    "Example (Conceptual):\n",
    "\n",
    "Thread A locks resource X and waits for Y.\n",
    "\n",
    "Thread B locks resource Y and waits for X.\n",
    "\n",
    "Neither thread can proceed.\n",
    "\n",
    "🔹 Race Condition:\n",
    "A race condition happens when multiple threads access shared data at the same time, and the final outcome depends on the order of thread execution. This can cause incorrect results."
   ]
  },
  {
   "cell_type": "code",
   "execution_count": 21,
   "id": "6ad3f1fb-eef6-4850-a6f4-3a3651318081",
   "metadata": {},
   "outputs": [
    {
     "name": "stdout",
     "output_type": "stream",
     "text": [
      "Final count: 2000000\n"
     ]
    }
   ],
   "source": [
    "count = 0\n",
    "\n",
    "def increment():\n",
    "    global count\n",
    "    for _ in range(1000000):\n",
    "        count += 1\n",
    "\n",
    "t1 = threading.Thread(target=increment)\n",
    "t2 = threading.Thread(target=increment)\n",
    "\n",
    "t1.start()\n",
    "t2.start()\n",
    "\n",
    "t1.join()\n",
    "t2.join()\n",
    "\n",
    "print(\"Final count:\", count)  # Expected: 2000000, but may be less due to race condition\n"
   ]
  },
  {
   "cell_type": "code",
   "execution_count": null,
   "id": "3ae2c5fd-55f5-4877-b149-10cf07d0f57c",
   "metadata": {},
   "outputs": [],
   "source": []
  }
 ],
 "metadata": {
  "kernelspec": {
   "display_name": "Python (tf_env)",
   "language": "python",
   "name": "tf_env"
  },
  "language_info": {
   "codemirror_mode": {
    "name": "ipython",
    "version": 3
   },
   "file_extension": ".py",
   "mimetype": "text/x-python",
   "name": "python",
   "nbconvert_exporter": "python",
   "pygments_lexer": "ipython3",
   "version": "3.12.7"
  }
 },
 "nbformat": 4,
 "nbformat_minor": 5
}
