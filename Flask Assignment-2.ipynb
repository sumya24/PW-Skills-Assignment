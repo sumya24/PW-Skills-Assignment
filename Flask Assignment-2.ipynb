{
 "cells": [
  {
   "cell_type": "markdown",
   "id": "3fe8b708-a626-4b31-bfc4-d6c5b211fc28",
   "metadata": {},
   "source": [
    "## Q1. Explain GET and POST methods."
   ]
  },
  {
   "cell_type": "markdown",
   "id": "e5f1a7ec-079f-4234-8d72-f761dbb9cb4e",
   "metadata": {},
   "source": [
    "Answer:\n",
    "\n",
    "GET Method:\n",
    "Used to retrieve data from the server. Parameters are sent in the URL (visible in browser address bar). It's used for reading data only.\n",
    "\n",
    "Example:\n",
    "http://example.com/user?name=John\n",
    "\n",
    "POST Method:\n",
    "Used to send data to the server (e.g., submitting a form). Parameters are sent in the body of the request (not visible in the URL). It is used for creating or updating resources.\n",
    "\n"
   ]
  },
  {
   "cell_type": "markdown",
   "id": "8d5237e2-776d-4ff3-a26f-dbff350d9832",
   "metadata": {},
   "source": [
    "## Q2. Why is request used in Flask?"
   ]
  },
  {
   "cell_type": "markdown",
   "id": "6d27bf17-1647-4eb4-bbe9-d3e106f8fbd5",
   "metadata": {},
   "source": [
    "Answer:\n",
    "\n",
    "request is used in Flask to handle incoming data from the client. It lets us:\n",
    "\n",
    "Access form inputs using request.form\n",
    "\n",
    "Get URL parameters via request.args\n",
    "\n",
    "Handle JSON data with request.get_json()\n",
    "\n",
    "Check request type using request.method"
   ]
  },
  {
   "cell_type": "code",
   "execution_count": null,
   "id": "31a50d75-311d-410f-9a55-c4c1948807b8",
   "metadata": {},
   "outputs": [],
   "source": [
    "from flask import request\n",
    "\n",
    "@app.route('/submit', methods=['POST'])\n",
    "def submit():\n",
    "    name = request.form['name']\n",
    "    return f\"Hello {name}\"\n"
   ]
  },
  {
   "cell_type": "markdown",
   "id": "b1a86931-511a-4415-a889-596a2f4d85e2",
   "metadata": {},
   "source": [
    "## Q3. Why is redirect() used in Flask?"
   ]
  },
  {
   "cell_type": "markdown",
   "id": "2bd4dd0b-3a7e-42a6-84e6-ccc16d7ae2e4",
   "metadata": {},
   "source": [
    "Answer:\n",
    "\n",
    "redirect() is used to redirect the client to a different route or URL. It's helpful after form submission, login, logout, etc."
   ]
  },
  {
   "cell_type": "code",
   "execution_count": null,
   "id": "dc2f6c8f-ed21-4ad0-aeed-b27f0d649c9b",
   "metadata": {},
   "outputs": [],
   "source": [
    "from flask import redirect, url_for\n",
    "\n",
    "@app.route('/login-success')\n",
    "def success():\n",
    "    return \"Login Successful!\"\n",
    "\n",
    "@app.route('/login')\n",
    "def login():\n",
    "    return redirect(url_for('success'))\n"
   ]
  },
  {
   "cell_type": "markdown",
   "id": "dd7e9796-7249-4fcf-b490-978fd1450081",
   "metadata": {},
   "source": [
    "## Q4. What are templates in Flask? Why is render_template() used?"
   ]
  },
  {
   "cell_type": "markdown",
   "id": "ed505382-0941-493e-8a1c-b5fdd667d4ca",
   "metadata": {},
   "source": [
    "Answer:\n",
    "\n",
    "Templates in Flask are HTML files used to create dynamic web pages.\n",
    "\n",
    "Flask uses the Jinja2 templating engine.\n",
    "\n",
    "render_template() is used to render an HTML file from the /templates folder and pass data to it."
   ]
  },
  {
   "cell_type": "code",
   "execution_count": null,
   "id": "19491a36-58fb-4bc2-9041-214b33bbf281",
   "metadata": {},
   "outputs": [],
   "source": [
    "from flask import render_template\n",
    "\n",
    "@app.route('/profile')\n",
    "def profile():\n",
    "    return render_template('profile.html', name='Sumit')\n"
   ]
  },
  {
   "cell_type": "markdown",
   "id": "69fa24e4-88ad-447f-8d9a-ceac0832b9e2",
   "metadata": {},
   "source": [
    "## Q5. Create a simple API. Use Postman to test it. Attach the screenshot of the output in the Jupyter Notebook."
   ]
  },
  {
   "cell_type": "code",
   "execution_count": null,
   "id": "484624a7-8ba5-44ff-b903-48cf90811247",
   "metadata": {},
   "outputs": [],
   "source": [
    "# app.py\n",
    "\n",
    "from flask import Flask, request, jsonify\n",
    "\n",
    "app = Flask(__name__)\n",
    "\n",
    "@app.route('/api/greet', methods=['POST'])\n",
    "def greet():\n",
    "    data = request.get_json()\n",
    "    name = data.get('name', 'Guest')\n",
    "    return jsonify({\"message\": f\"Hello, {name}!\"})\n",
    "\n",
    "if __name__ == '__main__':\n",
    "    app.run(debug=True)\n"
   ]
  }
 ],
 "metadata": {
  "kernelspec": {
   "display_name": "Python (tf_env)",
   "language": "python",
   "name": "tf_env"
  },
  "language_info": {
   "codemirror_mode": {
    "name": "ipython",
    "version": 3
   },
   "file_extension": ".py",
   "mimetype": "text/x-python",
   "name": "python",
   "nbconvert_exporter": "python",
   "pygments_lexer": "ipython3",
   "version": "3.12.7"
  }
 },
 "nbformat": 4,
 "nbformat_minor": 5
}
