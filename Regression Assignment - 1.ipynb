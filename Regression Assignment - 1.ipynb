{
 "cells": [
  {
   "cell_type": "markdown",
   "id": "7df5d0b6-8b91-46f4-ad18-1b043cb7826d",
   "metadata": {},
   "source": [
    "## Q1. Explain the difference between simple linear regression and multiple linear regression. Provide an example of each."
   ]
  },
  {
   "cell_type": "markdown",
   "id": "684ada53-b940-4c78-8310-9b1132b79c29",
   "metadata": {},
   "source": [
    "Answer:\n",
    "\n",
    "Simple Linear Regression involves one independent variable and one dependent variable. It models the relationship as a straight line, expressed as:\n",
    "\n",
    "\n",
    "Y = β0 + β1X + ε\n",
    "\n",
    "Example: Predicting a student's exam score based on hours studied.\n",
    "\n",
    "Multiple Linear Regression involves two or more independent variables predicting a dependent variable. The model becomes:\n",
    "\n",
    "Y = β0 + β1X1 + β2X2 + ... + βnXn + ε\n",
    "Example: Predicting house price based on area, number of rooms, and age of the house."
   ]
  },
  {
   "cell_type": "markdown",
   "id": "d8cddfe5-4426-47f5-8cb3-259fb8bbdd86",
   "metadata": {},
   "source": [
    "## Q2. Discuss the assumptions of linear regression. How can you check whether these assumptions hold in a given dataset?"
   ]
  },
  {
   "cell_type": "markdown",
   "id": "d6c84c1c-8c00-493f-8666-86e2d7114018",
   "metadata": {},
   "source": [
    "Answer:\n",
    "\n",
    "Linear regression has the following assumptions:\n",
    "\n",
    "Linearity: The relationship between the independent and dependent variables is linear.\n",
    "Check with scatterplots and residual plots.\n",
    "\n",
    "Independence: Observations are independent of each other.\n",
    "Check using the Durbin-Watson test (for time-series).\n",
    "\n",
    "Homoscedasticity: Constant variance of residuals.\n",
    "Check with residual vs. fitted value plots.\n",
    "\n",
    "Normality of residuals: Residuals should follow a normal distribution.\n",
    "Check using histograms or Q-Q plots.\n",
    "\n",
    "No multicollinearity: Independent variables should not be highly correlated.\n",
    "Check using correlation matrix or Variance Inflation Factor (VIF)."
   ]
  },
  {
   "cell_type": "markdown",
   "id": "7a48dee6-676e-4ee0-bf0a-918adc1cfa33",
   "metadata": {},
   "source": [
    "## Q3. How do you interpret the slope and intercept in a linear regression model? Provide an example using a real-world scenario."
   ]
  },
  {
   "cell_type": "markdown",
   "id": "5c9e6910-f4b6-4b7c-aefd-a7eae01cd532",
   "metadata": {},
   "source": [
    "Answer:\n",
    "\n",
    "Slope (β1): Indicates how much the dependent variable (Y) changes for every 1-unit increase in the independent variable (X).\n",
    "\n",
    "Intercept (β0): The predicted value of Y when all X variables are zero.\n",
    "\n",
    "Salary = 30000 + 5000 × (Years of Experience)\n",
    "\n",
    "Intercept = 30000: The base salary with 0 years of experience is ₹30,000.\n",
    "\n",
    "Slope = 5000: For each additional year of experience, the salary increases by ₹5,000."
   ]
  },
  {
   "cell_type": "markdown",
   "id": "6592c706-3ce0-42a4-ae63-01de1cf379f0",
   "metadata": {},
   "source": [
    "## Q4. Explain the concept of gradient descent. How is it used in machine learning?"
   ]
  },
  {
   "cell_type": "markdown",
   "id": "f7e36563-32e1-4dc4-b19f-0abc74891b82",
   "metadata": {},
   "source": [
    "Answer:\n",
    "\n",
    "Gradient Descent is an optimization algorithm used to minimize a cost function in machine learning models. It works by iteratively updating model parameters in the direction that reduces the loss.\n",
    "\n",
    "Steps:\n",
    "\n",
    "Start with initial values for model parameters.\n",
    "\n",
    "Compute the gradient (partial derivatives) of the loss function.\n",
    "\n",
    "Update parameters using:\n",
    "θ = θ - α × ∇J(θ)\n",
    "where α is the learning rate.\n",
    "\n",
    "Usage:\n",
    "In linear regression, it minimizes the Mean Squared Error (MSE) between actual and predicted values to find the best-fit line."
   ]
  },
  {
   "cell_type": "markdown",
   "id": "cdacf0ae-5e7b-43c5-ba6e-645f0fe191bb",
   "metadata": {},
   "source": [
    "## Q5. Describe the multiple linear regression model. How does it differ from simple linear regression?"
   ]
  },
  {
   "cell_type": "markdown",
   "id": "3e80dcc8-ba2c-47ee-aa2c-2e23e4006cf6",
   "metadata": {},
   "source": [
    "Answer:\n",
    "\n",
    "Multiple Linear Regression models the relationship between one dependent variable and multiple independent variables. It has the form:\n",
    "\n",
    "\n",
    "Y = β0 + β1X1 + β2X2 + ... + βnXn + ε\n",
    "Simple Linear Regression uses only one independent variable:\n",
    "\n",
    "\n",
    "Y = β0 + β1X + ε\n",
    "Difference:\n",
    "Multiple regression allows you to model more complex scenarios where the outcome depends on several factors, improving accuracy compared to simple regression."
   ]
  },
  {
   "cell_type": "markdown",
   "id": "84e82e2f-0315-4a49-9898-4c82b66e7b16",
   "metadata": {},
   "source": [
    "## Q6. Explain the concept of multicollinearity in multiple linear regression. How can you detect and address this issue?"
   ]
  },
  {
   "cell_type": "markdown",
   "id": "73d22c21-f429-4fa8-bd63-06c4717ab36e",
   "metadata": {},
   "source": [
    "Answer:\n",
    "\n",
    "Multicollinearity occurs when two or more independent variables are highly correlated. This makes it difficult to interpret the individual effect of each variable on the dependent variable.\n",
    "\n",
    "Detection:\n",
    "\n",
    "Use a correlation matrix to identify highly correlated variables.\n",
    "\n",
    "Calculate Variance Inflation Factor (VIF). A VIF > 5 (or 10) indicates multicollinearity.\n",
    "\n",
    "Solutions:\n",
    "\n",
    "Remove or combine correlated variables.\n",
    "\n",
    "Apply Principal Component Analysis (PCA).\n",
    "\n",
    "Use Ridge or Lasso regression to regularize the model."
   ]
  },
  {
   "cell_type": "markdown",
   "id": "ff7b59f5-4d0e-47d1-8d39-f279fb550e1d",
   "metadata": {},
   "source": [
    "## Q7. Describe the polynomial regression model. How is it different from linear regression?"
   ]
  },
  {
   "cell_type": "markdown",
   "id": "069b320b-d766-4350-9428-a60ebe25befa",
   "metadata": {},
   "source": [
    "Answer:\n",
    "\n",
    "Polynomial Regression is a form of regression where the relationship between the independent variable and the dependent variable is modeled as an nth degree polynomial:\n",
    "\n",
    "+ β1X + β2X² + β3X³ + ... + βnXⁿ + ε\n",
    "Difference from Linear Regression:\n",
    "\n",
    "Linear regression fits a straight line.\n",
    "\n",
    "Polynomial regression fits a curve to capture non-linear relationships.\n",
    "\n",
    "It helps when the data shows a curved trend instead of a straight line."
   ]
  },
  {
   "cell_type": "markdown",
   "id": "b86c12e0-29d5-43aa-ac8e-e832f31518e7",
   "metadata": {},
   "source": [
    "## Q8. What are the advantages and disadvantages of polynomial regression compared to linear regression? In what situations would you prefer to use polynomial regression?"
   ]
  },
  {
   "cell_type": "markdown",
   "id": "fe0857f7-012b-4322-becd-5f6a3ccf1e2a",
   "metadata": {},
   "source": [
    "Answer:\n",
    "\n",
    "Advantages:\n",
    "\n",
    "Captures non-linear relationships in the data.\n",
    "\n",
    "More flexible model for complex datasets.\n",
    "\n",
    "Disadvantages:\n",
    "\n",
    "Prone to overfitting, especially with high-degree polynomials.\n",
    "\n",
    "Less interpretable.\n",
    "\n",
    "Sensitive to outliers.\n",
    "\n",
    "When to use:\n",
    "\n",
    "Use polynomial regression when the data shows a clear curved trend that linear regression cannot model effectively."
   ]
  },
  {
   "cell_type": "code",
   "execution_count": null,
   "id": "aa5879dc-0d0d-4f3a-b638-51d276eeda1d",
   "metadata": {},
   "outputs": [],
   "source": []
  }
 ],
 "metadata": {
  "kernelspec": {
   "display_name": "Python (tf_env)",
   "language": "python",
   "name": "tf_env"
  },
  "language_info": {
   "codemirror_mode": {
    "name": "ipython",
    "version": 3
   },
   "file_extension": ".py",
   "mimetype": "text/x-python",
   "name": "python",
   "nbconvert_exporter": "python",
   "pygments_lexer": "ipython3",
   "version": "3.12.7"
  }
 },
 "nbformat": 4,
 "nbformat_minor": 5
}
