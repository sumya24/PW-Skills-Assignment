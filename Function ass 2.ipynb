{
 "cells": [
  {
   "cell_type": "markdown",
   "id": "9b9a60bd-881f-453b-9c61-fb8e1c298f7f",
   "metadata": {},
   "source": [
    "## Q1. Sort list of tuples based on integer value using lambda"
   ]
  },
  {
   "cell_type": "code",
   "execution_count": 3,
   "id": "24eda6dc-c795-42a5-97c1-eb7c07edbdce",
   "metadata": {},
   "outputs": [
    {
     "name": "stdout",
     "output_type": "stream",
     "text": [
      "[('Sachin Tendulkar', 34357), ('Ricky Ponting', 27483), ('Jack Kallis', 25534), ('Virat Kohli', 24936)]\n"
     ]
    }
   ],
   "source": [
    "players = [('Sachin Tendulkar', 34357), ('Ricky Ponting', 27483), \n",
    "          ('Jack Kallis', 25534), ('Virat Kohli', 24936)]\n",
    "\n",
    "# Sort by the integer value (second element of each tuple)\n",
    "sorted_players = sorted(players, key=lambda x: x[1], reverse=True)\n",
    "\n",
    "print(sorted_players)"
   ]
  },
  {
   "cell_type": "markdown",
   "id": "28eb9052-1695-499b-a648-921df5d5a286",
   "metadata": {},
   "source": [
    "## Q2. Squares of numbers using lambda and map"
   ]
  },
  {
   "cell_type": "code",
   "execution_count": 6,
   "id": "6499dd79-f6f5-4a0c-84ff-b85662a8b53d",
   "metadata": {},
   "outputs": [
    {
     "name": "stdout",
     "output_type": "stream",
     "text": [
      "[1, 4, 9, 16, 25, 36, 49, 64, 81, 100]\n"
     ]
    }
   ],
   "source": [
    "numbers = [1, 2, 3, 4, 5, 6, 7, 8, 9, 10]\n",
    "\n",
    "squares = list(map(lambda x: x**2, numbers))\n",
    "print(squares)"
   ]
  },
  {
   "cell_type": "markdown",
   "id": "60496005-bf76-43da-92ba-ffd5c910e591",
   "metadata": {},
   "source": [
    "## Q3. Convert list of integers to tuple of strings using map and lambda"
   ]
  },
  {
   "cell_type": "code",
   "execution_count": 9,
   "id": "a0418f9e-e219-4397-8e69-9cfd40a075b3",
   "metadata": {},
   "outputs": [
    {
     "name": "stdout",
     "output_type": "stream",
     "text": [
      "('1', '2', '3', '4', '5', '6', '7', '8', '9', '10')\n"
     ]
    }
   ],
   "source": [
    "numbers = [1, 2, 3, 4, 5, 6, 7, 8, 9, 10]\n",
    "\n",
    "string_tuple = tuple(map(lambda x: str(x), numbers))\n",
    "print(string_tuple)"
   ]
  },
  {
   "cell_type": "markdown",
   "id": "5fb7879e-5e63-4ea6-8fd7-c73fe9d31677",
   "metadata": {},
   "source": [
    "## Q4. Compute product of numbers 1 to 25 using reduce"
   ]
  },
  {
   "cell_type": "code",
   "execution_count": 12,
   "id": "6369532b-37f4-4c95-9e0b-0338358019ca",
   "metadata": {},
   "outputs": [
    {
     "name": "stdout",
     "output_type": "stream",
     "text": [
      "15511210043330985984000000\n"
     ]
    }
   ],
   "source": [
    "from functools import reduce\n",
    "\n",
    "numbers = list(range(1, 26))\n",
    "product = reduce(lambda x, y: x * y, numbers)\n",
    "\n",
    "print(product)"
   ]
  },
  {
   "cell_type": "markdown",
   "id": "310a93a0-8326-4d48-bc81-f111d5d76be5",
   "metadata": {},
   "source": [
    "## Q5. Filter numbers divisible by 2 and 3"
   ]
  },
  {
   "cell_type": "code",
   "execution_count": 15,
   "id": "b69d2982-8e8e-4116-a7a1-6164b76f2ebf",
   "metadata": {},
   "outputs": [
    {
     "name": "stdout",
     "output_type": "stream",
     "text": [
      "[6, 60, 90, 120]\n"
     ]
    }
   ],
   "source": [
    "numbers = [2, 3, 6, 9, 27, 60, 90, 120, 55, 46]\n",
    "\n",
    "filtered = list(filter(lambda x: x % 2 == 0 and x % 3 == 0, numbers))\n",
    "print(filtered)"
   ]
  },
  {
   "cell_type": "markdown",
   "id": "4c275eed-b797-4329-a8f9-2fc17da3b982",
   "metadata": {},
   "source": [
    "## Q6. Find palindromes using lambda and filter"
   ]
  },
  {
   "cell_type": "code",
   "execution_count": 18,
   "id": "8997c295-a744-4300-92c5-df21e4c0c74a",
   "metadata": {},
   "outputs": [
    {
     "name": "stdout",
     "output_type": "stream",
     "text": [
      "['php', 'aba', 'radar', 'level']\n"
     ]
    }
   ],
   "source": [
    "words = ['python', 'php', 'aba', 'radar', 'level']\n",
    "\n",
    "palindromes = list(filter(lambda word: word == word[::-1], words))\n",
    "print(palindromes)"
   ]
  },
  {
   "cell_type": "code",
   "execution_count": null,
   "id": "40e639bb-4d11-41a3-86f1-5ac543512982",
   "metadata": {},
   "outputs": [],
   "source": []
  }
 ],
 "metadata": {
  "kernelspec": {
   "display_name": "Python (tf_env)",
   "language": "python",
   "name": "tf_env"
  },
  "language_info": {
   "codemirror_mode": {
    "name": "ipython",
    "version": 3
   },
   "file_extension": ".py",
   "mimetype": "text/x-python",
   "name": "python",
   "nbconvert_exporter": "python",
   "pygments_lexer": "ipython3",
   "version": "3.12.7"
  }
 },
 "nbformat": 4,
 "nbformat_minor": 5
}
