{
 "cells": [
  {
   "cell_type": "markdown",
   "id": "ba0316c7-79e1-4e22-917f-a74018f359d1",
   "metadata": {},
   "source": [
    "## Q1: What are the Probability Mass Function (PMF) and Probability Density Function (PDF)? Explain with an example."
   ]
  },
  {
   "cell_type": "markdown",
   "id": "a991e696-07a2-4e54-80b1-dd84b1988304",
   "metadata": {},
   "source": [
    "Answer:\n",
    "\n",
    "Probability Mass Function (PMF):\n",
    "PMF is used for discrete random variables. It gives the probability that a discrete variable is exactly equal to some value.\n",
    "Example: For a fair dice, the PMF for getting a number from 1 to 6 is 1/6.\n",
    "\n",
    "Probability Density Function (PDF):\n",
    "PDF is used for continuous random variables. It does not give the probability directly, but the area under the curve of PDF over an interval gives the probability.\n",
    "Example: The height of people in a population follows a normal distribution, which is represented using a PDF."
   ]
  },
  {
   "cell_type": "markdown",
   "id": "93f23fff-38ca-44f4-8735-15ff4d8d8bc8",
   "metadata": {},
   "source": [
    "## Q2: What is Cumulative Density Function (CDF)? Explain with an example. Why CDF is used?"
   ]
  },
  {
   "cell_type": "markdown",
   "id": "df18178d-9942-4748-adf2-39e05918f004",
   "metadata": {},
   "source": [
    "Answer:\n",
    "\n",
    "Cumulative Density Function (CDF):\n",
    "The CDF gives the probability that a random variable X is less than or equal to a particular value x.\n",
    "Mathematically: F(x) = P(X ≤ x).\n",
    "\n",
    "Example:\n",
    "Suppose a continuous random variable X follows a normal distribution. If we calculate F(60), it gives the probability that X is less than or equal to 60.\n",
    "\n",
    "Why CDF is used?\n",
    "It helps to understand the probability distribution up to a certain point. It is used in statistical testing, percentiles, and confidence intervals."
   ]
  },
  {
   "cell_type": "markdown",
   "id": "5bdb982c-6c8d-4fec-8770-0c76f6e9a8fc",
   "metadata": {},
   "source": [
    "## Q3: What are some examples of situations where the normal distribution might be used as a model? Explain how the parameters of the normal distribution relate to the shape of the distribution."
   ]
  },
  {
   "cell_type": "markdown",
   "id": "db28698f-9914-4217-8c8b-c28bf84eee90",
   "metadata": {},
   "source": [
    "Answer:\n",
    "\n",
    "Examples where normal distribution is used:\n",
    "\n",
    "Heights of people\n",
    "\n",
    "IQ scores\n",
    "\n",
    "Blood pressure levels\n",
    "\n",
    "Measurement errors\n",
    "\n",
    "The parameters are:\n",
    "\n",
    "Mean (μ): Determines the center of the distribution.\n",
    "\n",
    "Standard Deviation (σ): Determines the spread or width. A higher σ spreads the curve wider."
   ]
  },
  {
   "cell_type": "markdown",
   "id": "70f70828-62ed-4355-becb-8874f4450402",
   "metadata": {},
   "source": [
    "## Q4: Explain the importance of Normal Distribution. Give a few real-life examples of Normal Distribution."
   ]
  },
  {
   "cell_type": "markdown",
   "id": "99b1bd52-e348-4a11-a8d6-b0f7f4e87337",
   "metadata": {},
   "source": [
    "Answer:\n",
    "\n",
    "Importance:\n",
    "\n",
    "It appears naturally in many real-world situations.\n",
    "\n",
    "Many statistical methods assume normality.\n",
    "\n",
    "Central Limit Theorem shows sample means are normally distributed even if the original data is not.\n",
    "\n",
    "Real-life examples:\n",
    "\n",
    "Test scores in a large exam\n",
    "\n",
    "Heights and weights of individuals\n",
    "\n",
    "Measurement errors in scientific experiments"
   ]
  },
  {
   "cell_type": "markdown",
   "id": "230c53db-c37b-4c29-80fb-8405f3f5d1ae",
   "metadata": {},
   "source": [
    "## Q5: What is Bernoulli Distribution? Give an Example. What is the difference between Bernoulli Distribution and Binomial Distribution?"
   ]
  },
  {
   "cell_type": "markdown",
   "id": "8664ee62-33de-44d6-a874-04005769b023",
   "metadata": {},
   "source": [
    "Answer:\n",
    "\n",
    "Bernoulli Distribution:\n",
    "It is a distribution for a single trial that results in either success (1) or failure (0).\n",
    "Example: Tossing a coin once (Heads = 1, Tails = 0).\n",
    "\n",
    "Difference:\n",
    "\n",
    "Bernoulli is for a single trial.\n",
    "\n",
    "Binomial is for n independent Bernoulli trials.\n",
    "\n"
   ]
  },
  {
   "cell_type": "markdown",
   "id": "634808f4-ccbb-4e42-ad10-dab4ec17c87c",
   "metadata": {},
   "source": [
    "## Q6: Consider a dataset with a mean of 50 and a standard deviation of 10. If we assume that the dataset is normally distributed, what is the probability that a randomly selected observation will be greater than 60? Use the appropriate formula and show your calculations."
   ]
  },
  {
   "cell_type": "markdown",
   "id": "adcea3cc-0bf0-4b23-9f4b-c5b62e0ef202",
   "metadata": {},
   "source": [
    "Z = (X - μ) / σ\n",
    "Z = (60 - 50) / 10 = 1\n"
   ]
  },
  {
   "cell_type": "markdown",
   "id": "c7fa0339-730f-493d-bd12-b7a1cb0a95b9",
   "metadata": {},
   "source": [
    "P(Z > 1) = 1 - P(Z ≤ 1) = 1 - 0.8413 = 0.1587\n",
    "So, the probability is 0.1587 or 15.87%."
   ]
  },
  {
   "cell_type": "markdown",
   "id": "6d5ec4cf-3689-40d7-8627-066993239a44",
   "metadata": {},
   "source": [
    "## Q7: Explain Uniform Distribution with an example."
   ]
  },
  {
   "cell_type": "markdown",
   "id": "e1746a80-a9bc-46cb-ba0c-934fe849af09",
   "metadata": {},
   "source": [
    "Answer:\n",
    "\n",
    "Uniform distribution is a type of probability distribution where every outcome has an equal probability.\n",
    "\n",
    "Example:\n",
    "When rolling a fair dice, each number from 1 to 6 has an equal probability of 1/6.\n",
    "\n",
    "In continuous form, if a number is chosen between 0 and 1, the probability of it falling between 0.2 and 0.5 is just the length of the interval (0.3), because all values are equally likely."
   ]
  },
  {
   "cell_type": "markdown",
   "id": "477bbaf1-ce38-4beb-a598-180e9d792ad2",
   "metadata": {},
   "source": [
    "## Q8: What is the z-score? State the importance of the z-score."
   ]
  },
  {
   "cell_type": "markdown",
   "id": "73556060-b3b2-4eb4-8877-d616fe9c0550",
   "metadata": {},
   "source": [
    "Answer:\n",
    "\n",
    "Z-score is the number of standard deviations a data point is from the mean.\n",
    "\n",
    "Z = (X - μ) / σ\n",
    "Importance:\n",
    "\n",
    "Helps standardize data.\n",
    "\n",
    "Used to compare data from different distributions.\n",
    "\n",
    "Used in hypothesis testing."
   ]
  },
  {
   "cell_type": "markdown",
   "id": "03bd532f-12c2-4d7e-9ac7-f18e18d6c9ed",
   "metadata": {},
   "source": [
    "## Q9: What is Central Limit Theorem? State the significance of the Central Limit Theorem."
   ]
  },
  {
   "cell_type": "markdown",
   "id": "232c867e-f3fb-487f-beec-6fb7625d84db",
   "metadata": {},
   "source": [
    "Answer:\n",
    "\n",
    "Central Limit Theorem (CLT):\n",
    "It states that the sampling distribution of the sample mean approaches a normal distribution as the sample size becomes large (usually n ≥ 30), regardless of the original population distribution.\n",
    "\n",
    "Significance:\n",
    "\n",
    "Allows us to make inferences about population using sample data.\n",
    "\n",
    "Enables hypothesis testing and confidence interval estimation even if data is not normally distributed."
   ]
  },
  {
   "cell_type": "markdown",
   "id": "84ac4146-4795-4f9b-a336-90a20f6943ba",
   "metadata": {},
   "source": [
    "## Q10: State the assumptions of the Central Limit Theorem."
   ]
  },
  {
   "cell_type": "markdown",
   "id": "33fe7608-3cf0-4880-b79c-4d86656c3aa7",
   "metadata": {},
   "source": [
    "Answer:\n",
    "\n",
    "Samples must be independent.\n",
    "\n",
    "Sample size should be sufficiently large (typically n ≥ 30).\n",
    "\n",
    "Data should be drawn from the same population.\n",
    "\n",
    "Population should have finite variance."
   ]
  },
  {
   "cell_type": "code",
   "execution_count": null,
   "id": "63a58b1c-2413-4256-9603-b97f9fc9d42f",
   "metadata": {},
   "outputs": [],
   "source": []
  }
 ],
 "metadata": {
  "kernelspec": {
   "display_name": "Python (tf_env)",
   "language": "python",
   "name": "tf_env"
  },
  "language_info": {
   "codemirror_mode": {
    "name": "ipython",
    "version": 3
   },
   "file_extension": ".py",
   "mimetype": "text/x-python",
   "name": "python",
   "nbconvert_exporter": "python",
   "pygments_lexer": "ipython3",
   "version": "3.12.7"
  }
 },
 "nbformat": 4,
 "nbformat_minor": 5
}
