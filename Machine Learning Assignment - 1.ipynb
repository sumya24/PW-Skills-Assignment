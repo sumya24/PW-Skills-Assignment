{
 "cells": [
  {
   "cell_type": "markdown",
   "id": "b5bd3b1e-6cc3-44f9-a590-749dcf2b1f3c",
   "metadata": {},
   "source": [
    "## Q1: Explain the following with an example:"
   ]
  },
  {
   "cell_type": "markdown",
   "id": "85f7bfb0-3da8-482f-91af-850e46340f6b",
   "metadata": {},
   "source": [
    "(a) Artificial Intelligence (AI):Artificial Intelligence is the simulation of human intelligence in machines. It allows computers to perform tasks like reasoning, learning, problem-solving, and decision-making.\n",
    "\n",
    "Example:\n",
    "AI in virtual assistants like Siri or Alexa that can understand voice commands and respond intelligently."
   ]
  },
  {
   "cell_type": "markdown",
   "id": "2aab07c3-7aee-405d-bcd1-bfd0d61c20c6",
   "metadata": {},
   "source": [
    "b) Machine Learning (ML):\n",
    "Machine Learning is a subset of AI that enables machines to learn from data and improve from experience without being explicitly programmed.\n",
    "\n",
    "Example:\n",
    "A spam filter that learns to identify spam emails based on historical email data."
   ]
  },
  {
   "cell_type": "markdown",
   "id": "2c0197a4-53c0-43f2-a553-3276db7a377b",
   "metadata": {},
   "source": [
    "(c) Deep Learning (DL):\n",
    "Deep Learning is a subset of Machine Learning that uses neural networks with many layers to learn complex patterns in data.\n",
    "\n",
    "Example:\n",
    "Face recognition systems like those in smartphones use deep learning to identify faces.\n",
    "\n"
   ]
  },
  {
   "cell_type": "markdown",
   "id": "09a2d827-fb44-463b-9c59-f71714ef8a5a",
   "metadata": {},
   "source": [
    "## Q2: What is supervised learning? List some examples of supervised learning."
   ]
  },
  {
   "cell_type": "markdown",
   "id": "ec4c206c-277f-4ecd-b130-45b37a39158c",
   "metadata": {},
   "source": [
    "Supervised Learning is a type of machine learning where the model is trained using labeled data, i.e., input-output pairs are known.\n",
    "\n",
    "Examples of Supervised Learning:\n",
    "\n",
    "Email spam detection\n",
    "\n",
    "House price prediction\n",
    "\n",
    "Credit card fraud detection\n",
    "\n",
    "Image classification (e.g., cat vs dog)"
   ]
  },
  {
   "cell_type": "markdown",
   "id": "c2ddf8cd-b871-42cd-902f-a199eee5ac71",
   "metadata": {},
   "source": [
    "## Q3: What is unsupervised learning? List some examples of unsupervised learning."
   ]
  },
  {
   "cell_type": "markdown",
   "id": "c7e4bcbe-c1f1-46c6-b17a-197707e0c923",
   "metadata": {},
   "source": [
    "Unsupervised Learning is a type of machine learning where the model learns patterns from unlabeled data (no output labels).\n",
    "\n",
    "Examples of Unsupervised Learning:\n",
    "\n",
    "Customer segmentation\n",
    "\n",
    "Market basket analysis\n",
    "\n",
    "Anomaly detection\n",
    "\n",
    "Topic modeling"
   ]
  },
  {
   "cell_type": "markdown",
   "id": "e332be2f-ab76-43cc-8cdc-4e2b6ea9c13a",
   "metadata": {},
   "source": [
    "## Q4: What is the difference between AI, ML, DL, and DS?"
   ]
  },
  {
   "cell_type": "markdown",
   "id": "dc3fdb42-e68f-46cb-8796-21b2921a382c",
   "metadata": {},
   "source": [
    "Artificial Intelligence (AI)\n",
    "AI is the broadest field.\n",
    "\n",
    "It refers to machines or systems that mimic human intelligence, such as decision-making, problem-solving, learning, and language understanding.\n",
    "\n",
    "Example: A robot that navigates a maze or a chatbot like Siri.\n",
    "\n",
    "Machine Learning (ML)\n",
    "ML is a subset of AI.\n",
    "\n",
    "It allows machines to learn from data and improve automatically without being explicitly programmed.\n",
    "\n",
    "Example: A spam filter that learns which emails are spam based on past examples.\n",
    "\n",
    "Deep Learning (DL)\n",
    "DL is a subset of ML.\n",
    "\n",
    "It uses neural networks with many layers to learn complex patterns in large datasets.\n",
    "\n",
    "It is very powerful in handling image recognition, speech recognition, etc.\n",
    "\n",
    "Example: Self-driving cars recognizing pedestrians and traffic signs using cameras.\n",
    "\n",
    "Data Science (DS)\n",
    "DS is a multidisciplinary field.\n",
    "\n",
    "It involves collecting, cleaning, analyzing, and visualizing data to extract insights and support decision-making.\n",
    "\n",
    "It uses tools from AI, ML, statistics, and big data.\n",
    "\n",
    "Example: Analyzing customer behavior to improve marketing strategies.\n",
    "\n"
   ]
  },
  {
   "cell_type": "markdown",
   "id": "016012cd-dbeb-4934-9f6a-8375628bac56",
   "metadata": {},
   "source": [
    "## Q5: What are the main differences between supervised, unsupervised, and semi-supervised learning?"
   ]
  },
  {
   "cell_type": "markdown",
   "id": "04946ec1-623f-4308-9945-5e311de933cc",
   "metadata": {},
   "source": [
    " Supervised Learning:\n",
    "Labeled Data: It uses data where both the input and the correct output (label) are known.\n",
    "\n",
    "Goal: The model learns to map inputs to known outputs.\n",
    "\n",
    "Used For: Classification and regression tasks.\n",
    "\n",
    "Example: Predicting house prices based on labeled data like area, location, and price.\n",
    "\n",
    " Unsupervised Learning:\n",
    "Unlabeled Data: The model is given only inputs, without any corresponding labels or outputs.\n",
    "\n",
    "Goal: To find hidden patterns, groupings, or structures in the data.\n",
    "\n",
    "Used For: Clustering and dimensionality reduction.\n",
    "\n",
    "Example: Grouping customers based on shopping behavior without knowing who they are.\n",
    "\n",
    " Semi-Supervised Learning:\n",
    "Mix of Labeled and Unlabeled Data: It uses a small amount of labeled data and a large amount of unlabeled data.\n",
    "\n",
    "Goal: To improve learning accuracy by leveraging both types of data.\n",
    "\n",
    "Used For: When labeling data is expensive or time-consuming.\n",
    "\n",
    "Example: Identifying rare diseases where only a few medical records are labeled, and many are not."
   ]
  },
  {
   "cell_type": "markdown",
   "id": "949923cc-6b89-4079-858d-b8ee39baf05d",
   "metadata": {},
   "source": [
    "## Q6: What is train, test, and validation split? Explain the importance of each term."
   ]
  },
  {
   "cell_type": "markdown",
   "id": "714517d1-554e-404c-b42d-4ee9492f990e",
   "metadata": {},
   "source": [
    "Training Set: Used to train the model (e.g., 70% of the data).\n",
    "\n",
    "Validation Set: Used to tune hyperparameters and validate performance (e.g., 15%).\n",
    "\n",
    "Test Set: Used to evaluate the final model's performance (e.g., 15%).\n",
    "\n",
    "Importance:\n",
    "\n",
    "Helps prevent overfitting.\n",
    "\n",
    "Ensures model generalization to new data.\n",
    "\n",
    "Separates training and evaluation to get realistic performance."
   ]
  },
  {
   "cell_type": "markdown",
   "id": "3f99dab5-ac11-4f67-9af4-c69f89c0ff69",
   "metadata": {},
   "source": [
    "## Q7: How can unsupervised learning be used in anomaly detection?"
   ]
  },
  {
   "cell_type": "markdown",
   "id": "fd77c6a0-d4b9-4d86-8b40-b16be89b3988",
   "metadata": {},
   "source": [
    "Unsupervised learning can find patterns in normal data and detect deviations as anomalies. It doesn’t require labeled anomalies.\n",
    "\n",
    "Example:\n",
    "\n",
    "Credit card fraud detection using clustering\n",
    "\n",
    "Server monitoring to find abnormal usage\n",
    "\n"
   ]
  },
  {
   "cell_type": "markdown",
   "id": "f999c46c-da1b-4c1d-b0de-c7a535dcbee8",
   "metadata": {},
   "source": [
    "## Q8: List down some commonly used supervised learning algorithms and unsupervised learning algorithms."
   ]
  },
  {
   "cell_type": "markdown",
   "id": "08f99b0d-b343-4d1e-a553-c40564919411",
   "metadata": {},
   "source": [
    "Supervised Learning Algorithms:\n",
    "\n",
    "      Linear Regression\n",
    "\n",
    "      Logistic Regression\n",
    "\n",
    "      Decision Trees\n",
    "\n",
    "      Random Forest\n",
    "\n",
    "      Support Vector Machines (SVM)\n",
    "\n",
    "      k-Nearest Neighbors (k-NN)\n",
    "\n",
    "      Neural Networks\n",
    "\n",
    "Unsupervised Learning Algorithms:\n",
    "\n",
    "      K-Means Clustering\n",
    "\n",
    "      Hierarchical Clustering\n",
    "\n",
    "      DBSCAN\n",
    "\n",
    "      Principal Component Analysis (PCA)\n",
    "\n",
    "      Autoencoders\n",
    "\n",
    "      Apriori Algorithm"
   ]
  },
  {
   "cell_type": "code",
   "execution_count": null,
   "id": "42a43d5e-c826-4b97-9aad-c0fa6915215d",
   "metadata": {},
   "outputs": [],
   "source": []
  }
 ],
 "metadata": {
  "kernelspec": {
   "display_name": "Python (tf_env)",
   "language": "python",
   "name": "tf_env"
  },
  "language_info": {
   "codemirror_mode": {
    "name": "ipython",
    "version": 3
   },
   "file_extension": ".py",
   "mimetype": "text/x-python",
   "name": "python",
   "nbconvert_exporter": "python",
   "pygments_lexer": "ipython3",
   "version": "3.12.7"
  }
 },
 "nbformat": 4,
 "nbformat_minor": 5
}
