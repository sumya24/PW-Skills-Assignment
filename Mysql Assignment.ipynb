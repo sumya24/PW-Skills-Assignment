{
 "cells": [
  {
   "cell_type": "markdown",
   "id": "7f77cae8-b3a2-4bca-b983-e2935d9430da",
   "metadata": {},
   "source": [
    "## Q1. What is a database? Differentiate between SQL and NoSQL databases."
   ]
  },
  {
   "cell_type": "markdown",
   "id": "3e07f23f-5cf4-4c1d-8f6e-f20fc31483ca",
   "metadata": {},
   "source": [
    "Answer:\n",
    "\n",
    "A database is an organized collection of data that can be easily accessed, managed, and updated. It helps in storing data efficiently for retrieval and manipulation.\n",
    "\n",
    "Difference between SQL and NoSQL databases:\n",
    "SQL databases are relational, meaning data is stored in tables with rows and columns.\n",
    "NoSQL databases are non-relational and store data in flexible formats like documents, key-value pairs, or graphs.\n",
    "\n",
    "SQL databases use structured query language (SQL) for defining and manipulating data.\n",
    "NoSQL databases use various query methods depending on the type (e.g., JSON for document-based).\n",
    "\n",
    "SQL databases are schema-based (fixed structure), while NoSQL databases are schema-less (dynamic).\n",
    "\n",
    "Examples of SQL: MySQL, PostgreSQL, Oracle\n",
    "Examples of NoSQL: MongoDB, Cassandra, Redis\n",
    "\n"
   ]
  },
  {
   "cell_type": "markdown",
   "id": "a65780c3-e8a1-4fc4-bef2-2a3fb033b422",
   "metadata": {},
   "source": [
    "## Q2. What is DDL? Explain why CREATE, DROP, ALTER, and TRUNCATE are used with an example."
   ]
  },
  {
   "cell_type": "code",
   "execution_count": null,
   "id": "e8698f72-16fb-434d-af1c-ba72064344a4",
   "metadata": {},
   "outputs": [],
   "source": [
    "\n",
    "## DDL (Data Definition Language) is used to define or modify the structure of database objects like tables, schemas, and indexes.\n",
    "\n",
    "## Common DDL commands:\n",
    "## CREATE: Used to create new tables or databases.\n",
    "\n",
    "CREATE TABLE students (\n",
    "    id INT PRIMARY KEY,\n",
    "    name VARCHAR(100),\n",
    "    age INT\n",
    ");\n",
    "## DROP: Deletes an entire table or database.\n",
    "\n",
    "\n",
    "DROP TABLE students;\n",
    "## ALTER: Modifies the structure of an existing table.\n",
    "\n",
    "\n",
    "ALTER TABLE students ADD COLUMN email VARCHAR(100);\n",
    "## TRUNCATE: Deletes all records from a table but keeps the structure.\n",
    "\n",
    "\n",
    "TRUNCATE TABLE students;"
   ]
  },
  {
   "cell_type": "markdown",
   "id": "28dfe700-6ebf-4e5f-80e9-1ef656c436ab",
   "metadata": {},
   "source": [
    "## Q3. What is DML? Explain INSERT, UPDATE, and DELETE with an example."
   ]
  },
  {
   "cell_type": "markdown",
   "id": "33b5a411-1c88-48b6-a052-9691b5c2adae",
   "metadata": {},
   "source": [
    "Answer:\n",
    "\n",
    "DML (Data Manipulation Language) is used to manipulate data stored in tables.\n",
    "\n",
    "Common DML commands:\n",
    "INSERT: Adds new data into a table.\n",
    "\n",
    "\n",
    "INSERT INTO students (id, name, age) VALUES (1, 'Alice', 20);\n",
    "UPDATE: Modifies existing data in a table.\n",
    "\n",
    "\n",
    "UPDATE students SET age = 21 WHERE id = 1;\n",
    "DELETE: Removes records from a table.\n",
    "\n",
    "\n",
    "DELETE FROM students WHERE id = 1;"
   ]
  },
  {
   "cell_type": "markdown",
   "id": "86eeca45-dcc4-4535-aa4c-a4b5695c8656",
   "metadata": {},
   "source": [
    "## Q4. What is DQL? Explain SELECT with an example."
   ]
  },
  {
   "cell_type": "markdown",
   "id": "ba16ea51-3db4-433b-a4be-1d003be8e1f4",
   "metadata": {},
   "source": [
    "Answer:\n",
    "\n",
    "DQL (Data Query Language) is used to fetch data from the database.\n",
    "\n",
    "The main DQL command is SELECT.\n",
    "\n",
    "Example:\n",
    "\n",
    "SELECT name, age FROM students WHERE age > 18;"
   ]
  },
  {
   "cell_type": "markdown",
   "id": "d97c3f3a-e885-4f31-9cee-872bad9c45f1",
   "metadata": {},
   "source": [
    "## Q5. Explain Primary Key and Foreign Key."
   ]
  },
  {
   "cell_type": "markdown",
   "id": "033d8358-8035-4b70-bdbe-0e515fbc2d42",
   "metadata": {},
   "source": [
    "Answer:\n",
    "\n",
    "A Primary Key is a column (or set of columns) that uniquely identifies each record in a table. It must be unique and cannot be NULL.\n",
    "\n",
    "A Foreign Key is a column in one table that refers to the Primary Key of another table. It creates a relationship between two tables.\n",
    "\n",
    "Example:\n",
    "\n",
    "\n",
    "CREATE TABLE students (\n",
    "    student_id INT PRIMARY KEY,\n",
    "    name VARCHAR(100)\n",
    ");\n",
    "\n",
    "CREATE TABLE marks (\n",
    "    mark_id INT PRIMARY KEY,\n",
    "    student_id INT,\n",
    "    score INT,\n",
    "    FOREIGN KEY (student_id) REFERENCES students(student_id)\n",
    ");"
   ]
  },
  {
   "cell_type": "markdown",
   "id": "c8557d69-9ca4-44b2-b4cf-617f23f918b2",
   "metadata": {},
   "source": [
    "## Q6. Write a Python code to connect MySQL to Python. Explain the cursor() and execute() method."
   ]
  },
  {
   "cell_type": "code",
   "execution_count": null,
   "id": "83e20f30-f0ee-499c-91f2-40f47b8410f4",
   "metadata": {},
   "outputs": [],
   "source": [
    "import mysql.connector\n",
    "\n",
    "# Connect to the database\n",
    "mydb = mysql.connector.connect(\n",
    "    host=\"localhost\",\n",
    "    user=\"root\",\n",
    "    password=\"your_password\",\n",
    "    database=\"your_database\"\n",
    ")\n",
    "\n",
    "# Create a cursor\n",
    "cursor = mydb.cursor()\n",
    "\n",
    "# Execute an SQL query\n",
    "cursor.execute(\"SELECT * FROM students\")\n",
    "\n",
    "# Fetch and display results\n",
    "for row in cursor.fetchall():\n",
    "    print(row)\n",
    "\n",
    "# Close the connection\n",
    "\n",
    "mydb.close()\n"
   ]
  },
  {
   "cell_type": "markdown",
   "id": "2e185e40-1f62-4584-9914-4d5df4586427",
   "metadata": {},
   "source": [
    "## Q7. Give the order of execution of SQL clauses in an SQL query."
   ]
  },
  {
   "cell_type": "markdown",
   "id": "ddc63bbe-0e14-4e1a-abd8-b54f4ee51a06",
   "metadata": {},
   "source": [
    "Answer:\n",
    "\n",
    "The order of execution of SQL clauses is:\n",
    "\n",
    "FROM\n",
    "\n",
    "JOIN\n",
    "\n",
    "WHERE\n",
    "\n",
    "GROUP BY\n",
    "\n",
    "HAVING\n",
    "\n",
    "SELECT\n",
    "\n",
    "ORDER BY\n",
    "\n",
    "LIMIT"
   ]
  },
  {
   "cell_type": "code",
   "execution_count": 6,
   "id": "bfd06bba-2df8-4e3a-8a03-7a7bb815ff4f",
   "metadata": {},
   "outputs": [
    {
     "name": "stdout",
     "output_type": "stream",
     "text": [
      "Defaulting to user installation because normal site-packages is not writeable\n",
      "Collecting mysql-connector-python\n",
      "  Downloading mysql_connector_python-9.2.0-cp312-cp312-win_amd64.whl.metadata (6.2 kB)\n",
      "Downloading mysql_connector_python-9.2.0-cp312-cp312-win_amd64.whl (16.1 MB)\n",
      "   ---------------------------------------- 0.0/16.1 MB ? eta -:--:--\n",
      "    --------------------------------------- 0.3/16.1 MB ? eta -:--:--\n",
      "   - -------------------------------------- 0.5/16.1 MB 2.4 MB/s eta 0:00:07\n",
      "   -- ------------------------------------- 1.0/16.1 MB 2.0 MB/s eta 0:00:08\n",
      "   --- ------------------------------------ 1.3/16.1 MB 1.7 MB/s eta 0:00:09\n",
      "   --- ------------------------------------ 1.3/16.1 MB 1.7 MB/s eta 0:00:09\n",
      "   --- ------------------------------------ 1.6/16.1 MB 1.4 MB/s eta 0:00:11\n",
      "   --- ------------------------------------ 1.6/16.1 MB 1.4 MB/s eta 0:00:11\n",
      "   ---- ----------------------------------- 1.8/16.1 MB 1.1 MB/s eta 0:00:13\n",
      "   ----- ---------------------------------- 2.1/16.1 MB 1.0 MB/s eta 0:00:14\n",
      "   ----- ---------------------------------- 2.1/16.1 MB 1.0 MB/s eta 0:00:14\n",
      "   ----- ---------------------------------- 2.4/16.1 MB 1.0 MB/s eta 0:00:14\n",
      "   ------ --------------------------------- 2.6/16.1 MB 980.6 kB/s eta 0:00:14\n",
      "   ------ --------------------------------- 2.6/16.1 MB 980.6 kB/s eta 0:00:14\n",
      "   ------- -------------------------------- 2.9/16.1 MB 981.1 kB/s eta 0:00:14\n",
      "   ------- -------------------------------- 2.9/16.1 MB 981.1 kB/s eta 0:00:14\n",
      "   ------- -------------------------------- 3.1/16.1 MB 932.0 kB/s eta 0:00:14\n",
      "   -------- ------------------------------- 3.4/16.1 MB 902.9 kB/s eta 0:00:15\n",
      "   -------- ------------------------------- 3.4/16.1 MB 902.9 kB/s eta 0:00:15\n",
      "   -------- ------------------------------- 3.4/16.1 MB 902.9 kB/s eta 0:00:15\n",
      "   --------- ------------------------------ 3.7/16.1 MB 848.6 kB/s eta 0:00:15\n",
      "   --------- ------------------------------ 3.7/16.1 MB 848.6 kB/s eta 0:00:15\n",
      "   --------- ------------------------------ 3.9/16.1 MB 815.6 kB/s eta 0:00:15\n",
      "   --------- ------------------------------ 3.9/16.1 MB 815.6 kB/s eta 0:00:15\n",
      "   --------- ------------------------------ 3.9/16.1 MB 815.6 kB/s eta 0:00:15\n",
      "   ---------- ----------------------------- 4.2/16.1 MB 779.1 kB/s eta 0:00:16\n",
      "   ---------- ----------------------------- 4.2/16.1 MB 779.1 kB/s eta 0:00:16\n",
      "   ----------- ---------------------------- 4.5/16.1 MB 764.8 kB/s eta 0:00:16\n",
      "   ----------- ---------------------------- 4.7/16.1 MB 764.7 kB/s eta 0:00:15\n",
      "   ----------- ---------------------------- 4.7/16.1 MB 764.7 kB/s eta 0:00:15\n",
      "   ------------ --------------------------- 5.0/16.1 MB 755.0 kB/s eta 0:00:15\n",
      "   ------------ --------------------------- 5.0/16.1 MB 755.0 kB/s eta 0:00:15\n",
      "   ------------- -------------------------- 5.2/16.1 MB 753.6 kB/s eta 0:00:15\n",
      "   ------------- -------------------------- 5.5/16.1 MB 754.0 kB/s eta 0:00:15\n",
      "   ------------- -------------------------- 5.5/16.1 MB 754.0 kB/s eta 0:00:15\n",
      "   -------------- ------------------------- 5.8/16.1 MB 762.6 kB/s eta 0:00:14\n",
      "   -------------- ------------------------- 5.8/16.1 MB 762.6 kB/s eta 0:00:14\n",
      "   -------------- ------------------------- 6.0/16.1 MB 756.3 kB/s eta 0:00:14\n",
      "   --------------- ------------------------ 6.3/16.1 MB 753.7 kB/s eta 0:00:14\n",
      "   ---------------- ----------------------- 6.6/16.1 MB 762.6 kB/s eta 0:00:13\n",
      "   ---------------- ----------------------- 6.6/16.1 MB 762.6 kB/s eta 0:00:13\n",
      "   ---------------- ----------------------- 6.8/16.1 MB 768.2 kB/s eta 0:00:13\n",
      "   ----------------- ---------------------- 7.1/16.1 MB 777.5 kB/s eta 0:00:12\n",
      "   ------------------ --------------------- 7.6/16.1 MB 805.8 kB/s eta 0:00:11\n",
      "   ------------------- -------------------- 7.9/16.1 MB 819.1 kB/s eta 0:00:11\n",
      "   -------------------- ------------------- 8.1/16.1 MB 826.4 kB/s eta 0:00:10\n",
      "   -------------------- ------------------- 8.4/16.1 MB 838.9 kB/s eta 0:00:10\n",
      "   --------------------- ------------------ 8.7/16.1 MB 852.2 kB/s eta 0:00:09\n",
      "   ---------------------- ----------------- 8.9/16.1 MB 853.0 kB/s eta 0:00:09\n",
      "   ---------------------- ----------------- 8.9/16.1 MB 853.0 kB/s eta 0:00:09\n",
      "   ---------------------- ----------------- 9.2/16.1 MB 851.4 kB/s eta 0:00:09\n",
      "   ---------------------- ----------------- 9.2/16.1 MB 851.4 kB/s eta 0:00:09\n",
      "   ----------------------- ---------------- 9.4/16.1 MB 843.7 kB/s eta 0:00:08\n",
      "   ----------------------- ---------------- 9.4/16.1 MB 843.7 kB/s eta 0:00:08\n",
      "   ------------------------ --------------- 9.7/16.1 MB 831.9 kB/s eta 0:00:08\n",
      "   ------------------------ --------------- 9.7/16.1 MB 831.9 kB/s eta 0:00:08\n",
      "   ------------------------ --------------- 10.0/16.1 MB 826.6 kB/s eta 0:00:08\n",
      "   ------------------------- -------------- 10.2/16.1 MB 820.5 kB/s eta 0:00:08\n",
      "   ------------------------- -------------- 10.2/16.1 MB 820.5 kB/s eta 0:00:08\n",
      "   ------------------------- -------------- 10.2/16.1 MB 820.5 kB/s eta 0:00:08\n",
      "   -------------------------- ------------- 10.5/16.1 MB 801.9 kB/s eta 0:00:07\n",
      "   -------------------------- ------------- 10.5/16.1 MB 801.9 kB/s eta 0:00:07\n",
      "   -------------------------- ------------- 10.5/16.1 MB 801.9 kB/s eta 0:00:07\n",
      "   -------------------------- ------------- 10.7/16.1 MB 785.8 kB/s eta 0:00:07\n",
      "   -------------------------- ------------- 10.7/16.1 MB 785.8 kB/s eta 0:00:07\n",
      "   -------------------------- ------------- 10.7/16.1 MB 785.8 kB/s eta 0:00:07\n",
      "   -------------------------- ------------- 10.7/16.1 MB 785.8 kB/s eta 0:00:07\n",
      "   --------------------------- ------------ 11.0/16.1 MB 760.1 kB/s eta 0:00:07\n",
      "   --------------------------- ------------ 11.0/16.1 MB 760.1 kB/s eta 0:00:07\n",
      "   --------------------------- ------------ 11.0/16.1 MB 760.1 kB/s eta 0:00:07\n",
      "   ---------------------------- ----------- 11.3/16.1 MB 741.0 kB/s eta 0:00:07\n",
      "   ---------------------------- ----------- 11.3/16.1 MB 741.0 kB/s eta 0:00:07\n",
      "   ---------------------------- ----------- 11.3/16.1 MB 741.0 kB/s eta 0:00:07\n",
      "   ---------------------------- ----------- 11.3/16.1 MB 741.0 kB/s eta 0:00:07\n",
      "   ---------------------------- ----------- 11.3/16.1 MB 741.0 kB/s eta 0:00:07\n",
      "   ---------------------------- ----------- 11.5/16.1 MB 710.8 kB/s eta 0:00:07\n",
      "   ---------------------------- ----------- 11.5/16.1 MB 710.8 kB/s eta 0:00:07\n",
      "   ---------------------------- ----------- 11.5/16.1 MB 710.8 kB/s eta 0:00:07\n",
      "   ----------------------------- ---------- 11.8/16.1 MB 692.5 kB/s eta 0:00:07\n",
      "   ----------------------------- ---------- 11.8/16.1 MB 692.5 kB/s eta 0:00:07\n",
      "   ----------------------------- ---------- 11.8/16.1 MB 692.5 kB/s eta 0:00:07\n",
      "   ----------------------------- ---------- 11.8/16.1 MB 692.5 kB/s eta 0:00:07\n",
      "   ----------------------------- ---------- 12.1/16.1 MB 676.5 kB/s eta 0:00:06\n",
      "   ----------------------------- ---------- 12.1/16.1 MB 676.5 kB/s eta 0:00:06\n",
      "   ----------------------------- ---------- 12.1/16.1 MB 676.5 kB/s eta 0:00:06\n",
      "   ------------------------------ --------- 12.3/16.1 MB 667.6 kB/s eta 0:00:06\n",
      "   ------------------------------ --------- 12.3/16.1 MB 667.6 kB/s eta 0:00:06\n",
      "   ------------------------------ --------- 12.3/16.1 MB 667.6 kB/s eta 0:00:06\n",
      "   ------------------------------- -------- 12.6/16.1 MB 656.5 kB/s eta 0:00:06\n",
      "   ------------------------------- -------- 12.6/16.1 MB 656.5 kB/s eta 0:00:06\n",
      "   ------------------------------- -------- 12.6/16.1 MB 656.5 kB/s eta 0:00:06\n",
      "   ------------------------------- -------- 12.8/16.1 MB 646.8 kB/s eta 0:00:06\n",
      "   ------------------------------- -------- 12.8/16.1 MB 646.8 kB/s eta 0:00:06\n",
      "   -------------------------------- ------- 13.1/16.1 MB 645.8 kB/s eta 0:00:05\n",
      "   -------------------------------- ------- 13.1/16.1 MB 645.8 kB/s eta 0:00:05\n",
      "   --------------------------------- ------ 13.4/16.1 MB 646.8 kB/s eta 0:00:05\n",
      "   --------------------------------- ------ 13.4/16.1 MB 646.8 kB/s eta 0:00:05\n",
      "   --------------------------------- ------ 13.6/16.1 MB 648.2 kB/s eta 0:00:04\n",
      "   ---------------------------------- ----- 13.9/16.1 MB 649.1 kB/s eta 0:00:04\n",
      "   ---------------------------------- ----- 13.9/16.1 MB 649.1 kB/s eta 0:00:04\n",
      "   ----------------------------------- ---- 14.2/16.1 MB 652.4 kB/s eta 0:00:03\n",
      "   ----------------------------------- ---- 14.4/16.1 MB 655.5 kB/s eta 0:00:03\n",
      "   ------------------------------------ --- 14.7/16.1 MB 660.5 kB/s eta 0:00:03\n",
      "   ------------------------------------ --- 14.7/16.1 MB 660.5 kB/s eta 0:00:03\n",
      "   ------------------------------------- -- 15.2/16.1 MB 670.1 kB/s eta 0:00:02\n",
      "   -------------------------------------- - 15.5/16.1 MB 674.8 kB/s eta 0:00:01\n",
      "   ---------------------------------------  15.7/16.1 MB 680.3 kB/s eta 0:00:01\n",
      "   ---------------------------------------  16.0/16.1 MB 687.1 kB/s eta 0:00:01\n",
      "   ---------------------------------------- 16.1/16.1 MB 687.0 kB/s eta 0:00:00\n",
      "Installing collected packages: mysql-connector-python\n",
      "Successfully installed mysql-connector-python-9.2.0\n"
     ]
    }
   ],
   "source": [
    "!pip install mysql-connector-python\n"
   ]
  },
  {
   "cell_type": "code",
   "execution_count": null,
   "id": "2f710e37-4d48-4dbe-8a94-db6d3c686310",
   "metadata": {},
   "outputs": [],
   "source": []
  },
  {
   "cell_type": "code",
   "execution_count": null,
   "id": "520aa9a8-c562-4347-9318-738008ff7679",
   "metadata": {},
   "outputs": [],
   "source": []
  }
 ],
 "metadata": {
  "kernelspec": {
   "display_name": "Python (tf_env)",
   "language": "python",
   "name": "tf_env"
  },
  "language_info": {
   "codemirror_mode": {
    "name": "ipython",
    "version": 3
   },
   "file_extension": ".py",
   "mimetype": "text/x-python",
   "name": "python",
   "nbconvert_exporter": "python",
   "pygments_lexer": "ipython3",
   "version": "3.12.7"
  }
 },
 "nbformat": 4,
 "nbformat_minor": 5
}
