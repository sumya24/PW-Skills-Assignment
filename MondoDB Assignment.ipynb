{
 "cells": [
  {
   "cell_type": "markdown",
   "id": "0ebad576-f8c6-4661-9632-672385777639",
   "metadata": {},
   "source": [
    "## Q1. What is MongoDB? Explain non-relational databases in short. In which scenarios is it preferred to use MongoDB over SQL databases?"
   ]
  },
  {
   "cell_type": "markdown",
   "id": "42500b31-d377-4f4d-a3a4-588d445cf5d4",
   "metadata": {},
   "source": [
    "Answer:\n",
    "\n",
    "MongoDB is a popular open-source NoSQL (non-relational) database that stores data in flexible, JSON-like documents instead of rows and columns.\n",
    "\n",
    "Non-relational databases do not follow a tabular structure. Instead, they store data in various formats like documents, key-value pairs, graphs, or wide-columns, making them more flexible and scalable.\n",
    "\n",
    "MongoDB is preferred over SQL when:\n",
    "\n",
    "Data is unstructured or semi-structured.\n",
    "\n",
    "You need horizontal scaling and high availability.\n",
    "\n",
    "You want faster development with flexible schema.\n",
    "\n",
    "Real-time analytics and big data handling is required."
   ]
  },
  {
   "cell_type": "markdown",
   "id": "c989d91c-db21-472e-9987-99a0c13248f0",
   "metadata": {},
   "source": [
    "## Q2. State and Explain the features of MongoDB."
   ]
  },
  {
   "cell_type": "markdown",
   "id": "92973771-1d69-4eda-b79e-655f2a5e9cfa",
   "metadata": {},
   "source": [
    "Answer:\n",
    "\n",
    "Key features of MongoDB:\n",
    "\n",
    "Document-Oriented: Data is stored in BSON (binary JSON) documents.\n",
    "\n",
    "Schema-less: Collections can hold different types of documents.\n",
    "\n",
    "High Performance: Optimized for speed and efficiency.\n",
    "\n",
    "Scalable: Supports horizontal scaling via sharding.\n",
    "\n",
    "Indexing: Supports primary and secondary indexes.\n",
    "\n",
    "Aggregation Framework: Enables advanced data processing and transformations.\n",
    "\n",
    "Replication: Supports data redundancy and high availability."
   ]
  },
  {
   "cell_type": "markdown",
   "id": "477c32b0-2c63-4d63-9d13-5b3b9e782f15",
   "metadata": {},
   "source": [
    "## Q3. Write a code to connect MongoDB to Python. Also, create a database and a collection in MongoDB."
   ]
  },
  {
   "cell_type": "code",
   "execution_count": 5,
   "id": "6035a12b-4a13-4363-8dec-950cb43adb3b",
   "metadata": {},
   "outputs": [
    {
     "name": "stdout",
     "output_type": "stream",
     "text": [
      "Defaulting to user installation because normal site-packages is not writeable\n",
      "Collecting pymongo\n",
      "  Downloading pymongo-4.11.3-cp312-cp312-win_amd64.whl.metadata (22 kB)\n",
      "Collecting dnspython<3.0.0,>=1.16.0 (from pymongo)\n",
      "  Downloading dnspython-2.7.0-py3-none-any.whl.metadata (5.8 kB)\n",
      "Downloading pymongo-4.11.3-cp312-cp312-win_amd64.whl (882 kB)\n",
      "   ---------------------------------------- 0.0/882.3 kB ? eta -:--:--\n",
      "   ----------------------------------- ---- 786.4/882.3 kB 6.7 MB/s eta 0:00:01\n",
      "   ---------------------------------------- 882.3/882.3 kB 2.0 MB/s eta 0:00:00\n",
      "Downloading dnspython-2.7.0-py3-none-any.whl (313 kB)\n",
      "Installing collected packages: dnspython, pymongo\n",
      "Successfully installed dnspython-2.7.0 pymongo-4.11.3\n",
      "Database and collection created successfully!\n"
     ]
    }
   ],
   "source": [
    "# Install pymongo if not installed\n",
    "!pip install pymongo\n",
    "\n",
    "# Import pymongo\n",
    "import pymongo\n",
    "\n",
    "# Connect to local MongoDB server\n",
    "client = pymongo.MongoClient(\"mongodb://localhost:27017/\")\n",
    "\n",
    "# Create a database\n",
    "db = client[\"student_database\"]\n",
    "\n",
    "# Create a collection (similar to table in SQL)\n",
    "collection = db[\"students\"]\n",
    "\n",
    "print(\"Database and collection created successfully!\")\n"
   ]
  },
  {
   "cell_type": "markdown",
   "id": "f6a2e582-fd5a-4783-a40b-20a0f251cca6",
   "metadata": {},
   "source": [
    "## Q4. Insert one record and many records. Use find() and find_one() methods to print them."
   ]
  },
  {
   "cell_type": "code",
   "execution_count": 10,
   "id": "c06b23f2-f75a-4499-96c3-afa15d489a94",
   "metadata": {},
   "outputs": [
    {
     "name": "stdout",
     "output_type": "stream",
     "text": [
      "Single Record:\n",
      "{'_id': ObjectId('67e66ca38ea68fadf0e6922c'), 'name': 'Alice', 'age': 22, 'course': 'Data Science'}\n",
      "\n",
      "All Records:\n",
      "{'_id': ObjectId('67e66ca38ea68fadf0e6922c'), 'name': 'Alice', 'age': 22, 'course': 'Data Science'}\n",
      "{'_id': ObjectId('67e66ca48ea68fadf0e6922d'), 'name': 'Bob', 'age': 23, 'course': 'AI'}\n",
      "{'_id': ObjectId('67e66ca48ea68fadf0e6922e'), 'name': 'Charlie', 'age': 21, 'course': 'ML'}\n",
      "{'_id': ObjectId('67e66ca48ea68fadf0e6922f'), 'name': 'David', 'age': 24, 'course': 'Cyber Security'}\n",
      "{'_id': ObjectId('67e66cb88ea68fadf0e69230'), 'name': 'Alice', 'age': 22, 'course': 'Data Science'}\n",
      "{'_id': ObjectId('67e66cb88ea68fadf0e69231'), 'name': 'Bob', 'age': 23, 'course': 'AI'}\n",
      "{'_id': ObjectId('67e66cb88ea68fadf0e69232'), 'name': 'Charlie', 'age': 21, 'course': 'ML'}\n",
      "{'_id': ObjectId('67e66cb88ea68fadf0e69233'), 'name': 'David', 'age': 24, 'course': 'Cyber Security'}\n"
     ]
    }
   ],
   "source": [
    "# Insert one record\n",
    "record_one = {\n",
    "    \"name\": \"Alice\",\n",
    "    \"age\": 22,\n",
    "    \"course\": \"Data Science\"\n",
    "}\n",
    "collection.insert_one(record_one)\n",
    "\n",
    "# Insert multiple records\n",
    "records_many = [\n",
    "    {\"name\": \"Bob\", \"age\": 23, \"course\": \"AI\"},\n",
    "    {\"name\": \"Charlie\", \"age\": 21, \"course\": \"ML\"},\n",
    "    {\"name\": \"David\", \"age\": 24, \"course\": \"Cyber Security\"}\n",
    "]\n",
    "collection.insert_many(records_many)\n",
    "\n",
    "# Retrieve and print one record\n",
    "print(\"Single Record:\")\n",
    "print(collection.find_one())\n",
    "\n",
    "# Retrieve and print all records\n",
    "print(\"\\nAll Records:\")\n",
    "for doc in collection.find():\n",
    "    print(doc)\n"
   ]
  },
  {
   "cell_type": "markdown",
   "id": "e2c1b4e3-1db9-48f7-bb02-e215b53c6eb2",
   "metadata": {},
   "source": [
    "## Q5. Explain how you can use the find() method to query the MongoDB database. Write a simple code."
   ]
  },
  {
   "cell_type": "markdown",
   "id": "88d8af39-0867-45f1-ab0c-0fae022000b8",
   "metadata": {},
   "source": [
    "Answer:\n",
    "\n",
    "The find() method retrieves all matching documents from a collection based on a given condition."
   ]
  },
  {
   "cell_type": "code",
   "execution_count": 13,
   "id": "e56bcdac-4349-465c-a4f2-bbc16a53e7d7",
   "metadata": {},
   "outputs": [
    {
     "name": "stdout",
     "output_type": "stream",
     "text": [
      "Students with age > 22:\n",
      "{'_id': ObjectId('67e66ca48ea68fadf0e6922d'), 'name': 'Bob', 'age': 23, 'course': 'AI'}\n",
      "{'_id': ObjectId('67e66ca48ea68fadf0e6922f'), 'name': 'David', 'age': 24, 'course': 'Cyber Security'}\n",
      "{'_id': ObjectId('67e66cb88ea68fadf0e69231'), 'name': 'Bob', 'age': 23, 'course': 'AI'}\n",
      "{'_id': ObjectId('67e66cb88ea68fadf0e69233'), 'name': 'David', 'age': 24, 'course': 'Cyber Security'}\n"
     ]
    }
   ],
   "source": [
    "# Query documents where age > 22\n",
    "query = {\"age\": {\"$gt\": 22}}\n",
    "\n",
    "results = collection.find(query)\n",
    "\n",
    "print(\"Students with age > 22:\")\n",
    "for student in results:\n",
    "    print(student)\n"
   ]
  },
  {
   "cell_type": "markdown",
   "id": "bce929eb-6827-4733-8bbd-3f2f231e9301",
   "metadata": {},
   "source": [
    "## Q6. Explain the sort() method. Give an example to demonstrate sorting in MongoDB."
   ]
  },
  {
   "cell_type": "markdown",
   "id": "c5a2057b-1bf8-4c9d-8a50-5e28ec671e34",
   "metadata": {},
   "source": [
    "Answer:\n",
    "\n",
    "The sort() method is used to sort query results in ascending (1) or descending (-1) order based on one or more fields."
   ]
  },
  {
   "cell_type": "code",
   "execution_count": 16,
   "id": "79bf0d09-80d0-4997-9d13-7a749be621c5",
   "metadata": {},
   "outputs": [
    {
     "name": "stdout",
     "output_type": "stream",
     "text": [
      "Sorted by Age (Ascending):\n",
      "{'_id': ObjectId('67e66ca48ea68fadf0e6922e'), 'name': 'Charlie', 'age': 21, 'course': 'ML'}\n",
      "{'_id': ObjectId('67e66cb88ea68fadf0e69232'), 'name': 'Charlie', 'age': 21, 'course': 'ML'}\n",
      "{'_id': ObjectId('67e66ca38ea68fadf0e6922c'), 'name': 'Alice', 'age': 22, 'course': 'Data Science'}\n",
      "{'_id': ObjectId('67e66cb88ea68fadf0e69230'), 'name': 'Alice', 'age': 22, 'course': 'Data Science'}\n",
      "{'_id': ObjectId('67e66ca48ea68fadf0e6922d'), 'name': 'Bob', 'age': 23, 'course': 'AI'}\n",
      "{'_id': ObjectId('67e66cb88ea68fadf0e69231'), 'name': 'Bob', 'age': 23, 'course': 'AI'}\n",
      "{'_id': ObjectId('67e66ca48ea68fadf0e6922f'), 'name': 'David', 'age': 24, 'course': 'Cyber Security'}\n",
      "{'_id': ObjectId('67e66cb88ea68fadf0e69233'), 'name': 'David', 'age': 24, 'course': 'Cyber Security'}\n"
     ]
    }
   ],
   "source": [
    "# Sort by age in ascending order\n",
    "sorted_results = collection.find().sort(\"age\", 1)\n",
    "\n",
    "print(\"Sorted by Age (Ascending):\")\n",
    "for student in sorted_results:\n",
    "    print(student)\n"
   ]
  },
  {
   "cell_type": "markdown",
   "id": "d0d0831b-8684-4dc7-93bc-ab7a3a4e8e36",
   "metadata": {},
   "source": [
    "## Q7. Explain why delete_one(), delete_many(), and drop() is used."
   ]
  },
  {
   "cell_type": "code",
   "execution_count": 19,
   "id": "f533e217-9776-4f22-92e0-4e267b2ea0c3",
   "metadata": {},
   "outputs": [],
   "source": [
    "# Answer:\n",
    "\n",
    "# delete_one(): Deletes the first document that matches the query condition.\n",
    "\n",
    "\n",
    "collection.delete_one({\"name\": \"Alice\"})\n",
    "# delete_many(): Deletes all documents that match the condition.\n",
    "\n",
    "collection.delete_many({\"course\": \"AI\"})\n",
    "# drop(): Deletes the entire collection.\n",
    "\n",
    "\n",
    "collection.drop()"
   ]
  },
  {
   "cell_type": "code",
   "execution_count": null,
   "id": "6acc0e28-abba-4127-b187-209d569c1d49",
   "metadata": {},
   "outputs": [],
   "source": []
  }
 ],
 "metadata": {
  "kernelspec": {
   "display_name": "Python (tf_env)",
   "language": "python",
   "name": "tf_env"
  },
  "language_info": {
   "codemirror_mode": {
    "name": "ipython",
    "version": 3
   },
   "file_extension": ".py",
   "mimetype": "text/x-python",
   "name": "python",
   "nbconvert_exporter": "python",
   "pygments_lexer": "ipython3",
   "version": "3.12.7"
  }
 },
 "nbformat": 4,
 "nbformat_minor": 5
}
