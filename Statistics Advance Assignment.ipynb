{
 "cells": [
  {
   "cell_type": "markdown",
   "id": "60e11f6a-7472-4a47-b1ee-7b0ce4d45ce2",
   "metadata": {},
   "source": [
    "## Q1. What is the Probability Density Function (PDF)?"
   ]
  },
  {
   "cell_type": "markdown",
   "id": "10ade192-26e2-4b74-8ec0-7a8416dafd5b",
   "metadata": {},
   "source": [
    "Answer:\n",
    "A Probability Density Function (PDF) describes the likelihood of a continuous random variable taking on a particular value. It represents the density of probability rather than actual probability. The area under the curve of the PDF over an interval gives the probability that the variable falls within that interval."
   ]
  },
  {
   "cell_type": "markdown",
   "id": "bd2f2113-8c5d-4a48-a9f0-588730af826e",
   "metadata": {},
   "source": [
    "## Q2. What are the types of Probability Distribution?"
   ]
  },
  {
   "cell_type": "markdown",
   "id": "bc000f29-f746-41bc-bc13-f45614f94846",
   "metadata": {},
   "source": [
    "Answer:\n",
    "There are two main types of probability distributions:\n",
    "\n",
    "Discrete Probability Distribution – For discrete random variables (e.g., Binomial, Poisson).\n",
    "\n",
    "Continuous Probability Distribution – For continuous random variables (e.g., Normal, Exponential)."
   ]
  },
  {
   "cell_type": "markdown",
   "id": "06a302df-c18a-42cc-9fdd-57ab2e066ec2",
   "metadata": {},
   "source": [
    "## Q3. Python Function to Calculate PDF of a Normal Distribution"
   ]
  },
  {
   "cell_type": "code",
   "execution_count": 5,
   "id": "214ddf38-83bb-4b68-94f2-0954dbec97b9",
   "metadata": {},
   "outputs": [
    {
     "name": "stdout",
     "output_type": "stream",
     "text": [
      "PDF at x=5, mean=0, std=1: 1.4867195147342977e-06\n"
     ]
    }
   ],
   "source": [
    "import numpy as np\n",
    "import math\n",
    "\n",
    "def normal_pdf(x, mean, std):\n",
    "    coefficient = 1 / (std * math.sqrt(2 * math.pi))\n",
    "    exponent = math.exp(-((x - mean)**2) / (2 * std**2))\n",
    "    return coefficient * exponent\n",
    "\n",
    "# Example:\n",
    "print(\"PDF at x=5, mean=0, std=1:\", normal_pdf(5, 0, 1))\n"
   ]
  },
  {
   "cell_type": "markdown",
   "id": "ea8503c9-1e31-4689-9d57-cb44f0fe751f",
   "metadata": {},
   "source": [
    "## Q4. Properties of Binomial Distribution & Examples"
   ]
  },
  {
   "cell_type": "markdown",
   "id": "1ada39a6-f780-4267-a4a5-3e2fc4a4b6b5",
   "metadata": {},
   "source": [
    "Properties:\n",
    "\n",
    "Fixed number of trials (n)\n",
    "\n",
    "Only two outcomes: success or failure\n",
    "\n",
    "Constant probability of success (p)\n",
    "\n",
    "Independent trials\n",
    "\n",
    "Examples:\n",
    "\n",
    "Tossing a coin 10 times and counting heads.\n",
    "\n",
    "Quality check: Number of defective items in a batch of 50."
   ]
  },
  {
   "cell_type": "markdown",
   "id": "3f82e75b-0054-417e-843a-7bd052aa1cec",
   "metadata": {},
   "source": [
    "## Q5. Generate and Plot Binomial Sample"
   ]
  },
  {
   "cell_type": "code",
   "execution_count": 9,
   "id": "32f6ffe7-8b48-4cea-b902-407a90f8be8d",
   "metadata": {},
   "outputs": [
    {
     "data": {
      "image/png": "[encoded data removed]",
      "text/plain": [
       "<Figure size 640x480 with 1 Axes>"
      ]
     },
     "metadata": {},
     "output_type": "display_data"
    }
   ],
   "source": [
    "import numpy as np\n",
    "import matplotlib.pyplot as plt\n",
    "\n",
    "data = np.random.binomial(n=10, p=0.4, size=1000)\n",
    "plt.hist(data, bins=10, edgecolor='black')\n",
    "plt.title(\"Histogram of Binomial Distribution (n=10, p=0.4)\")\n",
    "plt.xlabel(\"Number of Successes\")\n",
    "plt.ylabel(\"Frequency\")\n",
    "plt.show()\n"
   ]
  },
  {
   "cell_type": "markdown",
   "id": "31ff41fb-2ff2-4571-a977-99a8ea9151d8",
   "metadata": {},
   "source": [
    "## Q6. Python Function to Calculate Poisson CDF"
   ]
  },
  {
   "cell_type": "code",
   "execution_count": 12,
   "id": "25a4adc3-a24a-4046-997a-4c189d13505b",
   "metadata": {},
   "outputs": [
    {
     "name": "stdout",
     "output_type": "stream",
     "text": [
      "Poisson CDF at k=3, mean=4: 0.43347012036670896\n"
     ]
    }
   ],
   "source": [
    "from scipy.stats import poisson\n",
    "\n",
    "def poisson_cdf(k, mean):\n",
    "    return poisson.cdf(k, mean)\n",
    "\n",
    "# Example:\n",
    "print(\"Poisson CDF at k=3, mean=4:\", poisson_cdf(3, 4))\n"
   ]
  },
  {
   "cell_type": "markdown",
   "id": "9c5918ca-8a21-439d-8fea-26fd09d06ee1",
   "metadata": {},
   "source": [
    "## Q7. Binomial vs. Poisson Distribution"
   ]
  },
  {
   "cell_type": "markdown",
   "id": "7b1eea68-88ef-4617-965d-118106d3103b",
   "metadata": {},
   "source": [
    "The Binomial distribution is used when there is a fixed number of trials, and each trial has only two possible outcomes – success or failure. The probability of success is constant for each trial, and the trials are independent of each other. For example, tossing a coin 10 times and counting how many times heads appear follows a binomial distribution.\n",
    "\n",
    "In contrast, the Poisson distribution is used to model the number of occurrences of an event in a fixed interval of time or space, where the events happen independently, and the average rate (λ) of occurrence is known. It is often used when the number of trials is very large, and the probability of success is very small, making it ideal for modeling rare events. For example, the number of emails received per hour or the number of accidents at a traffic signal in a day.\n"
   ]
  },
  {
   "cell_type": "markdown",
   "id": "ae2c3862-c393-4979-b0d2-a87597b79650",
   "metadata": {},
   "source": [
    "## Q8. Generate Poisson Sample and Calculate Stats"
   ]
  },
  {
   "cell_type": "code",
   "execution_count": 16,
   "id": "43a89fa0-57c6-4d9d-a8fb-0c12cfcab091",
   "metadata": {},
   "outputs": [
    {
     "name": "stdout",
     "output_type": "stream",
     "text": [
      "Sample Mean: 4.996\n",
      "Sample Variance: 4.671984\n"
     ]
    }
   ],
   "source": [
    "data = np.random.poisson(lam=5, size=1000)\n",
    "mean = np.mean(data)\n",
    "variance = np.var(data)\n",
    "\n",
    "print(\"Sample Mean:\", mean)\n",
    "print(\"Sample Variance:\", variance)\n"
   ]
  },
  {
   "cell_type": "markdown",
   "id": "9acbe809-593f-44e3-b5af-5a2c521ede18",
   "metadata": {},
   "source": [
    "## Q9. Mean and Variance in Binomial vs. Poisson"
   ]
  },
  {
   "cell_type": "markdown",
   "id": "a40118a2-d254-4a99-8bdc-e11209741ee4",
   "metadata": {},
   "source": [
    "Binomial Distribution:\n",
    "\n",
    "Mean = n * p\n",
    "\n",
    "Variance = n * p * (1 - p)\n",
    "\n",
    "Poisson Distribution:\n",
    "\n",
    "Mean = λ\n",
    "\n",
    "Variance = λ\n",
    "\n"
   ]
  },
  {
   "cell_type": "markdown",
   "id": "e6e0eca5-eeca-4b26-b95e-638661f5446e",
   "metadata": {},
   "source": [
    "## Q10. Least Frequent Data in Normal Distribution"
   ]
  },
  {
   "cell_type": "markdown",
   "id": "6c6fb37d-4b9f-4188-9f09-8d9ba770ec72",
   "metadata": {},
   "source": [
    "Answer:\n",
    "In a normal distribution, the least frequent data appears in the tails — far from the mean. These are the extreme values, and their probability is very low due to the bell-shaped curve.\n",
    "\n"
   ]
  },
  {
   "cell_type": "code",
   "execution_count": null,
   "id": "8e429676-90fa-4d55-879a-96d5d71c70b4",
   "metadata": {},
   "outputs": [],
   "source": []
  }
 ],
 "metadata": {
  "kernelspec": {
   "display_name": "Python (tf_env)",
   "language": "python",
   "name": "tf_env"
  },
  "language_info": {
   "codemirror_mode": {
    "name": "ipython",
    "version": 3
   },
   "file_extension": ".py",
   "mimetype": "text/x-python",
   "name": "python",
   "nbconvert_exporter": "python",
   "pygments_lexer": "ipython3",
   "version": "3.12.7"
  }
 },
 "nbformat": 4,
 "nbformat_minor": 5
}
