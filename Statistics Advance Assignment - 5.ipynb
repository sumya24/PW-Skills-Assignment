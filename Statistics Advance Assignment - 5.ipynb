{
 "cells": [
  {
   "cell_type": "markdown",
   "id": "989e2db2-ae26-430f-921d-9c65b1caf605",
   "metadata": {},
   "source": [
    "## Q1: What is the difference between a t-test and a z-test? Provide an example scenario where you would use each type of test."
   ]
  },
  {
   "cell_type": "markdown",
   "id": "297e6d33-8220-4bcd-bde1-aaea1e0c54a3",
   "metadata": {},
   "source": [
    "Answer:\n",
    "\n",
    "T-Test is used when the sample size is small (typically < 30) or when the population standard deviation is unknown.\n",
    "\n",
    "Z-Test is used when the sample size is large and the population standard deviation is known.\n",
    "\n",
    "Example:\n",
    "\n",
    "T-Test Scenario: Testing if the average weight of 25 people is different from the general population when population std dev is unknown.\n",
    "\n",
    "Z-Test Scenario: Testing if the mean height of a large sample (n > 100) differs from the known population mean with known std dev.\n",
    "\n"
   ]
  },
  {
   "cell_type": "markdown",
   "id": "02be0cee-bcb0-4a01-bdb3-67b1f56f2d50",
   "metadata": {},
   "source": [
    "## Q2: Differentiate between one-tailed and two-tailed tests."
   ]
  },
  {
   "cell_type": "markdown",
   "id": "7782ecf8-89ff-4d8d-955c-2aab85dcd8a1",
   "metadata": {},
   "source": [
    "Answer:\n",
    "\n",
    "One-tailed test: Tests in one direction (e.g., greater than or less than).\n",
    "\n",
    "Two-tailed test: Tests both directions (e.g., not equal to).\n",
    "\n",
    "Example:\n",
    "\n",
    "One-tailed: Is mean score > 70?\n",
    "\n",
    "Two-tailed: Is mean score ≠ 70?"
   ]
  },
  {
   "cell_type": "markdown",
   "id": "d860e40b-4c08-4af1-9cf4-63202d7765c1",
   "metadata": {},
   "source": [
    "## Q3: Explain the concept of Type 1 and Type 2 errors in hypothesis testing. Provide an example scenario for each type of error."
   ]
  },
  {
   "cell_type": "markdown",
   "id": "ac3222e2-33e3-4e54-9ad4-f85a45935f21",
   "metadata": {},
   "source": [
    "Answer:\n",
    "\n",
    "Type I Error (False Positive): Rejecting the null hypothesis when it is actually true.\n",
    "\n",
    "Type II Error (False Negative): Failing to reject the null when it is actually false.\n",
    "\n",
    "Examples:\n",
    "\n",
    "Type I: Concluding a drug works when it doesn’t.\n",
    "\n",
    "Type II: Concluding a drug doesn’t work when it actually does."
   ]
  },
  {
   "cell_type": "markdown",
   "id": "d9771e78-6d9e-42dd-8429-698f5d51d9ae",
   "metadata": {},
   "source": [
    "## Q4: Explain Bayes's theorem with an example."
   ]
  },
  {
   "cell_type": "markdown",
   "id": "111c4c95-9689-4b06-a179-2aa25b30ea00",
   "metadata": {},
   "source": [
    "Example:\n",
    "A test is 95% accurate. 1% of people have the disease.\n",
    "You test positive. What is the probability you have the disease?\n",
    "\n",
    "Let:\n",
    "\n",
    "P(Disease) = 0.01\n",
    "\n",
    "P(No Disease) = 0.99\n",
    "\n",
    "P(Pos | Disease) = 0.95\n",
    "\n",
    "P(Pos | No Disease) = 0.05\n",
    "\n",
    "P(Disease∣Pos)= (0.95 * 0.01) / (0.95*0.01 + 0.05*0.99) = 0.16\n",
    "So, only 16% chance despite testing positive!"
   ]
  },
  {
   "cell_type": "markdown",
   "id": "09e3985f-bea1-451d-a654-99b6b187ea17",
   "metadata": {},
   "source": [
    "## Q5: What is a confidence interval? How to calculate the confidence interval, explain with an example."
   ]
  },
  {
   "cell_type": "markdown",
   "id": "fabb0f25-1393-4818-bde5-ba72f3e0e53d",
   "metadata": {},
   "source": [
    "Answer:\n",
    "\n",
    "A confidence interval (CI) gives a range of values that is likely to contain the population parameter with a certain level of confidence (e.g., 95%)."
   ]
  },
  {
   "cell_type": "code",
   "execution_count": 7,
   "id": "31988832-42fc-42a2-8e95-4b5a09250800",
   "metadata": {},
   "outputs": [
    {
     "name": "stdout",
     "output_type": "stream",
     "text": [
      "95% Confidence Interval: (48.21, 51.79)\n"
     ]
    }
   ],
   "source": [
    "import scipy.stats as stats\n",
    "import numpy as np\n",
    "\n",
    "mean = 50\n",
    "std_dev = 5\n",
    "n = 30\n",
    "z_score = stats.norm.ppf(0.975)  # 95% confidence\n",
    "\n",
    "margin_of_error = z_score * (std_dev / np.sqrt(n))\n",
    "ci_lower = mean - margin_of_error\n",
    "ci_upper = mean + margin_of_error\n",
    "\n",
    "print(f\"95% Confidence Interval: ({ci_lower:.2f}, {ci_upper:.2f})\")\n"
   ]
  },
  {
   "cell_type": "code",
   "execution_count": null,
   "id": "1aa2adcf-4f16-4c1b-8fae-ef03423a27ee",
   "metadata": {},
   "outputs": [],
   "source": []
  }
 ],
 "metadata": {
  "kernelspec": {
   "display_name": "Python (tf_env)",
   "language": "python",
   "name": "tf_env"
  },
  "language_info": {
   "codemirror_mode": {
    "name": "ipython",
    "version": 3
   },
   "file_extension": ".py",
   "mimetype": "text/x-python",
   "name": "python",
   "nbconvert_exporter": "python",
   "pygments_lexer": "ipython3",
   "version": "3.12.7"
  }
 },
 "nbformat": 4,
 "nbformat_minor": 5
}
