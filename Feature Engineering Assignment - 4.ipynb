{
 "cells": [
  {
   "cell_type": "markdown",
   "id": "5c838624-d2d8-4f3f-9f6f-c85e3de45fa3",
   "metadata": {},
   "source": [
    "## Q1. What is the difference between Ordinal Encoding and Label Encoding? Provide an example of when you might choose one over the other."
   ]
  },
  {
   "cell_type": "markdown",
   "id": "1acae68c-b280-434e-82f1-9c8d8c3fb4b2",
   "metadata": {},
   "source": [
    "Answer:\n",
    "\n",
    "Label Encoding assigns a unique integer to each category without implying any order.\n",
    "\n",
    "Example: Color = ['Red', 'Green', 'Blue'] → Red: 0, Green: 1, Blue: 2\n",
    "\n",
    "Use when categorical variable has no order (Nominal data).\n",
    "\n",
    "Ordinal Encoding is used when the categorical data has an inherent order.\n",
    "\n",
    "Example: Size = ['Small', 'Medium', 'Large'] → Small: 0, Medium: 1, Large: 2\n",
    "\n",
    "Use when the category values follow a ranking or order (Ordinal data)."
   ]
  },
  {
   "cell_type": "markdown",
   "id": "941fc54e-4b3b-4259-b763-2ff6703ccdce",
   "metadata": {},
   "source": [
    "## Q2. Explain how Target Guided Ordinal Encoding works and provide an example of when you might use it in a machine learning project."
   ]
  },
  {
   "cell_type": "markdown",
   "id": "fe0b5f8c-a475-4765-9619-4b3d79edebee",
   "metadata": {},
   "source": [
    "Answer:\n",
    "\n",
    "Target Guided Ordinal Encoding replaces categorical levels with the mean of the target variable for each category."
   ]
  },
  {
   "cell_type": "markdown",
   "id": "a6c8bfae-3b26-4d8c-9d0f-4422e27c5b2a",
   "metadata": {},
   "source": [
    "Example - \n",
    "StoreType | Sales\n",
    "A         | 100\n",
    "B         | 80\n",
    "A         | 120\n",
    "C         | 200\n"
   ]
  },
  {
   "cell_type": "markdown",
   "id": "87f5ad3d-6c10-4e12-a6da-61c1015acaf0",
   "metadata": {},
   "source": [
    "## Q3. Define covariance and explain why it is important in statistical analysis. How is covariance calculated?"
   ]
  },
  {
   "cell_type": "markdown",
   "id": "61e0fd10-fb33-4b5e-b7d2-0afb45750831",
   "metadata": {},
   "source": [
    "Answer:\n",
    "\n",
    "Covariance measures the direction of the linear relationship between two variables.\n",
    "\n",
    "If both variables increase together → Positive covariance.\n",
    "\n",
    "If one increases while the other decreases → Negative covariance.\n",
    "\n",
    "Importance: Helps in understanding relationships between features and is used in PCA for dimensionality reduction.\n",
    "\n"
   ]
  },
  {
   "cell_type": "markdown",
   "id": "4949831d-4f14-475e-8a4b-0b20a6ed9b05",
   "metadata": {},
   "source": [
    "## Q4. For a dataset with the following categorical variables: Color (red, green, blue), Size (small, medium, large), and Material (wood, metal, plastic), perform label encoding using Python's scikit-learn library. Show your code and explain the output."
   ]
  },
  {
   "cell_type": "code",
   "execution_count": 7,
   "id": "6cb481f2-72d2-41ae-b599-c662f307466a",
   "metadata": {},
   "outputs": [
    {
     "name": "stdout",
     "output_type": "stream",
     "text": [
      "   Color  Size  Material\n",
      "0      2     2         2\n",
      "1      1     1         0\n",
      "2      0     0         1\n"
     ]
    }
   ],
   "source": [
    "from sklearn.preprocessing import LabelEncoder\n",
    "import pandas as pd\n",
    "\n",
    "# Sample data\n",
    "data = pd.DataFrame({\n",
    "    'Color': ['red', 'green', 'blue'],\n",
    "    'Size': ['small', 'medium', 'large'],\n",
    "    'Material': ['wood', 'metal', 'plastic']\n",
    "})\n",
    "\n",
    "# Apply Label Encoding\n",
    "le = LabelEncoder()\n",
    "for col in data.columns:\n",
    "    data[col] = le.fit_transform(data[col])\n",
    "\n",
    "print(data)\n"
   ]
  },
  {
   "cell_type": "markdown",
   "id": "7467fb4b-5c7b-40b0-89a7-9f8eea79058e",
   "metadata": {},
   "source": [
    "## Q5. Calculate the covariance matrix for the following variables in a dataset: Age, Income, and Education level. Interpret the results."
   ]
  },
  {
   "cell_type": "code",
   "execution_count": 10,
   "id": "956e4561-52fc-4252-8308-6a066be5f50e",
   "metadata": {},
   "outputs": [
    {
     "name": "stdout",
     "output_type": "stream",
     "text": [
      "                Age       Income  Education\n",
      "Age           221.3     298000.0       46.5\n",
      "Income     298000.0  430000000.0    65000.0\n",
      "Education      46.5      65000.0       10.0\n"
     ]
    }
   ],
   "source": [
    "import numpy as np\n",
    "import pandas as pd\n",
    "\n",
    "# Sample data\n",
    "data = pd.DataFrame({\n",
    "    'Age': [25, 32, 47, 51, 62],\n",
    "    'Income': [40000, 50000, 60000, 80000, 90000],\n",
    "    'Education': [12, 14, 16, 18, 20]\n",
    "})\n",
    "\n",
    "# Covariance matrix\n",
    "cov_matrix = data.cov()\n",
    "print(cov_matrix)\n"
   ]
  },
  {
   "cell_type": "markdown",
   "id": "f28555d5-c908-4230-b5d8-ac338acb95dc",
   "metadata": {},
   "source": [
    "## Q6. You are working on a machine learning project with a dataset containing several categorical variables, including \"Gender\" (Male/Female), \"Education Level\" (High School/Bachelor's/Master's/PhD), and \"Employment Status\" (Unemployed/Part-Time/Full-Time). Which encoding method would you use for each variable, and why?"
   ]
  },
  {
   "cell_type": "markdown",
   "id": "b3a8e689-b06c-4c0d-8740-39b85da6c183",
   "metadata": {},
   "source": [
    "Answer:\n",
    "\n",
    "Gender (Male/Female): Use Label Encoding (binary).\n",
    "\n",
    "Education Level: Use Ordinal Encoding because it has a natural order.\n",
    "\n",
    "Employment Status: Use One-Hot Encoding since categories are nominal and non-ordinal.\n",
    "\n"
   ]
  },
  {
   "cell_type": "markdown",
   "id": "43ad9153-c5ee-491a-a38e-00c358a61873",
   "metadata": {},
   "source": [
    "## Q7. You are analyzing a dataset with two continuous variables, \"Temperature\" and \"Humidity\", and two categorical variables, \"Weather Condition\" (Sunny/Cloudy/Rainy) and \"Wind Direction\" (North/South/East/West). Calculate the covariance between each pair of variables and interpret the results."
   ]
  },
  {
   "cell_type": "code",
   "execution_count": 14,
   "id": "c1a03d88-191f-4031-913e-33e1cb250e92",
   "metadata": {},
   "outputs": [
    {
     "name": "stdout",
     "output_type": "stream",
     "text": [
      "             Temperature  Humidity\n",
      "Temperature         7.30     18.75\n",
      "Humidity           18.75     62.50\n"
     ]
    }
   ],
   "source": [
    "import pandas as pd\n",
    "\n",
    "# Sample continuous data\n",
    "data = pd.DataFrame({\n",
    "    'Temperature': [30, 32, 35, 33, 28],\n",
    "    'Humidity': [70, 65, 80, 75, 60]\n",
    "})\n",
    "\n",
    "# Covariance matrix\n",
    "cov_matrix = data.cov()\n",
    "print(cov_matrix)\n"
   ]
  },
  {
   "cell_type": "code",
   "execution_count": null,
   "id": "5c4d2c06-7025-4934-a72d-e26eadd4224d",
   "metadata": {},
   "outputs": [],
   "source": []
  }
 ],
 "metadata": {
  "kernelspec": {
   "display_name": "Python (tf_env)",
   "language": "python",
   "name": "tf_env"
  },
  "language_info": {
   "codemirror_mode": {
    "name": "ipython",
    "version": 3
   },
   "file_extension": ".py",
   "mimetype": "text/x-python",
   "name": "python",
   "nbconvert_exporter": "python",
   "pygments_lexer": "ipython3",
   "version": "3.12.7"
  }
 },
 "nbformat": 4,
 "nbformat_minor": 5
}
