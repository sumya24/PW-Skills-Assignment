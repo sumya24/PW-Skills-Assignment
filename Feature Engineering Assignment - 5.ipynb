{
 "cells": [
  {
   "cell_type": "markdown",
   "id": "eaf3137d-8a3c-4135-8180-275219e7e309",
   "metadata": {},
   "source": [
    "## Q1. Pearson correlation coefficient is a measure of the linear relationship between two variables. Suppose you have collected data on the amount of time students spend studying for an exam and their final exam scores. Calculate the Pearson correlation coefficient between these two variables and interpret the result."
   ]
  },
  {
   "cell_type": "markdown",
   "id": "d2e8f6d8-8292-491f-b0bb-340e72075f58",
   "metadata": {},
   "source": [
    "Answer:\n",
    "The Pearson correlation coefficient (r) measures the strength and direction of a linear relationship between two variables."
   ]
  },
  {
   "cell_type": "code",
   "execution_count": 3,
   "id": "7808c391-8ad3-4907-92e6-51d6307e6db6",
   "metadata": {},
   "outputs": [
    {
     "name": "stdout",
     "output_type": "stream",
     "text": [
      "Pearson Correlation Coefficient: 1.0\n",
      "P-value: 0.0\n"
     ]
    }
   ],
   "source": [
    "import numpy as np\n",
    "from scipy.stats import pearsonr\n",
    "\n",
    "study_hours = [2, 4, 6, 8, 10]\n",
    "exam_scores = [55, 60, 65, 70, 75]\n",
    "\n",
    "r, p = pearsonr(study_hours, exam_scores)\n",
    "print(\"Pearson Correlation Coefficient:\", r)\n",
    "print(\"P-value:\", p)\n"
   ]
  },
  {
   "cell_type": "markdown",
   "id": "28466132-d148-4ad7-8fd7-cb72c62e0346",
   "metadata": {},
   "source": [
    "Interpretation:\n",
    "If r is close to 1, it indicates a strong positive correlation: as study time increases, exam scores increase. A p-value < 0.05 suggests the correlation is statistically significant."
   ]
  },
  {
   "cell_type": "markdown",
   "id": "1a9b3ec7-2f69-489f-ba22-a6065258cbdb",
   "metadata": {},
   "source": [
    "## Q2. Spearman's rank correlation is a measure of the monotonic relationship between two variables. Suppose you have collected data on the amount of sleep individuals get each night and their overall job satisfaction level on a scale of 1 to 10. Calculate the Spearman's rank correlation between these two variables and interpret the result."
   ]
  },
  {
   "cell_type": "markdown",
   "id": "ba471b31-e2a7-4e10-b782-27da4741f8a4",
   "metadata": {},
   "source": [
    "Answer:\n",
    "Spearman's correlation is used when the relationship is monotonic but not necessarily linear."
   ]
  },
  {
   "cell_type": "code",
   "execution_count": 6,
   "id": "e6b86b89-7850-4984-be65-fea0a1440aec",
   "metadata": {},
   "outputs": [
    {
     "name": "stdout",
     "output_type": "stream",
     "text": [
      "Spearman's Rank Correlation: 0.9999999999999999\n",
      "P-value: 1.4042654220543672e-24\n"
     ]
    }
   ],
   "source": [
    "from scipy.stats import spearmanr\n",
    "\n",
    "sleep_hours = [6, 5, 7, 8, 4]\n",
    "job_satisfaction = [7, 6, 8, 9, 5]\n",
    "\n",
    "rho, p = spearmanr(sleep_hours, job_satisfaction)\n",
    "print(\"Spearman's Rank Correlation:\", rho)\n",
    "print(\"P-value:\", p)\n"
   ]
  },
  {
   "cell_type": "markdown",
   "id": "0f6ea348-710a-4269-9ae8-d690d225accc",
   "metadata": {},
   "source": [
    "Interpretation:\n",
    "If rho is close to 1, there is a strong monotonic relationship. A significant p-value means the relationship is unlikely due to chance."
   ]
  },
  {
   "cell_type": "markdown",
   "id": "70120a65-eca0-4798-a833-56eeaab10a08",
   "metadata": {},
   "source": [
    "## Q3. Suppose you are conducting a study to examine the relationship between the number of hours of exercise per week and body mass index (BMI) in a sample of adults. You collected data on both variables for 50 participants. Calculate the Pearson correlation coefficient and the Spearman's rank correlation between these two variables and compare the results."
   ]
  },
  {
   "cell_type": "code",
   "execution_count": 9,
   "id": "fb0a7d0e-768e-43a8-9a9e-3b15bbb6c578",
   "metadata": {},
   "outputs": [
    {
     "name": "stdout",
     "output_type": "stream",
     "text": [
      "Pearson: -0.036502342462108525\n",
      "Spearman: -0.02008825560455623\n"
     ]
    }
   ],
   "source": [
    "import numpy as np\n",
    "from scipy.stats import pearsonr, spearmanr\n",
    "\n",
    "np.random.seed(0)\n",
    "exercise_hours = np.random.randint(0, 10, 50)\n",
    "bmi = np.random.normal(25, 3, 50)\n",
    "\n",
    "r_pearson, _ = pearsonr(exercise_hours, bmi)\n",
    "r_spearman, _ = spearmanr(exercise_hours, bmi)\n",
    "\n",
    "print(\"Pearson:\", r_pearson)\n",
    "print(\"Spearman:\", r_spearman)\n"
   ]
  },
  {
   "cell_type": "markdown",
   "id": "924c6e1c-1045-4fdf-9aac-f34162fe3be7",
   "metadata": {},
   "source": [
    "Interpretation:\n",
    "Pearson measures linear correlation; Spearman measures rank/monotonic.\n",
    "\n",
    "If results differ, there may be a non-linear relationship."
   ]
  },
  {
   "cell_type": "markdown",
   "id": "16367cfd-fd5c-4f58-a963-17aeef0d5458",
   "metadata": {},
   "source": [
    "## Q4. A researcher is interested in examining the relationship between the number of hours individuals spend watching television per day and their level of physical activity. The researcher collected data on both variables from a sample of 50 participants. Calculate the Pearson correlation coefficient between these two variables."
   ]
  },
  {
   "cell_type": "code",
   "execution_count": 12,
   "id": "1523701a-f6b5-4b07-8c1d-8e2143f1be9d",
   "metadata": {},
   "outputs": [
    {
     "name": "stdout",
     "output_type": "stream",
     "text": [
      "Pearson Correlation: -0.21877569199581479\n"
     ]
    }
   ],
   "source": [
    "tv_hours = np.random.randint(1, 5, 50)\n",
    "physical_activity = np.random.randint(1, 10, 50)\n",
    "\n",
    "r, p = pearsonr(tv_hours, physical_activity)\n",
    "print(\"Pearson Correlation:\", r)\n"
   ]
  },
  {
   "cell_type": "markdown",
   "id": "ed6fd6cb-0d14-4d9e-a313-c165d91d3b5c",
   "metadata": {},
   "source": [
    "## Q5. A survey was conducted to examine the relationship between age and preference for a particular brand of soft drink. The survey results are shown below:"
   ]
  },
  {
   "cell_type": "code",
   "execution_count": 15,
   "id": "f5745c24-002c-4d08-a7e6-01d84cda06e2",
   "metadata": {},
   "outputs": [
    {
     "name": "stdout",
     "output_type": "stream",
     "text": [
      "Pearson Correlation: 0.7691751415594738\n"
     ]
    }
   ],
   "source": [
    "import pandas as pd\n",
    "from sklearn.preprocessing import LabelEncoder\n",
    "\n",
    "data = pd.DataFrame({\n",
    "    'Age': [25, 42, 37, 19, 31, 28],\n",
    "    'Preference': ['Coke', 'Pepsi', 'Mountain Dew', 'Coke', 'Pepsi', 'Coke']\n",
    "})\n",
    "\n",
    "le = LabelEncoder()\n",
    "data['Encoded'] = le.fit_transform(data['Preference'])\n",
    "\n",
    "r, p = pearsonr(data['Age'], data['Encoded'])\n",
    "print(\"Pearson Correlation:\", r)\n"
   ]
  },
  {
   "cell_type": "markdown",
   "id": "a9d495f2-15ee-45f5-85e0-3f5e05bb5129",
   "metadata": {},
   "source": [
    "## Q6. A company is interested in examining the relationship between the number of sales calls made per day and the number of sales made per week. The company collected data on both variables from a sample of 30 sales representatives. Calculate the Pearson correlation coefficient between these two variables."
   ]
  },
  {
   "cell_type": "code",
   "execution_count": 18,
   "id": "face208a-005a-493f-905c-f97020318e21",
   "metadata": {},
   "outputs": [
    {
     "name": "stdout",
     "output_type": "stream",
     "text": [
      "Pearson Correlation: -0.19516728015115714\n"
     ]
    }
   ],
   "source": [
    "sales_calls = np.random.randint(10, 50, 30)\n",
    "weekly_sales = np.random.randint(5, 25, 30)\n",
    "\n",
    "r, p = pearsonr(sales_calls, weekly_sales)\n",
    "print(\"Pearson Correlation:\", r)\n"
   ]
  },
  {
   "cell_type": "markdown",
   "id": "3272666a-6e1e-4de6-8642-d2232f5f2215",
   "metadata": {},
   "source": [
    "Interpretation:\n",
    "A positive r suggests that more calls result in more sales. This helps in performance analysis and strategy planning."
   ]
  },
  {
   "cell_type": "code",
   "execution_count": null,
   "id": "d624be75-2f8b-466b-a8fb-180f4b330c80",
   "metadata": {},
   "outputs": [],
   "source": []
  }
 ],
 "metadata": {
  "kernelspec": {
   "display_name": "Python (tf_env)",
   "language": "python",
   "name": "tf_env"
  },
  "language_info": {
   "codemirror_mode": {
    "name": "ipython",
    "version": 3
   },
   "file_extension": ".py",
   "mimetype": "text/x-python",
   "name": "python",
   "nbconvert_exporter": "python",
   "pygments_lexer": "ipython3",
   "version": "3.12.7"
  }
 },
 "nbformat": 4,
 "nbformat_minor": 5
}
