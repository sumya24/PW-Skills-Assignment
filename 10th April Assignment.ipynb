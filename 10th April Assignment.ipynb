{
 "cells": [
  {
   "cell_type": "markdown",
   "id": "577d42e6-bb9c-4e02-a8c6-31bed78be3f0",
   "metadata": {},
   "source": [
    "## Q1. A company conducted a survey of its employees and found that 70% of the employees use the company's health insurance plan, while 40% of the employees who use the plan are smokers. What is the probability that an employee is a smoker given that he/she uses the health insurance plan?"
   ]
  },
  {
   "cell_type": "markdown",
   "id": "7d729897-1ca6-41bd-9492-514af538ad53",
   "metadata": {},
   "source": [
    "Answer:\n",
    "The probability that an employee is a smoker given that they use the health insurance plan is 0.4 or 40%."
   ]
  },
  {
   "cell_type": "markdown",
   "id": "b813e780-8241-4ba0-8700-8190bd23368c",
   "metadata": {},
   "source": [
    "## Q2. What is the difference between Bernoulli Naive Bayes and Multinomial Naive Bayes?"
   ]
  },
  {
   "cell_type": "markdown",
   "id": "714646d5-930d-4f3e-8f8f-6b818d730141",
   "metadata": {},
   "source": [
    "Answer:\n",
    "\n",
    "Bernoulli Naive Bayes is used for binary data (0 or 1). It checks whether a feature is present or not.\n",
    "\n",
    "Multinomial Naive Bayes is used for count-based data. It uses the frequency of the features (like word counts in text)."
   ]
  },
  {
   "cell_type": "markdown",
   "id": "69765ed2-4603-4d23-be7c-319a805600ad",
   "metadata": {},
   "source": [
    "## Q3. How does Bernoulli Naive Bayes handle missing values?"
   ]
  },
  {
   "cell_type": "markdown",
   "id": "fa448030-bfb5-4e5f-9cde-1c10d6893f39",
   "metadata": {},
   "source": [
    "Answer:\n",
    "Bernoulli Naive Bayes does not handle missing values automatically. You need to handle missing values manually before using the model. You can either fill missing values using techniques like mean, median, or mode, or drop rows/columns with missing data."
   ]
  },
  {
   "cell_type": "markdown",
   "id": "2902a58c-049b-4037-8540-a167b0274435",
   "metadata": {},
   "source": [
    "## Q4. Can Gaussian Naive Bayes be used for multi-class classification?"
   ]
  },
  {
   "cell_type": "markdown",
   "id": "04be11ed-9e69-4933-80a3-721c073701ec",
   "metadata": {},
   "source": [
    "Answer:\n",
    "Yes, Gaussian Naive Bayes can be used for multi-class classification problems. It works well when the features are continuous and normally distributed.\n",
    "\n"
   ]
  },
  {
   "cell_type": "markdown",
   "id": "835564c6-08a7-4880-a121-b693d5bf99d0",
   "metadata": {},
   "source": [
    "## Q5. Assignment - Naive Bayes on Spambase Dataset"
   ]
  },
  {
   "cell_type": "code",
   "execution_count": 18,
   "id": "d03c20d3-c92a-4a4b-a8f0-3d6c73254557",
   "metadata": {},
   "outputs": [
    {
     "name": "stdout",
     "output_type": "stream",
     "text": [
      "\n",
      "Evaluation Results on Digits Dataset:\n",
      "\n",
      "               Accuracy  Precision (macro avg)  Recall (macro avg)  \\\n",
      "BernoulliNB    0.853088               0.854572            0.853334   \n",
      "MultinomialNB  0.900390               0.905234            0.900618   \n",
      "GaussianNB     0.842515               0.866145            0.842328   \n",
      "\n",
      "               F1 Score (macro avg)  \n",
      "BernoulliNB                0.852106  \n",
      "MultinomialNB              0.900947  \n",
      "GaussianNB                 0.843662  \n"
     ]
    }
   ],
   "source": [
    "# Import necessary libraries\n",
    "import numpy as np\n",
    "import pandas as pd\n",
    "from sklearn.datasets import load_digits\n",
    "from sklearn.model_selection import StratifiedKFold, cross_val_predict\n",
    "from sklearn.naive_bayes import BernoulliNB, MultinomialNB, GaussianNB\n",
    "from sklearn.metrics import accuracy_score, precision_score, recall_score, f1_score\n",
    "\n",
    "# Load the inbuilt Digits dataset\n",
    "digits = load_digits()\n",
    "X = digits.data\n",
    "y = digits.target\n",
    "\n",
    "# Define 10-fold cross-validation\n",
    "cv = StratifiedKFold(n_splits=10, shuffle=True, random_state=42)\n",
    "\n",
    "# Define classifiers\n",
    "models = {\n",
    "    \"BernoulliNB\": BernoulliNB(),\n",
    "    \"MultinomialNB\": MultinomialNB(),\n",
    "    \"GaussianNB\": GaussianNB()\n",
    "}\n",
    "\n",
    "# Store results\n",
    "results = {}\n",
    "\n",
    "# Loop through models and evaluate\n",
    "for name, model in models.items():\n",
    "    y_pred = cross_val_predict(model, X, y, cv=cv)\n",
    "    \n",
    "    results[name] = {\n",
    "        \"Accuracy\": accuracy_score(y, y_pred),\n",
    "        \"Precision (macro avg)\": precision_score(y, y_pred, average='macro', zero_division=0),\n",
    "        \"Recall (macro avg)\": recall_score(y, y_pred, average='macro', zero_division=0),\n",
    "        \"F1 Score (macro avg)\": f1_score(y, y_pred, average='macro', zero_division=0)\n",
    "    }\n",
    "\n",
    "# Convert results to DataFrame for display\n",
    "results_df = pd.DataFrame(results).T\n",
    "print(\"\\nEvaluation Results on Digits Dataset:\\n\")\n",
    "print(results_df)\n"
   ]
  },
  {
   "cell_type": "code",
   "execution_count": null,
   "id": "05db9a31-9363-46f1-92dc-09d5f51eb98c",
   "metadata": {},
   "outputs": [],
   "source": []
  }
 ],
 "metadata": {
  "kernelspec": {
   "display_name": "Python (tf_env)",
   "language": "python",
   "name": "tf_env"
  },
  "language_info": {
   "codemirror_mode": {
    "name": "ipython",
    "version": 3
   },
   "file_extension": ".py",
   "mimetype": "text/x-python",
   "name": "python",
   "nbconvert_exporter": "python",
   "pygments_lexer": "ipython3",
   "version": "3.12.7"
  }
 },
 "nbformat": 4,
 "nbformat_minor": 5
}
