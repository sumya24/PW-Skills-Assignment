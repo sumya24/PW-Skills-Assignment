{
 "cells": [
  {
   "cell_type": "markdown",
   "id": "2cef906a-bb15-4057-89aa-6e0d54202d9f",
   "metadata": {},
   "source": [
    "## Q1. Create a Pandas Series that contains the following data: 4, 8, 15, 16, 23, and 42. Then, print the series.\n"
   ]
  },
  {
   "cell_type": "code",
   "execution_count": 3,
   "id": "04b5c973-733a-4ea7-82e1-9e065e544646",
   "metadata": {},
   "outputs": [
    {
     "name": "stdout",
     "output_type": "stream",
     "text": [
      "0     4\n",
      "1     8\n",
      "2    15\n",
      "3    16\n",
      "4    23\n",
      "5    42\n",
      "dtype: int64\n"
     ]
    }
   ],
   "source": [
    "import pandas as pd\n",
    "\n",
    "# Creating a Series\n",
    "data = [4, 8, 15, 16, 23, 42]\n",
    "series = pd.Series(data)\n",
    "\n",
    "# Printing the Series\n",
    "print(series)\n"
   ]
  },
  {
   "cell_type": "markdown",
   "id": "ad318139-fb3e-45a1-884c-a67ea9a34288",
   "metadata": {},
   "source": [
    "## Q2. Create a variable of list type containing 10 elements in it, and apply pandas.Series function on the variable and print it.\n"
   ]
  },
  {
   "cell_type": "code",
   "execution_count": 6,
   "id": "ad9a1531-0fb3-49f7-a2b2-4b49e8791916",
   "metadata": {},
   "outputs": [
    {
     "name": "stdout",
     "output_type": "stream",
     "text": [
      "0     10\n",
      "1     20\n",
      "2     30\n",
      "3     40\n",
      "4     50\n",
      "5     60\n",
      "6     70\n",
      "7     80\n",
      "8     90\n",
      "9    100\n",
      "dtype: int64\n"
     ]
    }
   ],
   "source": [
    "# List of 10 elements\n",
    "my_list = [10, 20, 30, 40, 50, 60, 70, 80, 90, 100]\n",
    "\n",
    "# Creating Series\n",
    "my_series = pd.Series(my_list)\n",
    "\n",
    "# Printing Series\n",
    "print(my_series)\n"
   ]
  },
  {
   "cell_type": "markdown",
   "id": "4fc0ff5b-e70a-4b3c-ae31-4a1aa82fad1c",
   "metadata": {},
   "source": [
    "## Q3. Create a Pandas DataFrame that contains the following data:"
   ]
  },
  {
   "cell_type": "code",
   "execution_count": 9,
   "id": "cdf8a654-45e9-46a1-aca2-feb9c1786b46",
   "metadata": {},
   "outputs": [
    {
     "name": "stdout",
     "output_type": "stream",
     "text": [
      "     Name  Age  Gender\n",
      "0   Alice   25  Female\n",
      "1     Bob   30    Male\n",
      "2  Claire   27  Female\n"
     ]
    }
   ],
   "source": [
    "# Creating DataFrame from dictionary\n",
    "data = {\n",
    "    'Name': ['Alice', 'Bob', 'Claire'],\n",
    "    'Age': [25, 30, 27],\n",
    "    'Gender': ['Female', 'Male', 'Female']\n",
    "}\n",
    "\n",
    "df = pd.DataFrame(data)\n",
    "\n",
    "# Printing the DataFrame\n",
    "print(df)\n"
   ]
  },
  {
   "cell_type": "markdown",
   "id": "68c8497e-5fc3-4237-85c0-0cefd137e162",
   "metadata": {},
   "source": [
    "## Q4. What is ‘DataFrame’ in pandas and how is it different from pandas.Series? Explain with an example."
   ]
  },
  {
   "cell_type": "markdown",
   "id": "5b3160d4-728a-4749-ac6c-dfeef5e8f0e9",
   "metadata": {},
   "source": [
    "Answer:\n",
    "\n",
    "A DataFrame is a two-dimensional, tabular data structure in pandas with labeled rows and columns. It can store multiple columns of different data types.\n",
    "\n",
    "A Series is a one-dimensional array with labels (like a single column)."
   ]
  },
  {
   "cell_type": "code",
   "execution_count": 12,
   "id": "22aed3d1-0748-4991-afdd-79c6ff648ab4",
   "metadata": {},
   "outputs": [
    {
     "name": "stdout",
     "output_type": "stream",
     "text": [
      "Series:\n",
      " 0    1\n",
      "1    2\n",
      "2    3\n",
      "dtype: int64\n",
      "\n",
      "DataFrame:\n",
      "    Name  Age\n",
      "0  John   28\n",
      "1  Sara   22\n"
     ]
    }
   ],
   "source": [
    "# Series Example\n",
    "s = pd.Series([1, 2, 3])\n",
    "print(\"Series:\\n\", s)\n",
    "\n",
    "# DataFrame Example\n",
    "df = pd.DataFrame({\n",
    "    'Name': ['John', 'Sara'],\n",
    "    'Age': [28, 22]\n",
    "})\n",
    "print(\"\\nDataFrame:\\n\", df)\n"
   ]
  },
  {
   "cell_type": "markdown",
   "id": "2e4eee75-3e3f-4cd3-87aa-b53819c85ce9",
   "metadata": {},
   "source": [
    "## Q5. What are some common functions you can use to manipulate data in a Pandas DataFrame? Can you give an example of when you might use one of these functions?"
   ]
  },
  {
   "cell_type": "markdown",
   "id": "1480ce3a-cc8e-4e46-8712-d49c0c4ee1b5",
   "metadata": {},
   "source": [
    "Common functions:\n",
    "\n",
    "head(), tail() – View top/bottom rows.\n",
    "\n",
    "describe() – Summary statistics.\n",
    "\n",
    "info() – Overview of data.\n",
    "\n",
    "drop() – Remove rows/columns.\n",
    "\n",
    "fillna() – Handle missing values.\n",
    "\n",
    "groupby() – Group data.\n",
    "\n",
    "sort_values() – Sort data."
   ]
  },
  {
   "cell_type": "code",
   "execution_count": 15,
   "id": "0d34ff17-497b-4ad6-9123-cce026252ca7",
   "metadata": {},
   "outputs": [
    {
     "name": "stdout",
     "output_type": "stream",
     "text": [
      "  Name  Score\n",
      "0    A   90.0\n",
      "1    B    0.0\n",
      "2    C   85.0\n"
     ]
    }
   ],
   "source": [
    "df = pd.DataFrame({\n",
    "    'Name': ['A', 'B', 'C'],\n",
    "    'Score': [90, None, 85]\n",
    "})\n",
    "\n",
    "# Filling missing values\n",
    "df = df.fillna(0)\n",
    "print(df)\n"
   ]
  },
  {
   "cell_type": "markdown",
   "id": "6c39ffda-c700-4ea4-a4c6-b10c7af424b6",
   "metadata": {},
   "source": [
    "## Q6. Which of the following is mutable in nature: Series, DataFrame, Panel?"
   ]
  },
  {
   "cell_type": "markdown",
   "id": "52829198-ec56-4c72-8a8b-bb6b87ea9206",
   "metadata": {},
   "source": [
    "Answer: All of them are mutable, but note:\n",
    "\n",
    "Series – Mutable.\n",
    "\n",
    "DataFrame – Mutable.\n",
    "\n",
    "Panel – Deprecated in newer versions of pandas (replaced by multi-index DataFrames and xarray)."
   ]
  },
  {
   "cell_type": "markdown",
   "id": "fc259a01-0d22-4b0d-a996-9e765e4c1c51",
   "metadata": {},
   "source": [
    "## Q7. Create a DataFrame using multiple Series. Explain with an example."
   ]
  },
  {
   "cell_type": "code",
   "execution_count": 19,
   "id": "fe1ff8f1-8289-425f-a039-067a2a25167a",
   "metadata": {},
   "outputs": [
    {
     "name": "stdout",
     "output_type": "stream",
     "text": [
      "    Name  Age Gender\n",
      "0    Tom   22   Male\n",
      "1  Jerry   25   Male\n",
      "2  Spike   30   Male\n"
     ]
    }
   ],
   "source": [
    "# Creating Series\n",
    "names = pd.Series(['Tom', 'Jerry', 'Spike'])\n",
    "ages = pd.Series([22, 25, 30])\n",
    "genders = pd.Series(['Male', 'Male', 'Male'])\n",
    "\n",
    "# Creating DataFrame from Series\n",
    "data = pd.DataFrame({\n",
    "    'Name': names,\n",
    "    'Age': ages,\n",
    "    'Gender': genders\n",
    "})\n",
    "\n",
    "# Printing the DataFrame\n",
    "print(data)\n"
   ]
  },
  {
   "cell_type": "code",
   "execution_count": null,
   "id": "d012e00a-2ec7-4715-bf98-f3cd4882da8d",
   "metadata": {},
   "outputs": [],
   "source": []
  }
 ],
 "metadata": {
  "kernelspec": {
   "display_name": "Python (tf_env)",
   "language": "python",
   "name": "tf_env"
  },
  "language_info": {
   "codemirror_mode": {
    "name": "ipython",
    "version": 3
   },
   "file_extension": ".py",
   "mimetype": "text/x-python",
   "name": "python",
   "nbconvert_exporter": "python",
   "pygments_lexer": "ipython3",
   "version": "3.12.7"
  }
 },
 "nbformat": 4,
 "nbformat_minor": 5
}
