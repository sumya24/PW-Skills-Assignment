{
 "cells": [
  {
   "cell_type": "markdown",
   "id": "a054dcaf-6211-4c3a-9c43-eed8364bf55d",
   "metadata": {},
   "source": [
    "## Q1. Explain the difference between linear regression and logistic regression models. Provide an example of a scenario where logistic regression would be more appropriate."
   ]
  },
  {
   "cell_type": "markdown",
   "id": "d50c6059-0fe3-4faa-ae05-df397b26c923",
   "metadata": {},
   "source": [
    "Answer:\n",
    "\n",
    "Linear Regression:\n",
    "\n",
    "Predicts a continuous numerical value.\n",
    "\n",
    "Output is unbounded (can range from -∞ to +∞).\n",
    "\n",
    "Example: Predicting house price based on area and number of rooms.\n",
    "\n",
    "Logistic Regression:\n",
    "\n",
    "Predicts a probability that maps into a class label (usually binary classification).\n",
    "\n",
    "Output is bounded between 0 and 1 using the sigmoid function.\n",
    "\n",
    "Example: Predicting whether a patient has a disease (Yes/No) based on diagnostic data."
   ]
  },
  {
   "cell_type": "markdown",
   "id": "b24f8c02-3f56-4bb4-830c-0c6e19ff60f4",
   "metadata": {},
   "source": [
    "## Q2. What is the cost function used in logistic regression, and how is it optimized?"
   ]
  },
  {
   "cell_type": "markdown",
   "id": "74bc70c7-dd20-487b-9455-855875f93ac4",
   "metadata": {},
   "source": [
    "Answer:\n",
    "\n",
    "The cost function used in logistic regression is called log loss or binary cross-entropy. It calculates the difference between the predicted probabilities and the actual class labels.\n",
    "\n",
    "It is optimized using gradient descent, which updates the model weights iteratively to minimize the cost function."
   ]
  },
  {
   "cell_type": "markdown",
   "id": "3cb33db4-5606-472b-97e5-7a07d0af5c0e",
   "metadata": {},
   "source": [
    "## Q3. Explain the concept of regularization in logistic regression and how it helps prevent overfitting."
   ]
  },
  {
   "cell_type": "markdown",
   "id": "f86f77e6-b258-4305-9049-0f6d67287ef4",
   "metadata": {},
   "source": [
    "Answer:\n",
    "\n",
    "Regularization is a technique used to prevent overfitting by adding a penalty to the loss function for having large model coefficients. This forces the model to keep the weights small, reducing complexity.\n",
    "\n",
    "There are two main types:\n",
    "\n",
    "L1 Regularization (Lasso): Can reduce some coefficients to zero, helping with feature selection.\n",
    "\n",
    "L2 Regularization (Ridge): Shrinks coefficients but does not make them exactly zero.\n",
    "\n",
    "Regularization helps improve the model’s generalization to new data.\n",
    "\n"
   ]
  },
  {
   "cell_type": "markdown",
   "id": "b6fbcd62-cd50-4f8d-9eb6-47f8deaebb23",
   "metadata": {},
   "source": [
    "## Q4. What is the ROC curve, and how is it used to evaluate the performance of the logistic regression model?"
   ]
  },
  {
   "cell_type": "markdown",
   "id": "08a7ac6b-abc5-48af-af08-3f2829211af6",
   "metadata": {},
   "source": [
    "Answer:\n",
    "\n",
    "The ROC (Receiver Operating Characteristic) curve is a plot of the true positive rate (sensitivity) against the false positive rate for different threshold values.\n",
    "\n",
    "It helps visualize the performance of a classification model across all thresholds.\n",
    "\n",
    "AUC (Area Under the Curve) is often used to summarize the ROC curve. The higher the AUC, the better the model is at distinguishing between the classes."
   ]
  },
  {
   "cell_type": "markdown",
   "id": "993d1352-32f5-4a7f-b3ff-0e33c10fb278",
   "metadata": {},
   "source": [
    "## Q5. What are some common techniques for feature selection in logistic regression? How do these techniques help improve the model's performance?"
   ]
  },
  {
   "cell_type": "markdown",
   "id": "0beef342-6e80-41f1-9c65-fa2ee90839bf",
   "metadata": {},
   "source": [
    "Answer:\n",
    "\n",
    "Common techniques for feature selection include:\n",
    "\n",
    "Recursive Feature Elimination (RFE)\n",
    "\n",
    "L1 Regularization (Lasso)\n",
    "\n",
    "Statistical tests (like chi-square for categorical features)\n",
    "\n",
    "Correlation analysis to remove redundant features\n",
    "\n",
    "These techniques help improve performance by reducing overfitting, speeding up training, and making the model easier to interpret."
   ]
  },
  {
   "cell_type": "markdown",
   "id": "d68aeb0e-3f8a-4beb-a098-82be15570a16",
   "metadata": {},
   "source": [
    "## Q6. How can you handle imbalanced datasets in logistic regression? What are some strategies for dealing with class imbalance?"
   ]
  },
  {
   "cell_type": "markdown",
   "id": "9724b775-b7c6-4b4a-ad58-aff2083a9e34",
   "metadata": {},
   "source": [
    "Answer:\n",
    "\n",
    "Strategies to handle imbalanced datasets include:\n",
    "\n",
    "Oversampling the minority class (e.g., using SMOTE)\n",
    "\n",
    "Undersampling the majority class\n",
    "\n",
    "Using class weights in the logistic regression model to give more importance to the minority class\n",
    "\n",
    "Choosing proper evaluation metrics like F1-score, Precision, Recall, and AUC instead of just Accuracy"
   ]
  },
  {
   "cell_type": "markdown",
   "id": "812b9e2b-4313-46c4-b594-4569784ece3e",
   "metadata": {},
   "source": [
    "## Q7. Can you discuss some common issues and challenges that may arise when implementing logistic regression, and how they can be addressed?"
   ]
  },
  {
   "cell_type": "markdown",
   "id": "905fbcf9-2009-4f05-a0ff-2f2f2f82b80c",
   "metadata": {},
   "source": [
    "Answer:\n",
    "\n",
    "Multicollinearity: When features are highly correlated, it can cause instability in the model. Use techniques like removing correlated features or applying L2 regularization.\n",
    "\n",
    "Imbalanced data: Leads to biased models. Use resampling or class weights to balance the data.\n",
    "\n",
    "Outliers: Can distort the model. Detect and remove or transform them.\n",
    "\n",
    "Missing data: Logistic regression does not handle missing values. You need to fill them (imputation) or remove rows/columns with missing values.\n",
    "\n",
    "Non-linearity: Logistic regression assumes a linear relationship between features and the log-odds. If the relationship is non-linear, consider transforming the data or using non-linear models."
   ]
  },
  {
   "cell_type": "code",
   "execution_count": null,
   "id": "f05d2d64-23f6-436d-bcd4-d41a138b693c",
   "metadata": {},
   "outputs": [],
   "source": []
  }
 ],
 "metadata": {
  "kernelspec": {
   "display_name": "Python (tf_env)",
   "language": "python",
   "name": "tf_env"
  },
  "language_info": {
   "codemirror_mode": {
    "name": "ipython",
    "version": 3
   },
   "file_extension": ".py",
   "mimetype": "text/x-python",
   "name": "python",
   "nbconvert_exporter": "python",
   "pygments_lexer": "ipython3",
   "version": "3.12.7"
  }
 },
 "nbformat": 4,
 "nbformat_minor": 5
}
