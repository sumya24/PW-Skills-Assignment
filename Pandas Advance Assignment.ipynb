{
 "cells": [
  {
   "cell_type": "markdown",
   "id": "01ffb500-2251-401b-91b2-a70537614760",
   "metadata": {},
   "source": [
    "## Q1. List any five functions of the pandas library with execution."
   ]
  },
  {
   "cell_type": "code",
   "execution_count": 3,
   "id": "c17502ac-cf3f-4a08-8b0d-2b8c98e94658",
   "metadata": {},
   "outputs": [
    {
     "name": "stdout",
     "output_type": "stream",
     "text": [
      "1. head():\n",
      "       Name  Age  Salary\n",
      "0    Alice   25   50000\n",
      "1      Bob   30   60000\n",
      "2  Charlie   35   70000\n",
      "\n",
      "2. describe():\n",
      "         Age   Salary\n",
      "count   3.0      3.0\n",
      "mean   30.0  60000.0\n",
      "std     5.0  10000.0\n",
      "min    25.0  50000.0\n",
      "25%    27.5  55000.0\n",
      "50%    30.0  60000.0\n",
      "75%    32.5  65000.0\n",
      "max    35.0  70000.0\n",
      "\n",
      "3. info():\n",
      "<class 'pandas.core.frame.DataFrame'>\n",
      "RangeIndex: 3 entries, 0 to 2\n",
      "Data columns (total 3 columns):\n",
      " #   Column  Non-Null Count  Dtype \n",
      "---  ------  --------------  ----- \n",
      " 0   Name    3 non-null      object\n",
      " 1   Age     3 non-null      int64 \n",
      " 2   Salary  3 non-null      int64 \n",
      "dtypes: int64(2), object(1)\n",
      "memory usage: 204.0+ bytes\n",
      "\n",
      "4. isnull():\n",
      "     Name    Age  Salary\n",
      "0  False  False   False\n",
      "1  False  False   False\n",
      "2  False  False   False\n",
      "\n",
      "5. shape:\n",
      " (3, 3)\n"
     ]
    }
   ],
   "source": [
    "import pandas as pd\n",
    "\n",
    "# Sample DataFrame\n",
    "df = pd.DataFrame({\n",
    "    'Name': ['Alice', 'Bob', 'Charlie'],\n",
    "    'Age': [25, 30, 35],\n",
    "    'Salary': [50000, 60000, 70000]\n",
    "})\n",
    "\n",
    "# 1. head()\n",
    "print(\"1. head():\\n\", df.head())\n",
    "\n",
    "# 2. describe()\n",
    "print(\"\\n2. describe():\\n\", df.describe())\n",
    "\n",
    "# 3. info()\n",
    "print(\"\\n3. info():\")\n",
    "df.info()\n",
    "\n",
    "# 4. isnull()\n",
    "print(\"\\n4. isnull():\\n\", df.isnull())\n",
    "\n",
    "# 5. shape\n",
    "print(\"\\n5. shape:\\n\", df.shape)\n"
   ]
  },
  {
   "cell_type": "markdown",
   "id": "8a7e64a5-70b9-4985-bd32-cb0724b41c41",
   "metadata": {},
   "source": [
    "## Q2. Reindex with new index starting from 1 and incrementing by 2"
   ]
  },
  {
   "cell_type": "code",
   "execution_count": 6,
   "id": "5d579aee-743f-4cd2-9e5c-8c0a8d9925e7",
   "metadata": {},
   "outputs": [
    {
     "name": "stdout",
     "output_type": "stream",
     "text": [
      "   A  B  C\n",
      "1  1  4  7\n",
      "3  2  5  8\n",
      "5  3  6  9\n"
     ]
    }
   ],
   "source": [
    "def reindex_df(df):\n",
    "    new_index = range(1, 2*len(df)+1, 2)\n",
    "    df.index = new_index\n",
    "    return df\n",
    "\n",
    "# Example\n",
    "df = pd.DataFrame({'A': [1, 2, 3], 'B': [4, 5, 6], 'C': [7, 8, 9]})\n",
    "print(reindex_df(df))\n"
   ]
  },
  {
   "cell_type": "markdown",
   "id": "e26393cd-d615-456a-8d65-0911cbb57b9d",
   "metadata": {},
   "source": [
    "## Q3. Sum of first 3 values in 'Values' column"
   ]
  },
  {
   "cell_type": "code",
   "execution_count": 9,
   "id": "23e026c6-5ca3-4da5-a08e-3afc099dc2de",
   "metadata": {},
   "outputs": [
    {
     "name": "stdout",
     "output_type": "stream",
     "text": [
      "Sum of first 3 values: 60\n"
     ]
    }
   ],
   "source": [
    "def sum_first_three(df):\n",
    "    total = df['Values'].iloc[:3].sum()\n",
    "    print(\"Sum of first 3 values:\", total)\n",
    "\n",
    "df = pd.DataFrame({'Values': [10, 20, 30, 40, 50]})\n",
    "sum_first_three(df)\n"
   ]
  },
  {
   "cell_type": "markdown",
   "id": "0bdd324a-dd49-4c7c-9606-55360f76cb31",
   "metadata": {},
   "source": [
    " ## Q4. Create new column 'Word_Count' from 'Text'"
   ]
  },
  {
   "cell_type": "code",
   "execution_count": 12,
   "id": "0dbbcbd1-4fdb-4029-9378-681ee7a489ed",
   "metadata": {},
   "outputs": [
    {
     "name": "stdout",
     "output_type": "stream",
     "text": [
      "                 Text  Word_Count\n",
      "0         Hello world           2\n",
      "1  Pandas is powerful           3\n",
      "2        Data Science           2\n"
     ]
    }
   ],
   "source": [
    "def word_count_column(df):\n",
    "    df['Word_Count'] = df['Text'].apply(lambda x: len(str(x).split()))\n",
    "    return df\n",
    "\n",
    "df = pd.DataFrame({'Text': [\"Hello world\", \"Pandas is powerful\", \"Data Science\"]})\n",
    "print(word_count_column(df))\n"
   ]
  },
  {
   "cell_type": "markdown",
   "id": "787a8bb2-183a-4b2b-b30a-a8e116d47a52",
   "metadata": {},
   "source": [
    "##  Q5. Difference between .size and .shape"
   ]
  },
  {
   "cell_type": "raw",
   "id": "a671f031-4c75-4756-85dc-a5981e30f5e1",
   "metadata": {},
   "source": [
    ".size returns total number of elements (rows × columns).\n",
    "\n",
    ".shape returns a tuple of (rows, columns)."
   ]
  },
  {
   "cell_type": "code",
   "execution_count": 15,
   "id": "315d126c-8ee4-4dd5-8dae-40373af8c673",
   "metadata": {},
   "outputs": [
    {
     "name": "stdout",
     "output_type": "stream",
     "text": [
      "Size: 6\n",
      "Shape: (3, 2)\n"
     ]
    }
   ],
   "source": [
    "print(\"Size:\", df.size)\n",
    "print(\"Shape:\", df.shape)\n"
   ]
  },
  {
   "cell_type": "markdown",
   "id": "464a3391-4808-4cdf-8b24-3f2462787aea",
   "metadata": {},
   "source": [
    "##  Q6. Function to read an Excel file"
   ]
  },
  {
   "cell_type": "raw",
   "id": "f6b78825-2590-4663-b0b3-832f64bc73ad",
   "metadata": {},
   "source": [
    "Function used: pd.read_excel('filename.xlsx')\n",
    "# Example (make sure the file exists):\n",
    "df = pd.read_excel('data.xlsx')\n"
   ]
  },
  {
   "cell_type": "markdown",
   "id": "9f5e95b1-650f-4bf9-b43e-863765875d70",
   "metadata": {},
   "source": [
    "## Q8. Select rows where A > 5 and B < 10"
   ]
  },
  {
   "cell_type": "code",
   "execution_count": 19,
   "id": "cb06f8ea-27e5-45a3-8672-24ffacb3476b",
   "metadata": {},
   "outputs": [
    {
     "name": "stdout",
     "output_type": "stream",
     "text": [
      "   A  B  C\n",
      "1  8  2  7\n",
      "2  6  9  4\n",
      "4  9  1  2\n"
     ]
    }
   ],
   "source": [
    "def filter_rows(df):\n",
    "    return df[(df['A'] > 5) & (df['B'] < 10)]\n",
    "\n",
    "df = pd.DataFrame({\n",
    "    'A': [3, 8, 6, 2, 9],\n",
    "    'B': [5, 2, 9, 3, 1],\n",
    "    'C': [1, 7, 4, 5, 2]\n",
    "})\n",
    "\n",
    "print(filter_rows(df))\n"
   ]
  },
  {
   "cell_type": "markdown",
   "id": "04bf371a-d10c-44c8-a8ae-d8a4cbb92cbc",
   "metadata": {},
   "source": [
    "##  Q9. Calculate mean, median, and std deviation of 'Values'"
   ]
  },
  {
   "cell_type": "code",
   "execution_count": 22,
   "id": "b3655d24-8305-4ab1-b2c9-8241404e2422",
   "metadata": {},
   "outputs": [
    {
     "name": "stdout",
     "output_type": "stream",
     "text": [
      "Mean: 30.0\n",
      "Median: 30.0\n",
      "Standard Deviation: 15.811388300841896\n"
     ]
    }
   ],
   "source": [
    "def calculate_stats(df):\n",
    "    mean_val = df['Values'].mean()\n",
    "    median_val = df['Values'].median()\n",
    "    std_val = df['Values'].std()\n",
    "    print(\"Mean:\", mean_val)\n",
    "    print(\"Median:\", median_val)\n",
    "    print(\"Standard Deviation:\", std_val)\n",
    "\n",
    "df = pd.DataFrame({'Values': [10, 20, 30, 40, 50]})\n",
    "calculate_stats(df)\n"
   ]
  },
  {
   "cell_type": "markdown",
   "id": "53dd5a41-e339-4c7c-83da-f90b9f849b87",
   "metadata": {},
   "source": [
    "##  Q10. Create 'MovingAverage' for past 7 days"
   ]
  },
  {
   "cell_type": "code",
   "execution_count": 25,
   "id": "eb7678eb-683f-45e0-baa7-b17c4b22145d",
   "metadata": {},
   "outputs": [
    {
     "name": "stdout",
     "output_type": "stream",
     "text": [
      "        Date  Sales  MovingAverage\n",
      "0 2023-01-01    100            NaN\n",
      "1 2023-01-02    120            NaN\n",
      "2 2023-01-03    130            NaN\n",
      "3 2023-01-04    150            NaN\n",
      "4 2023-01-05    170            NaN\n",
      "5 2023-01-06    160            NaN\n",
      "6 2023-01-07    180     144.285714\n",
      "7 2023-01-08    200     158.571429\n",
      "8 2023-01-09    220     172.857143\n",
      "9 2023-01-10    240     188.571429\n"
     ]
    }
   ],
   "source": [
    "def add_moving_average(df):\n",
    "    df['Date'] = pd.to_datetime(df['Date'])\n",
    "    df = df.sort_values('Date')\n",
    "    df['MovingAverage'] = df['Sales'].rolling(window=7).mean()\n",
    "    return df\n",
    "\n",
    "# Example\n",
    "df = pd.DataFrame({\n",
    "    'Date': pd.date_range(start='2023-01-01', periods=10),\n",
    "    'Sales': [100, 120, 130, 150, 170, 160, 180, 200, 220, 240]\n",
    "})\n",
    "print(add_moving_average(df))\n"
   ]
  },
  {
   "cell_type": "markdown",
   "id": "5bb5b0c7-fe32-4733-92c8-c2631e238a29",
   "metadata": {},
   "source": [
    "## Q11. Add weekday name from 'Date' column"
   ]
  },
  {
   "cell_type": "code",
   "execution_count": 28,
   "id": "d7b6667b-0c25-4887-807d-9b4aa6eda79c",
   "metadata": {},
   "outputs": [
    {
     "name": "stdout",
     "output_type": "stream",
     "text": [
      "        Date    Weekday\n",
      "0 2023-01-01     Sunday\n",
      "1 2023-01-02     Monday\n",
      "2 2023-01-03    Tuesday\n",
      "3 2023-01-04  Wednesday\n",
      "4 2023-01-05   Thursday\n"
     ]
    }
   ],
   "source": [
    "def add_weekday(df):\n",
    "    df['Date'] = pd.to_datetime(df['Date'])\n",
    "    df['Weekday'] = df['Date'].dt.day_name()\n",
    "    return df\n",
    "\n",
    "df = pd.DataFrame({\n",
    "    'Date': ['2023-01-01', '2023-01-02', '2023-01-03', '2023-01-04', '2023-01-05']\n",
    "})\n",
    "\n",
    "print(add_weekday(df))\n"
   ]
  },
  {
   "cell_type": "markdown",
   "id": "a4bc7ee0-ada1-42cf-b16a-63857a4eda46",
   "metadata": {},
   "source": [
    "## Q12. Select rows with dates in January 2023"
   ]
  },
  {
   "cell_type": "code",
   "execution_count": 31,
   "id": "56a40eae-d1cf-46c2-b6fb-4775e3b2bb19",
   "metadata": {},
   "outputs": [
    {
     "name": "stdout",
     "output_type": "stream",
     "text": [
      "         Date\n",
      "7  2023-01-01\n",
      "8  2023-01-02\n",
      "9  2023-01-03\n",
      "10 2023-01-04\n",
      "11 2023-01-05\n",
      "12 2023-01-06\n",
      "13 2023-01-07\n",
      "14 2023-01-08\n",
      "15 2023-01-09\n",
      "16 2023-01-10\n",
      "17 2023-01-11\n",
      "18 2023-01-12\n",
      "19 2023-01-13\n",
      "20 2023-01-14\n",
      "21 2023-01-15\n",
      "22 2023-01-16\n",
      "23 2023-01-17\n",
      "24 2023-01-18\n",
      "25 2023-01-19\n",
      "26 2023-01-20\n",
      "27 2023-01-21\n",
      "28 2023-01-22\n",
      "29 2023-01-23\n",
      "30 2023-01-24\n",
      "31 2023-01-25\n",
      "32 2023-01-26\n",
      "33 2023-01-27\n",
      "34 2023-01-28\n",
      "35 2023-01-29\n",
      "36 2023-01-30\n",
      "37 2023-01-31\n"
     ]
    }
   ],
   "source": [
    "def select_january_rows(df):\n",
    "    df['Date'] = pd.to_datetime(df['Date'])\n",
    "    return df[(df['Date'] >= '2023-01-01') & (df['Date'] <= '2023-01-31')]\n",
    "\n",
    "df = pd.DataFrame({\n",
    "    'Date': pd.date_range(start='2022-12-25', periods=40)\n",
    "})\n",
    "print(select_january_rows(df))\n"
   ]
  },
  {
   "cell_type": "markdown",
   "id": "118d077b-3521-4c43-8b1b-b641802e5600",
   "metadata": {},
   "source": [
    "## Q13. First library to import when using pandas?"
   ]
  },
  {
   "cell_type": "code",
   "execution_count": 34,
   "id": "ae00df66-0f6f-4bbd-87b4-0d2659c5567c",
   "metadata": {},
   "outputs": [],
   "source": [
    "# Answer:\n",
    "# The first and foremost library to import is:\n",
    "\n",
    "import pandas as pd\n"
   ]
  },
  {
   "cell_type": "code",
   "execution_count": null,
   "id": "a11a5355-54c2-4826-aac6-721509965bc7",
   "metadata": {},
   "outputs": [],
   "source": []
  }
 ],
 "metadata": {
  "kernelspec": {
   "display_name": "Python (tf_env)",
   "language": "python",
   "name": "tf_env"
  },
  "language_info": {
   "codemirror_mode": {
    "name": "ipython",
    "version": 3
   },
   "file_extension": ".py",
   "mimetype": "text/x-python",
   "name": "python",
   "nbconvert_exporter": "python",
   "pygments_lexer": "ipython3",
   "version": "3.12.7"
  }
 },
 "nbformat": 4,
 "nbformat_minor": 5
}
