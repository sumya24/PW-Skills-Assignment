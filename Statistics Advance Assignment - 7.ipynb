{
 "cells": [
  {
   "cell_type": "markdown",
   "id": "9c9dfb58-1052-432a-b1df-13c9ce1a1e86",
   "metadata": {},
   "source": [
    "## Q1. Write a Python function that takes in two arrays of data and calculates the F-value for a variance ratio test. The function should return the F-value and the corresponding p-value for the test."
   ]
  },
  {
   "cell_type": "code",
   "execution_count": 3,
   "id": "41f66ce9-5cbc-4608-9eea-bc34eb423d38",
   "metadata": {},
   "outputs": [
    {
     "name": "stdout",
     "output_type": "stream",
     "text": [
      "F-value: 1.857, P-value: 0.282\n"
     ]
    }
   ],
   "source": [
    "from scipy.stats import f\n",
    "import numpy as np\n",
    "\n",
    "def f_test(data1, data2):\n",
    "    var1 = np.var(data1, ddof=1)\n",
    "    var2 = np.var(data2, ddof=1)\n",
    "    f_value = var1 / var2\n",
    "    dfn = len(data1) - 1\n",
    "    dfd = len(data2) - 1\n",
    "    p_value = 1 - f.cdf(f_value, dfn, dfd)\n",
    "    return f_value, p_value\n",
    "\n",
    "# Example usage:\n",
    "data1 = [10, 12, 9, 11, 10]\n",
    "data2 = [8, 9, 7, 8, 9]\n",
    "f_val, p_val = f_test(data1, data2)\n",
    "print(f\"F-value: {f_val:.3f}, P-value: {p_val:.3f}\")\n"
   ]
  },
  {
   "cell_type": "markdown",
   "id": "23775fa3-af95-4ab6-84d3-52f23390ea75",
   "metadata": {},
   "source": [
    "## Q2. Given a significance level of 0.05 and the degrees of freedom for the numerator and denominator of an F-distribution, write a Python function that returns the critical F-value for a two-tailed test."
   ]
  },
  {
   "cell_type": "code",
   "execution_count": 6,
   "id": "f9ec24a7-5318-4a93-a4fd-4d162ab3515b",
   "metadata": {},
   "outputs": [
    {
     "name": "stdout",
     "output_type": "stream",
     "text": [
      "Critical F-value (two-tailed): 4.2361\n"
     ]
    }
   ],
   "source": [
    "from scipy.stats import f\n",
    "\n",
    "def critical_f_value(alpha, dfn, dfd):\n",
    "    return f.ppf(1 - alpha / 2, dfn, dfd)\n",
    "\n",
    "# Example:\n",
    "alpha = 0.05\n",
    "dfn, dfd = 5, 10\n",
    "critical_value = critical_f_value(alpha, dfn, dfd)\n",
    "print(\"Critical F-value (two-tailed):\", round(critical_value, 4))\n"
   ]
  },
  {
   "cell_type": "markdown",
   "id": "36d7ad18-5ca1-44c1-9216-c1cfba9d96be",
   "metadata": {},
   "source": [
    "## Q3. Write a Python program that generates random samples from two normal distributions with known variances and uses an F-test to determine if the variances are equal. The program should output the F-value, degrees of freedom, and p-value for the test."
   ]
  },
  {
   "cell_type": "code",
   "execution_count": 9,
   "id": "68e34676-17bf-4a6c-95df-b79bde63c935",
   "metadata": {},
   "outputs": [
    {
     "name": "stdout",
     "output_type": "stream",
     "text": [
      "F-value: 3.259, df1: 29, df2: 29, P-value: 0.001\n"
     ]
    }
   ],
   "source": [
    "np.random.seed(0)\n",
    "sample1 = np.random.normal(loc=0, scale=3, size=30)\n",
    "sample2 = np.random.normal(loc=0, scale=2, size=30)\n",
    "\n",
    "f_val, p_val = f_test(sample1, sample2)\n",
    "print(f\"F-value: {f_val:.3f}, df1: {len(sample1)-1}, df2: {len(sample2)-1}, P-value: {p_val:.3f}\")\n"
   ]
  },
  {
   "cell_type": "markdown",
   "id": "67a805b2-367f-435e-86d7-973f5b0a3dde",
   "metadata": {},
   "source": [
    "## Q4. The variances of two populations are known to be 10 and 15. A sample of 12 observations is taken from each population. Conduct an F-test at the 5% significance level to determine if the variances are significantly different.\n"
   ]
  },
  {
   "cell_type": "code",
   "execution_count": 12,
   "id": "81b176f2-9354-46cf-971d-4e4404d5c43a",
   "metadata": {},
   "outputs": [
    {
     "name": "stdout",
     "output_type": "stream",
     "text": [
      "F-value: 0.667, P-value: 0.744\n"
     ]
    }
   ],
   "source": [
    "var1, var2 = 10, 15\n",
    "n1 = n2 = 12\n",
    "f_val = var1 / var2\n",
    "dfn, dfd = n1 - 1, n2 - 1\n",
    "p_val = 1 - f.cdf(f_val, dfn, dfd)\n",
    "\n",
    "print(f\"F-value: {f_val:.3f}, P-value: {p_val:.3f}\")\n"
   ]
  },
  {
   "cell_type": "markdown",
   "id": "0d3c9a17-149b-45aa-8548-cae2bf1321f3",
   "metadata": {},
   "source": [
    "## Q5. A manufacturer claims that the variance of the diameter of a certain product is 0.005. A sample of 25 products is taken, and the sample variance is found to be 0.006. Conduct an F-test at the 1% significance level to determine if the claim is justified."
   ]
  },
  {
   "cell_type": "code",
   "execution_count": 15,
   "id": "a6d63d6d-160f-4c7f-b220-b68766ca4cdb",
   "metadata": {},
   "outputs": [
    {
     "name": "stdout",
     "output_type": "stream",
     "text": [
      "F-value: 1.200, P-value: 0.329\n"
     ]
    }
   ],
   "source": [
    "claimed_var = 0.005\n",
    "sample_var = 0.006\n",
    "n = 25\n",
    "\n",
    "f_val = sample_var / claimed_var\n",
    "dfn = n - 1\n",
    "p_val = 1 - f.cdf(f_val, dfn, dfn)  # one-sample F-test\n",
    "\n",
    "print(f\"F-value: {f_val:.3f}, P-value: {p_val:.3f}\")\n"
   ]
  },
  {
   "cell_type": "markdown",
   "id": "b608baab-16c4-48bf-b07a-368750ea268f",
   "metadata": {},
   "source": [
    "##  Q6. Write a Python function that takes in the degrees of freedom for the numerator and denominator of an F-distribution and calculates the mean and variance of the distribution. The function should return the mean and variance as a tuple."
   ]
  },
  {
   "cell_type": "code",
   "execution_count": 18,
   "id": "3c8aed33-6c6b-4ddb-9f76-35b79f286561",
   "metadata": {},
   "outputs": [
    {
     "name": "stdout",
     "output_type": "stream",
     "text": [
      "Mean: 1.250, Variance: 1.354\n"
     ]
    }
   ],
   "source": [
    "def f_dist_mean_variance(dfn, dfd):\n",
    "    if dfd > 2:\n",
    "        mean = dfd / (dfd - 2)\n",
    "    else:\n",
    "        mean = np.nan\n",
    "\n",
    "    if dfd > 4:\n",
    "        variance = (2 * (dfd ** 2) * (dfn + dfd - 2)) / (dfn * (dfd - 2)**2 * (dfd - 4))\n",
    "    else:\n",
    "        variance = np.nan\n",
    "\n",
    "    return mean, variance\n",
    "\n",
    "# Example:\n",
    "mean, var = f_dist_mean_variance(5, 10)\n",
    "print(f\"Mean: {mean:.3f}, Variance: {var:.3f}\")\n"
   ]
  },
  {
   "cell_type": "markdown",
   "id": "dd6fbb75-5612-445d-9ae6-22cf10c7e02a",
   "metadata": {},
   "source": [
    "## Q7. A random sample of 10 measurements is taken from a normal population with unknown variance. The sample variance is found to be 25. Another random sample of 15 measurements is taken from another normal population with unknown variance, and the sample variance is found to be 20. Conduct an F-test at the 10% significance level to determine if the variances are significantly different."
   ]
  },
  {
   "cell_type": "code",
   "execution_count": 21,
   "id": "713c5514-603f-437c-b632-7ad546f2ca1a",
   "metadata": {},
   "outputs": [
    {
     "name": "stdout",
     "output_type": "stream",
     "text": [
      "F-value: 1.250, P-value: 0.342\n"
     ]
    }
   ],
   "source": [
    "sample_var1 = 25\n",
    "sample_var2 = 20\n",
    "n1 = 10\n",
    "n2 = 15\n",
    "\n",
    "f_val = sample_var1 / sample_var2\n",
    "dfn = n1 - 1\n",
    "dfd = n2 - 1\n",
    "p_val = 1 - f.cdf(f_val, dfn, dfd)\n",
    "\n",
    "print(f\"F-value: {f_val:.3f}, P-value: {p_val:.3f}\")\n"
   ]
  },
  {
   "cell_type": "markdown",
   "id": "840de8cf-8c40-4491-ae4c-6ff11f983335",
   "metadata": {},
   "source": [
    "## Q8. The following data represent the waiting times in minutes at two different restaurants on a Saturday night:"
   ]
  },
  {
   "cell_type": "code",
   "execution_count": 24,
   "id": "175a26ed-99a8-430c-962e-189d0be7336c",
   "metadata": {},
   "outputs": [
    {
     "name": "stdout",
     "output_type": "stream",
     "text": [
      "F-value: 1.455, P-value: 0.349\n"
     ]
    }
   ],
   "source": [
    "rest_a = [24, 25, 28, 23, 22, 20, 27]\n",
    "rest_b = [31, 33, 35, 30, 32, 36]\n",
    "\n",
    "f_val, p_val = f_test(rest_a, rest_b)\n",
    "print(f\"F-value: {f_val:.3f}, P-value: {p_val:.3f}\")\n"
   ]
  },
  {
   "cell_type": "markdown",
   "id": "3fba7c76-b4c1-4936-8899-5384bc44b13b",
   "metadata": {},
   "source": [
    "## Q9. The following data represent the test scores of two groups of students:"
   ]
  },
  {
   "cell_type": "code",
   "execution_count": 27,
   "id": "c306f640-44a9-4a5b-9065-9a98b6eea74f",
   "metadata": {},
   "outputs": [
    {
     "name": "stdout",
     "output_type": "stream",
     "text": [
      "F-value: 1.944, P-value: 0.242\n"
     ]
    }
   ],
   "source": [
    "group_a = [80, 85, 90, 92, 87, 83]\n",
    "group_b = [75, 78, 82, 79, 81, 84]\n",
    "\n",
    "f_val, p_val = f_test(group_a, group_b)\n",
    "print(f\"F-value: {f_val:.3f}, P-value: {p_val:.3f}\")\n"
   ]
  },
  {
   "cell_type": "code",
   "execution_count": null,
   "id": "cc6e235e-098d-46a4-aca7-93719d2ab0a5",
   "metadata": {},
   "outputs": [],
   "source": []
  }
 ],
 "metadata": {
  "kernelspec": {
   "display_name": "Python (tf_env)",
   "language": "python",
   "name": "tf_env"
  },
  "language_info": {
   "codemirror_mode": {
    "name": "ipython",
    "version": 3
   },
   "file_extension": ".py",
   "mimetype": "text/x-python",
   "name": "python",
   "nbconvert_exporter": "python",
   "pygments_lexer": "ipython3",
   "version": "3.12.7"
  }
 },
 "nbformat": 4,
 "nbformat_minor": 5
}
