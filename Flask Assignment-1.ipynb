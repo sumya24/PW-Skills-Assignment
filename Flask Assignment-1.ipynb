{
 "cells": [
  {
   "cell_type": "markdown",
   "id": "d3e3156e-3d37-4ba5-9759-b41a9cd7294b",
   "metadata": {},
   "source": [
    "## Q1. What is Flask Framework? What are the advantages of Flask Framework?"
   ]
  },
  {
   "cell_type": "markdown",
   "id": "581838cb-debc-4e96-90a6-5e4c8c2db2c1",
   "metadata": {},
   "source": [
    "Answer:\n",
    "\n",
    "Flask is a lightweight and flexible Python web framework used for building web applications and REST APIs. It is based on Werkzeug and Jinja2, and is known for being simple, modular, and easy to extend.\n",
    "\n",
    "Advantages of Flask Framework:\n",
    "\n",
    "Lightweight and minimalistic.\n",
    "\n",
    "Built-in development server and debugger.\n",
    "\n",
    "Easy to learn and use for beginners.\n",
    "\n",
    "Supports extensions like Flask-SQLAlchemy, Flask-Login, etc.\n",
    "\n",
    "Flexible for both small and large applications.\n",
    "\n",
    "RESTful request dispatching is simple."
   ]
  },
  {
   "cell_type": "markdown",
   "id": "e8c7caea-d8b3-4186-b9dd-9203a3f9ff2b",
   "metadata": {},
   "source": [
    "## Q2. Create a simple Flask application to display ‘Hello World!!’"
   ]
  },
  {
   "cell_type": "code",
   "execution_count": null,
   "id": "10a9f671-de32-4103-ad34-6b633ebb703d",
   "metadata": {},
   "outputs": [],
   "source": [
    "# app.py\n",
    "\n",
    "from flask import Flask\n",
    "\n",
    "app = Flask(__name__)\n",
    "\n",
    "@app.route('/')\n",
    "def hello():\n",
    "    return \"Hello World!!\"\n",
    "\n",
    "if __name__ == '__main__':\n",
    "    app.run(debug=True)\n"
   ]
  },
  {
   "cell_type": "markdown",
   "id": "2d27e58c-80ec-42d0-9334-3c7012397840",
   "metadata": {},
   "source": [
    "## Q3. What is App Routing in Flask? Why do we use app routes?"
   ]
  },
  {
   "cell_type": "markdown",
   "id": "4c411689-97fe-4450-a723-863e5218bed8",
   "metadata": {},
   "source": [
    "Answer:\n",
    "\n",
    "App routing in Flask refers to binding a specific URL (route) to a function. It helps us map URLs to Python functions which return the desired web page content.\n",
    "\n",
    "We use routes because:\n",
    "\n",
    "It defines the user access paths (URLs).\n",
    "\n",
    "Helps organize web application logic.\n",
    "\n",
    "Connects URLs to specific view functions."
   ]
  },
  {
   "cell_type": "code",
   "execution_count": null,
   "id": "ba036bed-75a7-4ab1-97b2-8c943bfe77e7",
   "metadata": {},
   "outputs": [],
   "source": [
    "@app.route('/about')\n",
    "def about():\n",
    "    return \"This is the About Page\"\n"
   ]
  },
  {
   "cell_type": "markdown",
   "id": "d2a4e1af-1c50-48b8-b9c9-b39ef7521673",
   "metadata": {},
   "source": [
    "## Q4. Create “/welcome” and “/” routes"
   ]
  },
  {
   "cell_type": "code",
   "execution_count": null,
   "id": "0b2b0b82-1dea-47d1-85ad-1bcde31ab97f",
   "metadata": {},
   "outputs": [],
   "source": [
    "# app.py\n",
    "\n",
    "from flask import Flask\n",
    "\n",
    "app = Flask(__name__)\n",
    "\n",
    "@app.route('/')\n",
    "def home():\n",
    "    return \"\"\"\n",
    "    <h1>Company Name: ABC Corporation</h1>\n",
    "    <h2>Location: India</h2>\n",
    "    <h3>Contact Detail: 999-999-9999</h3>\n",
    "    \"\"\"\n",
    "\n",
    "@app.route('/welcome')\n",
    "def welcome():\n",
    "    return \"<h1>Welcome to ABC Corporation</h1>\"\n",
    "\n",
    "if __name__ == '__main__':\n",
    "    app.run(debug=True)\n"
   ]
  },
  {
   "cell_type": "markdown",
   "id": "5f6b567f-57ed-44c7-94c6-90f32553a69c",
   "metadata": {},
   "source": [
    "## Q5. What function is used in Flask for URL Building?"
   ]
  },
  {
   "cell_type": "markdown",
   "id": "9ba90959-3b9e-4049-9718-064838811f18",
   "metadata": {},
   "source": [
    "Answer:\n",
    "\n",
    "Flask uses the url_for() function to build dynamic URLs using the function name. This helps avoid hardcoding routes and is useful when URLs change."
   ]
  },
  {
   "cell_type": "code",
   "execution_count": null,
   "id": "dc9b35ff-4f76-4c9b-9481-8b953e43d681",
   "metadata": {},
   "outputs": [],
   "source": [
    "from flask import Flask, url_for\n",
    "\n",
    "app = Flask(__name__)\n",
    "\n",
    "@app.route('/')\n",
    "def index():\n",
    "    return f\"Visit the About page here: <a href='{url_for('about')}'>About</a>\"\n",
    "\n",
    "@app.route('/about')\n",
    "def about():\n",
    "    return \"This is the About page.\"\n",
    "\n",
    "if __name__ == '__main__':\n",
    "    app.run(debug=True)\n"
   ]
  },
  {
   "cell_type": "code",
   "execution_count": null,
   "id": "283a85dd-be61-4031-8827-bd956f4958f1",
   "metadata": {},
   "outputs": [],
   "source": []
  }
 ],
 "metadata": {
  "kernelspec": {
   "display_name": "Python (tf_env)",
   "language": "python",
   "name": "tf_env"
  },
  "language_info": {
   "codemirror_mode": {
    "name": "ipython",
    "version": 3
   },
   "file_extension": ".py",
   "mimetype": "text/x-python",
   "name": "python",
   "nbconvert_exporter": "python",
   "pygments_lexer": "ipython3",
   "version": "3.12.7"
  }
 },
 "nbformat": 4,
 "nbformat_minor": 5
}
