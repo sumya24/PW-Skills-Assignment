{
 "cells": [
  {
   "cell_type": "markdown",
   "id": "dfd9a5ac-37b3-48b1-acde-103251c319e9",
   "metadata": {},
   "source": [
    "## Q1. Write a code to print the data present in the second row of the dataframe, df."
   ]
  },
  {
   "cell_type": "code",
   "execution_count": 5,
   "id": "71b8e008-1d53-434a-baf9-fb154170c661",
   "metadata": {},
   "outputs": [
    {
     "name": "stdout",
     "output_type": "stream",
     "text": [
      "course_name    Machine Learning\n",
      "duration                      3\n",
      "Name: 1, dtype: object\n"
     ]
    }
   ],
   "source": [
    "import pandas as pd\n",
    "\n",
    "course_name = ['Data Science', 'Machine Learning', 'Big Data', 'Data Engineer']\n",
    "duration = [2, 3, 6, 4]\n",
    "\n",
    "df = pd.DataFrame(data={'course_name': course_name, 'duration': duration})\n",
    "\n",
    "\n",
    "# Using iloc to access the second row (index 1)\n",
    "print(df.iloc[1])\n"
   ]
  },
  {
   "cell_type": "markdown",
   "id": "f3faa2d8-25e3-4df4-ab73-088b0c6ec375",
   "metadata": {},
   "source": [
    "## Q2. What is the difference between the functions loc and iloc in pandas.DataFrame?"
   ]
  },
  {
   "cell_type": "markdown",
   "id": "5ace7819-9f2e-4b95-a35b-990c2b1fee16",
   "metadata": {},
   "source": [
    "Answer:\n",
    "\n",
    "loc is used for label-based indexing. It accesses rows and columns using labels or boolean arrays.\n",
    "\n",
    "iloc is used for integer-based indexing. It accesses rows and columns by position/index number.\n"
   ]
  },
  {
   "cell_type": "code",
   "execution_count": 8,
   "id": "65834e0d-a21a-47f0-93dc-2e3b72727c95",
   "metadata": {},
   "outputs": [
    {
     "data": {
      "text/plain": [
       "course_name    Machine Learning\n",
       "duration                      3\n",
       "Name: 1, dtype: object"
      ]
     },
     "execution_count": 8,
     "metadata": {},
     "output_type": "execute_result"
    }
   ],
   "source": [
    "df.loc[1]   # Access row with index label 1\n",
    "df.iloc[1]  # Access second row (position 1)\n"
   ]
  },
  {
   "cell_type": "markdown",
   "id": "e016d578-87a0-426b-ac71-7904c909883e",
   "metadata": {},
   "source": [
    "## Q3. Reindex the given dataframe using a variable, reindex = [3, 0, 1, 2] and store it in the variable, new_df then find the output for both new_df.loc[2] and new_df.iloc[2]."
   ]
  },
  {
   "cell_type": "code",
   "execution_count": 11,
   "id": "2ce86339-a904-4da6-ba7c-1eb2b7b4f310",
   "metadata": {},
   "outputs": [
    {
     "name": "stdout",
     "output_type": "stream",
     "text": [
      "new_df.loc[2]:\n",
      " course_name    Big Data\n",
      "duration              6\n",
      "Name: 2, dtype: object\n",
      "new_df.iloc[2]:\n",
      " course_name    Machine Learning\n",
      "duration                      3\n",
      "Name: 1, dtype: object\n"
     ]
    }
   ],
   "source": [
    "reindex = [3, 0, 1, 2]\n",
    "new_df = df.reindex(reindex)\n",
    "\n",
    "print(\"new_df.loc[2]:\\n\", new_df.loc[2])\n",
    "print(\"new_df.iloc[2]:\\n\", new_df.iloc[2])\n"
   ]
  },
  {
   "cell_type": "markdown",
   "id": "0ad9fd72-91e2-4013-b5e0-e4e6575a72c4",
   "metadata": {},
   "source": [
    "## Q4. Write a code to find the following statistical measurements for the dataframe df1"
   ]
  },
  {
   "cell_type": "code",
   "execution_count": 14,
   "id": "ccbdbbd6-1c83-4517-958f-4b23b65ea46d",
   "metadata": {},
   "outputs": [],
   "source": [
    "import numpy as np\n",
    "\n",
    "columns = ['column_1', 'column_2', 'column_3', 'column_4', 'column_5', 'column_6']\n",
    "indices = [1, 2, 3, 4, 5, 6]\n",
    "df1 = pd.DataFrame(np.random.rand(6,6), columns=columns, index=indices)\n"
   ]
  },
  {
   "cell_type": "code",
   "execution_count": 16,
   "id": "a361ba9c-91a1-460c-8229-5a709392729c",
   "metadata": {},
   "outputs": [
    {
     "data": {
      "text/plain": [
       "0.36024563606957316"
      ]
     },
     "execution_count": 16,
     "metadata": {},
     "output_type": "execute_result"
    }
   ],
   "source": [
    "# (i) Find the mean of each and every column:\n",
    "df1.mean()\n",
    "# (ii) Find the standard deviation of column 'column_2'\n",
    "df1['column_2'].std()\n"
   ]
  },
  {
   "cell_type": "markdown",
   "id": "01b27840-b638-4b48-8e50-dce63e4c1044",
   "metadata": {},
   "source": [
    "## **Q5. Replace the data present in the second row of column 'column_2' by a string variable then find the mean of column 'column_2'."
   ]
  },
  {
   "cell_type": "code",
   "execution_count": 19,
   "id": "aa33c9f4-04d1-4b02-addb-548055ebc014",
   "metadata": {},
   "outputs": [
    {
     "name": "stdout",
     "output_type": "stream",
     "text": [
      "Error: unsupported operand type(s) for +: 'float' and 'str'\n"
     ]
    },
    {
     "name": "stderr",
     "output_type": "stream",
     "text": [
      "C:\\Users\\sumit\\AppData\\Local\\Temp\\ipykernel_11864\\3328226842.py:1: FutureWarning: Setting an item of incompatible dtype is deprecated and will raise an error in a future version of pandas. Value 'hello' has dtype incompatible with float64, please explicitly cast to a compatible dtype first.\n",
      "  df1.loc[2, 'column_2'] = 'hello'\n"
     ]
    }
   ],
   "source": [
    "df1.loc[2, 'column_2'] = 'hello'\n",
    "\n",
    "# Try to calculate mean\n",
    "try:\n",
    "    print(df1['column_2'].mean())\n",
    "except Exception as e:\n",
    "    print(\"Error:\", e)\n"
   ]
  },
  {
   "cell_type": "markdown",
   "id": "173a578c-441b-45bd-9b8a-ddbb0807a5b6",
   "metadata": {},
   "source": [
    "We get an error because we inserted a string value into a column that originally contained float numbers. The mean() function can't operate on non-numeric data."
   ]
  },
  {
   "cell_type": "markdown",
   "id": "8accf23b-cb85-4a57-a177-2c158b0dd5c4",
   "metadata": {},
   "source": [
    "## Q6. What do you understand about the window functions in pandas and list the types of window functions?"
   ]
  },
  {
   "cell_type": "markdown",
   "id": "8327a8e9-609e-4ea3-8aee-7c2b8863f80b",
   "metadata": {},
   "source": [
    "Answer:\n",
    "Window functions are used to perform rolling statistics or aggregations on a series of data using a moving window of fixed size.\n",
    "\n",
    "Types of window functions in pandas:\n",
    "\n",
    "rolling() – For fixed-size moving window operations (e.g., rolling mean).\n",
    "\n",
    "expanding() – Expanding window that grows over time.\n",
    "\n",
    "ewm() – Exponential moving windows for giving more weight to recent values."
   ]
  },
  {
   "cell_type": "markdown",
   "id": "4c596828-06bf-4990-bc47-ca0176a29584",
   "metadata": {},
   "source": [
    "## Q7. Write a code to print only the current month and year at the time of answering this question."
   ]
  },
  {
   "cell_type": "code",
   "execution_count": 24,
   "id": "a57e86cc-471d-4bd9-9f59-4219faeaca72",
   "metadata": {},
   "outputs": [
    {
     "name": "stdout",
     "output_type": "stream",
     "text": [
      "Current Month: 3\n",
      "Current Year: 2025\n"
     ]
    }
   ],
   "source": [
    "import pandas as pd\n",
    "\n",
    "now = pd.to_datetime(\"today\")\n",
    "print(\"Current Month:\", now.month)\n",
    "print(\"Current Year:\", now.year)\n"
   ]
  },
  {
   "cell_type": "markdown",
   "id": "b82e0c3d-ada4-41ce-8a9d-5f478d1996bc",
   "metadata": {},
   "source": [
    "## Q8. Write a Python program that takes in two dates as input (in the format YYYY-MM-DD) and calculates the difference between them in days, hours, and minutes using pandas timedelta. The program should prompt the user to enter the dates and display the result."
   ]
  },
  {
   "cell_type": "code",
   "execution_count": 27,
   "id": "1b1eb4b6-9c72-4a17-a0fc-0203992313cc",
   "metadata": {},
   "outputs": [
    {
     "name": "stdin",
     "output_type": "stream",
     "text": [
      "Enter first date (YYYY-MM-DD):  2003-04-24\n",
      "Enter second date (YYYY-MM-DD):  2025-05-01\n"
     ]
    },
    {
     "name": "stdout",
     "output_type": "stream",
     "text": [
      "Days: 8043\n",
      "Hours: 193032.0\n",
      "Minutes: 11581920.0\n"
     ]
    }
   ],
   "source": [
    "date1 = pd.to_datetime(input(\"Enter first date (YYYY-MM-DD): \"))\n",
    "date2 = pd.to_datetime(input(\"Enter second date (YYYY-MM-DD): \"))\n",
    "\n",
    "delta = date2 - date1\n",
    "\n",
    "print(\"Days:\", delta.days)\n",
    "print(\"Hours:\", delta.total_seconds() // 3600)\n",
    "print(\"Minutes:\", delta.total_seconds() // 60)\n"
   ]
  },
  {
   "cell_type": "markdown",
   "id": "d75cacfa-9f51-4675-a5ad-bc2a261d3b20",
   "metadata": {},
   "source": [
    "## Q9. Write a Python program that reads a CSV file containing categorical data and converts a specified column to a categorical data type. The program should prompt the user to enter the file path, column name, and category order, and then display the sorted data."
   ]
  },
  {
   "cell_type": "code",
   "execution_count": null,
   "id": "cea80aaa-7da3-48e5-b125-a0a1f3bbf870",
   "metadata": {},
   "outputs": [],
   "source": [
    "file_path = input(\"CSV file path: \")\n",
    "column_name = input(\"Enter the categorical column name: \")\n",
    "category_order = input(\"Enter category order (comma separated): \").split(',')\n",
    "\n",
    "df = pd.read_csv(file_path)\n",
    "df[column_name] = pd.Categorical(df[column_name], categories=category_order, ordered=True)\n",
    "\n",
    "print(df.sort_values(by=column_name))\n"
   ]
  },
  {
   "cell_type": "markdown",
   "id": "148607c4-5b00-4295-ab82-c94e451d75e9",
   "metadata": {},
   "source": [
    "## Q10. Write a Python program that reads a CSV file containing sales data for different products and visualizes the data using a stacked bar chart to show the sales of each product category over time. The program should prompt the user to enter the file path and display the chart."
   ]
  },
  {
   "cell_type": "code",
   "execution_count": null,
   "id": "ac6f4edb-be53-46c1-ae46-5182dcc5af69",
   "metadata": {},
   "outputs": [],
   "source": [
    "import matplotlib.pyplot as plt\n",
    "\n",
    "file_path = input(\"Enter the CSV file path: \")\n",
    "df = pd.read_csv(file_path)\n",
    "\n",
    "# Assumes: Date, Product, Sales columns\n",
    "pivot = df.pivot_table(index='Date', columns='Product', values='Sales', aggfunc='sum')\n",
    "\n",
    "pivot.plot(kind='bar', stacked=True, figsize=(10,6))\n",
    "plt.ylabel(\"Sales\")\n",
    "plt.title(\"Stacked Sales Chart Over Time\")\n",
    "plt.tight_layout()\n",
    "plt.show()\n"
   ]
  },
  {
   "cell_type": "code",
   "execution_count": null,
   "id": "235f1c3a-1602-4d2a-aae3-06916bb7081c",
   "metadata": {},
   "outputs": [],
   "source": []
  }
 ],
 "metadata": {
  "kernelspec": {
   "display_name": "Python (tf_env)",
   "language": "python",
   "name": "tf_env"
  },
  "language_info": {
   "codemirror_mode": {
    "name": "ipython",
    "version": 3
   },
   "file_extension": ".py",
   "mimetype": "text/x-python",
   "name": "python",
   "nbconvert_exporter": "python",
   "pygments_lexer": "ipython3",
   "version": "3.12.7"
  }
 },
 "nbformat": 4,
 "nbformat_minor": 5
}
