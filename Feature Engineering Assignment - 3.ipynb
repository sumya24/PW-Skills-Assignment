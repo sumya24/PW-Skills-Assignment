{
 "cells": [
  {
   "cell_type": "markdown",
   "id": "72788950-3283-4008-add3-f82912f90cb9",
   "metadata": {},
   "source": [
    "## Q1. What is data encoding? How is it useful in data science?"
   ]
  },
  {
   "cell_type": "markdown",
   "id": "f2570c87-cf32-4536-8f6b-77f7ca3fb2a5",
   "metadata": {},
   "source": [
    "Answer:\n",
    "\n",
    "Data encoding is the process of converting categorical data (non-numeric) into a numerical format so that it can be used by machine learning algorithms.\n",
    "\n",
    "Why is it useful?\n",
    "Most machine learning models require numerical input.\n",
    "\n",
    "Encoding ensures that categorical data can be meaningfully represented in models.\n",
    "\n",
    "It improves the model's ability to detect patterns in the data."
   ]
  },
  {
   "cell_type": "markdown",
   "id": "d5d4ba1c-af47-4ffb-a6cf-e58493d29c79",
   "metadata": {},
   "source": [
    "## Q2. What is nominal encoding? Provide an example of how you would use it in a real-world scenario."
   ]
  },
  {
   "cell_type": "markdown",
   "id": "eaac4f9d-d65c-45da-8256-65ef0fda5ff8",
   "metadata": {},
   "source": [
    "Answer:\n",
    "\n",
    "Nominal encoding (also called label encoding) assigns a unique integer to each category in a categorical feature. It is used when the categories do not have any ordinal relationship.\n",
    "\n",
    "Example:\n",
    "For a \"Color\" column: [\"Red\", \"Blue\", \"Green\"]\n",
    "\n",
    "Nominal encoding might produce:\n",
    "\n",
    "Red → 0\n",
    "\n",
    "Blue → 1\n",
    "\n",
    "Green → 2\n",
    "\n",
    "Real-World Scenario:\n",
    "For a car dataset, we might encode the \"Brand\" column (e.g., Honda, Ford, BMW) using nominal encoding.\n",
    "\n"
   ]
  },
  {
   "cell_type": "markdown",
   "id": "af6a576f-fd93-4654-960e-d2a02332e7a6",
   "metadata": {},
   "source": [
    "## Q3. In what situations is nominal encoding preferred over one-hot encoding? Provide a practical example."
   ]
  },
  {
   "cell_type": "markdown",
   "id": "a8d47b3a-88c3-4ac3-ab72-8d229bce6e70",
   "metadata": {},
   "source": [
    "Answer:\n",
    "\n",
    "Nominal encoding is preferred:\n",
    "\n",
    "When the number of unique categories is large.\n",
    "\n",
    "When memory or storage is a concern.\n",
    "\n",
    "When the model can interpret label values appropriately (e.g., tree-based models like Random Forest or XGBoost).\n",
    "\n",
    "Example:\n",
    "If you have a column \"City\" with 100 unique values, one-hot encoding would create 100 new columns, but nominal encoding would only use 1 column with values from 0 to 99."
   ]
  },
  {
   "cell_type": "markdown",
   "id": "b2ec18a3-5d1d-4450-9c96-34ed6050ac73",
   "metadata": {},
   "source": [
    "## Q4. Suppose you have a dataset containing categorical data with 5 unique values. Which encoding technique would you use to transform this data into a format suitable for machine learning algorithms? Explain why you made this choice."
   ]
  },
  {
   "cell_type": "markdown",
   "id": "b3b97a58-71a4-463b-abbb-e8e304a9d36e",
   "metadata": {},
   "source": [
    "Answer:\n",
    "\n",
    "Choice: If the dataset is small and the algorithm is linear or distance-based (e.g., KNN, Logistic Regression), I would use One-Hot Encoding to avoid implying any order.\n",
    "\n",
    "If the model is tree-based or the dataset is large, I would use Nominal (Label) Encoding to reduce dimensionality.\n",
    "\n",
    "So:\n",
    "\n",
    "One-Hot Encoding for algorithms sensitive to distance and feature scale.\n",
    "\n",
    "Nominal Encoding for algorithms like Decision Trees."
   ]
  },
  {
   "cell_type": "markdown",
   "id": "5274c657-5d21-45d5-9e3c-d7d83d79ba2b",
   "metadata": {},
   "source": [
    "## Q5. In a machine learning project, you have a dataset with 1000 rows and 5 columns. Two of the columns are categorical, and the remaining three columns are numerical. If you were to use nominal encoding to transform the categorical data, how many new columns would be created? Show your calculations."
   ]
  },
  {
   "cell_type": "markdown",
   "id": "010c164c-b6a7-452e-a266-d981c34a6363",
   "metadata": {},
   "source": [
    "Answer:\n",
    "\n",
    "Nominal encoding does not increase the number of columns—it replaces categorical values with integer codes.\n",
    "\n",
    "So:\n",
    "\n",
    "2 categorical columns → 2 columns (encoded)\n",
    "\n",
    "3 numerical columns remain unchanged\n",
    "\n",
    "Total Columns After Encoding: 5"
   ]
  },
  {
   "cell_type": "markdown",
   "id": "2124e4b8-e5fc-480c-9bf2-477efd3408dd",
   "metadata": {},
   "source": [
    "## Q6. You are working with a dataset containing information about different types of animals, including their species, habitat, and diet. Which encoding technique would you use to transform the categorical data into a format suitable for machine learning algorithms? Justify your answer."
   ]
  },
  {
   "cell_type": "markdown",
   "id": "1fffb972-180b-4269-b991-5e962cbee665",
   "metadata": {},
   "source": [
    "Answer:\n",
    "\n",
    "For this dataset:\n",
    "\n",
    "If the number of categories in each column is small → use One-Hot Encoding.\n",
    "\n",
    "If the categories are many and the model is tree-based → use Nominal Encoding.\n",
    "\n",
    "Justification:\n",
    "\"Species\", \"Habitat\", and \"Diet\" are nominal categories (no inherent order).\n",
    "\n",
    "If using a model like Logistic Regression or SVM → One-Hot Encoding.\n",
    "\n",
    "If using Random Forest or XGBoost → Nominal Encoding."
   ]
  },
  {
   "cell_type": "markdown",
   "id": "7add6a42-9382-4456-8b1d-a3dd4abe12c2",
   "metadata": {},
   "source": [
    "## Q7. You are working on a project that involves predicting customer churn for a telecommunications company. You have a dataset with 5 features, including the customer's gender, age, contract type, monthly charges, and tenure. Which encoding technique(s) would you use to transform the categorical data into numerical data? Provide a step-by-step explanation of how you would implement the encoding."
   ]
  },
  {
   "cell_type": "markdown",
   "id": "5d3bd51d-b91f-4cdf-a284-991558dd26c6",
   "metadata": {},
   "source": [
    "Answer:\n",
    "\n",
    "Features:\n",
    "Categorical: Gender, Contract Type\n",
    "\n",
    "Numerical: Age, Monthly Charges, Tenure\n",
    "\n",
    "Step-by-step Encoding:\n",
    "Identify Categorical Columns:\n",
    "\n",
    "Gender → [\"Male\", \"Female\"]\n",
    "\n",
    "Contract Type → [\"Month-to-month\", \"One year\", \"Two year\"]\n",
    "\n",
    "Choose Encoding:\n",
    "\n",
    "Use One-Hot Encoding for both, as these are nominal with few categories and probably used in logistic regression."
   ]
  },
  {
   "cell_type": "code",
   "execution_count": 9,
   "id": "ec39f85e-f586-4403-b4ab-866ba14f8a71",
   "metadata": {},
   "outputs": [
    {
     "name": "stdout",
     "output_type": "stream",
     "text": [
      "   age  monthly_charges  tenure  gender_Female  gender_Male  \\\n",
      "0   25             70.5      12          False         True   \n",
      "1   45             80.0      24           True        False   \n",
      "2   35             60.2       6           True        False   \n",
      "\n",
      "   contract_type_Month-to-month  contract_type_One year  \\\n",
      "0                          True                   False   \n",
      "1                         False                    True   \n",
      "2                         False                   False   \n",
      "\n",
      "   contract_type_Two year  \n",
      "0                   False  \n",
      "1                   False  \n",
      "2                    True  \n"
     ]
    }
   ],
   "source": [
    "import pandas as pd\n",
    "\n",
    "df = pd.DataFrame({\n",
    "    'gender': ['Male', 'Female', 'Female'],\n",
    "    'contract_type': ['Month-to-month', 'One year', 'Two year'],\n",
    "    'age': [25, 45, 35],\n",
    "    'monthly_charges': [70.5, 80.0, 60.2],\n",
    "    'tenure': [12, 24, 6]\n",
    "})\n",
    "\n",
    "encoded_df = pd.get_dummies(df, columns=['gender', 'contract_type'])\n",
    "print(encoded_df)\n"
   ]
  },
  {
   "cell_type": "code",
   "execution_count": null,
   "id": "ad0d270f-f6d0-4e5e-b5c0-18e71fada3ea",
   "metadata": {},
   "outputs": [],
   "source": []
  }
 ],
 "metadata": {
  "kernelspec": {
   "display_name": "Python (tf_env)",
   "language": "python",
   "name": "tf_env"
  },
  "language_info": {
   "codemirror_mode": {
    "name": "ipython",
    "version": 3
   },
   "file_extension": ".py",
   "mimetype": "text/x-python",
   "name": "python",
   "nbconvert_exporter": "python",
   "pygments_lexer": "ipython3",
   "version": "3.12.7"
  }
 },
 "nbformat": 4,
 "nbformat_minor": 5
}
