{
 "cells": [
  {
   "cell_type": "markdown",
   "id": "6678db25-8526-49d6-bba6-abcc7615c5f8",
   "metadata": {},
   "source": [
    "## Q1. What is an API? Give an example where an API is used in real life."
   ]
  },
  {
   "cell_type": "markdown",
   "id": "d9d18e16-3502-4226-a890-bcdbd41b9f0d",
   "metadata": {},
   "source": [
    "Answer:\n",
    "\n",
    "An API (Application Programming Interface) is a set of rules that allows different software applications to communicate with each other. It defines how requests should be made, what data formats to use, and how responses should be returned.\n",
    "\n",
    "Real-life example:\n",
    "Google Maps API is used by ride-booking apps like Uber or Ola to fetch route details and calculate distances between pickup and drop locations."
   ]
  },
  {
   "cell_type": "markdown",
   "id": "cded1bd3-7ada-4fd9-a564-9f5fe2773661",
   "metadata": {},
   "source": [
    "## Q2. Give advantages and disadvantages of using API."
   ]
  },
  {
   "cell_type": "markdown",
   "id": "f2c770d5-7f6f-4a88-ac56-e81e02882d64",
   "metadata": {},
   "source": [
    "Advantages:\n",
    "\n",
    "Enables integration between different software systems.\n",
    "\n",
    "Saves development time by reusing existing services.\n",
    "\n",
    "Increases automation and efficiency.\n",
    "\n",
    "Allows real-time communication.\n",
    "\n",
    "Encourages modular development.\n",
    "\n",
    "Disadvantages:\n",
    "\n",
    "Security vulnerabilities if not implemented properly.\n",
    "\n",
    "Requires proper documentation for correct usage.\n",
    "\n",
    "Limited control if using third-party APIs.\n",
    "\n",
    "Dependency on external APIs may lead to downtime or failure if service is unavailable."
   ]
  },
  {
   "cell_type": "markdown",
   "id": "5c36aaa5-6cd3-47b3-9e08-bd561254df79",
   "metadata": {},
   "source": [
    "## Q3. What is a Web API? Differentiate between API and Web API."
   ]
  },
  {
   "cell_type": "markdown",
   "id": "8e6a8e83-4e62-4614-b47e-8ce7245a652a",
   "metadata": {},
   "source": [
    "Answer:\n",
    "\n",
    "A Web API is an API that can be accessed over the internet using HTTP/HTTPS protocols. It allows applications to interact with web services, usually using formats like JSON or XML.\n",
    "\n",
    "Difference between API and Web API:\n",
    "\n",
    "API is a general term for any interface that allows communication between software components.\n",
    "\n",
    "Web API is a specific type of API that uses web technologies (HTTP) to allow interaction between systems over the web."
   ]
  },
  {
   "cell_type": "markdown",
   "id": "c50d3b7c-a846-4259-a70c-5eb3f6e477bb",
   "metadata": {},
   "source": [
    "## Q4. Explain REST and SOAP Architecture. Mention shortcomings of SOAP."
   ]
  },
  {
   "cell_type": "markdown",
   "id": "04351db0-1b5d-4114-ba6c-e240598f8aa9",
   "metadata": {},
   "source": [
    "REST (Representational State Transfer):\n",
    "REST is an architectural style for designing networked applications.\n",
    "\n",
    "It uses standard HTTP methods like GET, POST, PUT, DELETE.\n",
    "\n",
    "Data is typically transferred in JSON format.\n",
    "\n",
    "REST is stateless – each request contains all the information needed.\n",
    "\n",
    "SOAP (Simple Object Access Protocol):\n",
    "SOAP is a protocol for exchanging structured information in web services.\n",
    "\n",
    "It uses XML for message formatting.\n",
    "\n",
    "Heavier and requires more bandwidth.\n",
    "\n",
    "Strict standard with built-in security and error handling.\n",
    "\n",
    "Shortcomings of SOAP:\n",
    "Complex to implement.\n",
    "\n",
    "Requires more bandwidth due to XML.\n",
    "\n",
    "Slower performance compared to REST.\n",
    "\n",
    "Less flexible and harder to scale.\n",
    "\n"
   ]
  },
  {
   "cell_type": "markdown",
   "id": "80ea2055-06cf-42ee-b067-8709361c692f",
   "metadata": {},
   "source": [
    "## Q5. Differentiate between REST and SOAP."
   ]
  },
  {
   "cell_type": "markdown",
   "id": "0a3bb6f3-df10-453b-94b0-e1b340dc67b4",
   "metadata": {},
   "source": [
    "Answer (No Table, Plain Text):\n",
    "\n",
    "Architecture: REST is an architectural style, while SOAP is a strict protocol.\n",
    "\n",
    "Data Format: REST commonly uses JSON, while SOAP uses only XML.\n",
    "\n",
    "Speed: REST is faster due to lighter payloads; SOAP is slower due to XML.\n",
    "\n",
    "Flexibility: REST is more flexible and scalable; SOAP is rigid and complex.\n",
    "\n",
    "Ease of Use: REST is easier to understand and implement; SOAP requires more setup and understanding of XML schemas.\n",
    "\n",
    "Security: SOAP has built-in security features (WS-Security), while REST depends on HTTPS and other external mechanisms."
   ]
  },
  {
   "cell_type": "code",
   "execution_count": null,
   "id": "c7eae591-1927-48a3-8162-a2fd128b366a",
   "metadata": {},
   "outputs": [],
   "source": []
  }
 ],
 "metadata": {
  "kernelspec": {
   "display_name": "Python (tf_env)",
   "language": "python",
   "name": "tf_env"
  },
  "language_info": {
   "codemirror_mode": {
    "name": "ipython",
    "version": 3
   },
   "file_extension": ".py",
   "mimetype": "text/x-python",
   "name": "python",
   "nbconvert_exporter": "python",
   "pygments_lexer": "ipython3",
   "version": "3.12.7"
  }
 },
 "nbformat": 4,
 "nbformat_minor": 5
}
