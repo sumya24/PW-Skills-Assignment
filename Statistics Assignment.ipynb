{
 "cells": [
  {
   "cell_type": "markdown",
   "id": "2c1b8a17-a044-4a86-ac45-f059b3241fb3",
   "metadata": {},
   "source": [
    "##  What is Statistics?"
   ]
  },
  {
   "cell_type": "markdown",
   "id": "734a83fb-99a6-489e-93d7-ab8364959af9",
   "metadata": {},
   "source": [
    "Answer: Statistics is a branch of mathematics that deals with collecting, organizing, analyzing, interpreting, and presenting data. It helps in understanding patterns, trends, and making decisions based on data."
   ]
  },
  {
   "cell_type": "markdown",
   "id": "4c022e04-54fc-4ff6-8541-a47ffcbbc70b",
   "metadata": {},
   "source": [
    "## Q2. Define the different types of statistics and give an example of when each type might be used."
   ]
  },
  {
   "cell_type": "markdown",
   "id": "cfd4c648-44b0-4f45-b446-6c20c72bbf0c",
   "metadata": {},
   "source": [
    "Answer: There are two main types of statistics:\n",
    "\n",
    "Descriptive Statistics: Summarizes and describes the features of a dataset.\n",
    "\n",
    "Example: Calculating the average score of students in a class.\n",
    "\n",
    "Inferential Statistics: Makes predictions or inferences about a population based on a sample.\n",
    "\n",
    "Example: Estimating the average income of a city based on a sample survey.\n",
    "\n"
   ]
  },
  {
   "cell_type": "markdown",
   "id": "7371f387-b52a-4e24-b5fb-988f2bd3cf97",
   "metadata": {},
   "source": [
    "## Q3. What are the different types of data and how do they differ from each other? Provide an example of each type of data."
   ]
  },
  {
   "cell_type": "markdown",
   "id": "3c19bc16-525c-41e8-8b08-2bd4731fe6df",
   "metadata": {},
   "source": [
    "Answer: There are two major types of data:\n",
    "\n",
    "Qualitative (Categorical) Data: Represents categories or labels.\n",
    "\n",
    "Example: Gender (Male, Female), Blood Type (A, B, AB, O)\n",
    "\n",
    "Quantitative (Numerical) Data: Represents numbers and can be measured.\n",
    "\n",
    "Example: Age (25, 30, 35), Height (170 cm, 180 cm)"
   ]
  },
  {
   "cell_type": "markdown",
   "id": "15a6445a-644f-4768-afb5-cbf73bf19fda",
   "metadata": {},
   "source": [
    "## Q4. Categorize the following datasets with respect to quantitative and qualitative data types:"
   ]
  },
  {
   "cell_type": "markdown",
   "id": "c05833bb-8736-4895-aab3-cbdd902042df",
   "metadata": {},
   "source": [
    "(i) Grading in exam: A+, A, B+, B, C+, C, D, E → Qualitative (Ordinal)\n",
    "(ii) Colour of mangoes: yellow, green, orange, red → Qualitative (Nominal)\n",
    "(iii) Height data of a class: [178.9, 179, 179.5, 176, 177.2,...] → Quantitative (Continuous)\n",
    "(iv) Number of mangoes exported by a farm: [500, 600, 478, 672,...] → Quantitative (Discrete)"
   ]
  },
  {
   "cell_type": "markdown",
   "id": "be3ca4b3-e57d-4207-b2f3-c7db171fd7fe",
   "metadata": {},
   "source": [
    "## Q5. Explain the concept of levels of measurement and give an example of a variable for each level."
   ]
  },
  {
   "cell_type": "markdown",
   "id": "8f7680da-6f2a-4057-9ea6-6d8fb35251f5",
   "metadata": {},
   "source": [
    "Answer: Levels of measurement indicate the nature of data and determine the types of analysis that can be performed:\n",
    "\n",
    "Nominal: Categories without order.\n",
    "\n",
    "Example: Eye color (Brown, Blue, Green)\n",
    "\n",
    "Ordinal: Categories with a meaningful order.\n",
    "\n",
    "Example: Customer satisfaction (Poor, Average, Good)\n",
    "\n",
    "Interval: Numerical data with equal intervals but no true zero.\n",
    "\n",
    "Example: Temperature in Celsius\n",
    "\n",
    "Ratio: Numerical data with equal intervals and a true zero.\n",
    "\n",
    "Example: Weight, Height, Income"
   ]
  },
  {
   "cell_type": "markdown",
   "id": "a6f47e36-941b-4946-ac24-e00175ea55ac",
   "metadata": {},
   "source": [
    "## Q6. Why is it important to understand the level of measurement when analyzing data? Provide an example to illustrate your answer."
   ]
  },
  {
   "cell_type": "markdown",
   "id": "9f48c0d1-dd92-41b5-893a-17a5ff6328cc",
   "metadata": {},
   "source": [
    "Answer: Understanding the level of measurement is crucial because it dictates the appropriate statistical methods to use. For example, calculating a mean makes sense for ratio data (e.g., income) but not for nominal data (e.g., blood types).\n",
    "\n"
   ]
  },
  {
   "cell_type": "markdown",
   "id": "ff30589c-776c-4abb-a074-75fdf85561b7",
   "metadata": {},
   "source": [
    "## Q7. How is nominal data type different from ordinal data type?"
   ]
  },
  {
   "cell_type": "markdown",
   "id": "ff0f5397-e400-4bfc-bc06-9495b38ba9c3",
   "metadata": {},
   "source": [
    "Answer:\n",
    "\n",
    "Nominal Data: Categories with no inherent order (e.g., colors, gender).\n",
    "\n",
    "Ordinal Data: Categories with a logical order (e.g., rankings, grades), but the difference between categories is not measurable."
   ]
  },
  {
   "cell_type": "markdown",
   "id": "ddf08d69-2f17-4e3d-998d-bfca2fa31abb",
   "metadata": {},
   "source": [
    "## Q8. Which type of plot can be used to display data in terms of range?"
   ]
  },
  {
   "cell_type": "markdown",
   "id": "d20c098f-461a-4dc1-9e09-fa28ff57c151",
   "metadata": {},
   "source": [
    "Answer: A box plot is used to display the distribution of data based on minimum, first quartile (Q1), median, third quartile (Q3), and maximum. It visually represents the range and spread of the data.\n",
    "\n"
   ]
  },
  {
   "cell_type": "markdown",
   "id": "13102dc5-cd86-45f8-b525-af1ff93446b5",
   "metadata": {},
   "source": [
    "## Q9. Describe the difference between descriptive and inferential statistics. Give an example of each type of statistics and explain how they are used."
   ]
  },
  {
   "cell_type": "markdown",
   "id": "3a436c85-ce7b-412a-8a19-e2cd8b47f145",
   "metadata": {},
   "source": [
    "Answer:\n",
    "\n",
    "Descriptive Statistics summarize the main features of a dataset.\n",
    "\n",
    "Example: Mean age of students in a class.\n",
    "\n",
    "Inferential Statistics make predictions or generalizations about a population based on a sample.\n",
    "\n",
    "Example: Predicting election results based on a poll."
   ]
  },
  {
   "cell_type": "markdown",
   "id": "a6c3095d-7a50-4ce1-aa55-c171d5b309fd",
   "metadata": {},
   "source": [
    "## Q10. What are some common measures of central tendency and variability used in statistics? Explain how each measure can be used to describe a dataset."
   ]
  },
  {
   "cell_type": "markdown",
   "id": "3bfa555a-a409-40ca-ba53-436dcd04577b",
   "metadata": {},
   "source": [
    "Answer:\n",
    "\n",
    "Measures of Central Tendency:\n",
    "\n",
    "Mean: Average value.\n",
    "\n",
    "Median: Middle value.\n",
    "\n",
    "Mode: Most frequent value.\n",
    "\n",
    "Measures of Variability:\n",
    "\n",
    "Range: Difference between maximum and minimum.\n",
    "\n",
    "Variance: Average of squared deviations from the mean.\n",
    "\n",
    "Standard Deviation: Square root of variance, indicating spread."
   ]
  },
  {
   "cell_type": "code",
   "execution_count": null,
   "id": "d7066549-aa15-4ca4-b928-91f632382355",
   "metadata": {},
   "outputs": [],
   "source": []
  }
 ],
 "metadata": {
  "kernelspec": {
   "display_name": "Python (tf_env)",
   "language": "python",
   "name": "tf_env"
  },
  "language_info": {
   "codemirror_mode": {
    "name": "ipython",
    "version": 3
   },
   "file_extension": ".py",
   "mimetype": "text/x-python",
   "name": "python",
   "nbconvert_exporter": "python",
   "pygments_lexer": "ipython3",
   "version": "3.12.7"
  }
 },
 "nbformat": 4,
 "nbformat_minor": 5
}
