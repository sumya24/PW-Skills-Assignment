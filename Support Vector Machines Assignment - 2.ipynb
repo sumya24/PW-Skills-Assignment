{
 "cells": [
  {
   "cell_type": "markdown",
   "id": "e2ad06bc-191c-4fbb-97e2-a50832c0420a",
   "metadata": {},
   "source": [
    "### Q1. What is the relationship between polynomial functions and kernel functions in machine learning algorithms?\n",
    "\n",
    "In SVMs, **polynomial functions** are used as **kernel functions** to map the original input space to a higher-dimensional space where the data becomes more separable.\n",
    "\n",
    "The **polynomial kernel** is defined as:\n",
    "\n",
    "K(x, x′) = (xᵀx′ + c)^d\n",
    "\n",
    "Where:\n",
    "- x, x′ = input feature vectors\n",
    "- c = constant (controls flexibility)\n",
    "- d = degree of the polynomial\n",
    "\n",
    "It enables the SVM to learn complex boundaries **without explicitly computing the transformation** (kernel trick)."
   ]
  },
  {
   "cell_type": "markdown",
   "id": "fbda5026-efb6-4ba8-846c-c457740f0781",
   "metadata": {},
   "source": [
    "### Q2. How can we implement an SVM with a polynomial kernel in Python using Scikit-learn?"
   ]
  },
  {
   "cell_type": "code",
   "execution_count": 4,
   "id": "63f2f8b6-0e43-48ad-ae87-e90436ab55a6",
   "metadata": {},
   "outputs": [
    {
     "name": "stdout",
     "output_type": "stream",
     "text": [
      "Accuracy with Polynomial Kernel: 0.9736842105263158\n"
     ]
    }
   ],
   "source": [
    "from sklearn.datasets import load_iris\n",
    "from sklearn.model_selection import train_test_split\n",
    "from sklearn.svm import SVC\n",
    "from sklearn.metrics import accuracy_score\n",
    "\n",
    "# Load Iris dataset\n",
    "iris = load_iris()\n",
    "X, y = iris.data, iris.target\n",
    "\n",
    "# Train-test split\n",
    "X_train, X_test, y_train, y_test = train_test_split(X, y, random_state=42)\n",
    "\n",
    "# SVM with Polynomial Kernel\n",
    "model = SVC(kernel='poly', degree=3, C=1)\n",
    "model.fit(X_train, y_train)\n",
    "y_pred = model.predict(X_test)\n",
    "\n",
    "# Accuracy\n",
    "print(\"Accuracy with Polynomial Kernel:\", accuracy_score(y_test, y_pred))"
   ]
  },
  {
   "cell_type": "markdown",
   "id": "4d6b7881-06af-46f8-98b2-7252ef6429cf",
   "metadata": {},
   "source": [
    "### Q3. How does increasing the value of epsilon affect the number of support vectors in SVR?\n",
    "\n",
    "In **Support Vector Regression (SVR)**:\n",
    "- **Epsilon (ε)** defines the **margin of tolerance** where no penalty is given for errors.\n",
    "- Increasing ε → **wider margin** → fewer support vectors (simpler model, less sensitive).\n",
    "- Decreasing ε → **narrow margin** → more support vectors (complex model, more sensitive).\n",
    "\n",
    "**Example:**\n",
    "If ε is large, more data points lie inside the ε-tube, so fewer support vectors are needed to define the boundary."
   ]
  },
  {
   "cell_type": "markdown",
   "id": "b774491f-5a4a-4e45-a85e-aa614ad7d7c9",
   "metadata": {},
   "source": [
    "### Q4. How does the choice of kernel function, C parameter, epsilon parameter, and gamma parameter affect the performance of Support Vector Regression (SVR)? \n",
    "\n",
    "Let’s break it down:\n",
    "\n",
    "- **Kernel function**:\n",
    "  - Determines the type of decision boundary (linear, polynomial, RBF).\n",
    "  - RBF works well when relationships are non-linear.\n",
    "  \n",
    "- **C (Regularization parameter)**:\n",
    "  - High C → penalizes errors → low bias, high variance\n",
    "  - Low C → allows more slack → high bias, low variance\n",
    "\n",
    "- **Epsilon (ε)**:\n",
    "  - Margin within which predictions are not penalized\n",
    "  - Larger ε → simpler model\n",
    "  - Smaller ε → captures finer details (risk of overfitting)\n",
    "\n",
    "- **Gamma (γ)** (for RBF/poly kernels):\n",
    "  - High γ → points must be close to influence each other → complex model\n",
    "  - Low γ → more general model with smoother boundaries\n",
    "\n",
    "**Example scenario:**\n",
    "- Large C, low ε, high γ → overfitting\n",
    "- Moderate C, moderate ε, moderate γ → balanced performance"
   ]
  },
  {
   "cell_type": "markdown",
   "id": "7b339bad-5d9c-40fa-b18e-a457241036b8",
   "metadata": {},
   "source": [
    "\n",
    "### Q5. Assignment Task: SVM Classification with Tuning and Saving the Model"
   ]
  },
  {
   "cell_type": "code",
   "execution_count": 9,
   "id": "0f3b602c-57a2-4012-9831-9dc1e6253635",
   "metadata": {},
   "outputs": [
    {
     "name": "stdout",
     "output_type": "stream",
     "text": [
      "Initial Model Performance:\n",
      "              precision    recall  f1-score   support\n",
      "\n",
      "           0       1.00      1.00      1.00        14\n",
      "           1       1.00      1.00      1.00        14\n",
      "           2       1.00      1.00      1.00         8\n",
      "\n",
      "    accuracy                           1.00        36\n",
      "   macro avg       1.00      1.00      1.00        36\n",
      "weighted avg       1.00      1.00      1.00        36\n",
      "\n"
     ]
    }
   ],
   "source": [
    "# Import Libraries\n",
    "import pandas as pd\n",
    "from sklearn.datasets import load_wine\n",
    "from sklearn.model_selection import train_test_split, GridSearchCV\n",
    "from sklearn.preprocessing import StandardScaler\n",
    "from sklearn.svm import SVC\n",
    "from sklearn.metrics import classification_report\n",
    "import joblib\n",
    "\n",
    "# Load dataset\n",
    "wine = load_wine()\n",
    "X = pd.DataFrame(wine.data, columns=wine.feature_names)\n",
    "y = pd.Series(wine.target)\n",
    "\n",
    "# Train-test split\n",
    "X_train, X_test, y_train, y_test = train_test_split(X, y, test_size=0.2, random_state=42)\n",
    "\n",
    "# Preprocessing - Scaling\n",
    "scaler = StandardScaler()\n",
    "X_train_scaled = scaler.fit_transform(X_train)\n",
    "X_test_scaled = scaler.transform(X_test)\n",
    "\n",
    "# Train initial model\n",
    "svc = SVC(kernel='rbf')\n",
    "svc.fit(X_train_scaled, y_train)\n",
    "y_pred = svc.predict(X_test_scaled)\n",
    "\n",
    "# Evaluation\n",
    "print(\"Initial Model Performance:\")\n",
    "print(classification_report(y_test, y_pred))\n"
   ]
  },
  {
   "cell_type": "code",
   "execution_count": 11,
   "id": "2ab70cb7-5a26-4799-ba5a-b0fdba7e0c07",
   "metadata": {},
   "outputs": [
    {
     "name": "stdout",
     "output_type": "stream",
     "text": [
      "Best Parameters: {'C': 1, 'gamma': 0.01, 'kernel': 'rbf'}\n",
      "Model saved as svm_classifier.pkl\n"
     ]
    }
   ],
   "source": [
    "# Hyperparameter Tuning using GridSearchCV\n",
    "param_grid = {\n",
    "    'C': [0.1, 1, 10],\n",
    "    'gamma': [0.01, 0.1, 1],\n",
    "    'kernel': ['rbf', 'poly']\n",
    "}\n",
    "\n",
    "grid = GridSearchCV(SVC(), param_grid, cv=5, scoring='accuracy')\n",
    "grid.fit(X_train_scaled, y_train)\n",
    "\n",
    "print(\"Best Parameters:\", grid.best_params_)\n",
    "\n",
    "# Retrain best model on full dataset\n",
    "best_model = grid.best_estimator_\n",
    "best_model.fit(scaler.transform(X), y)\n",
    "\n",
    "# Save model\n",
    "joblib.dump(best_model, \"svm_classifier.pkl\")\n",
    "print(\"Model saved as svm_classifier.pkl\")\n"
   ]
  },
  {
   "cell_type": "code",
   "execution_count": null,
   "id": "fa824d71-c466-4ea6-9112-c7bea0a1df5d",
   "metadata": {},
   "outputs": [],
   "source": []
  }
 ],
 "metadata": {
  "kernelspec": {
   "display_name": "Python (tf_env)",
   "language": "python",
   "name": "tf_env"
  },
  "language_info": {
   "codemirror_mode": {
    "name": "ipython",
    "version": 3
   },
   "file_extension": ".py",
   "mimetype": "text/x-python",
   "name": "python",
   "nbconvert_exporter": "python",
   "pygments_lexer": "ipython3",
   "version": "3.12.7"
  }
 },
 "nbformat": 4,
 "nbformat_minor": 5
}
