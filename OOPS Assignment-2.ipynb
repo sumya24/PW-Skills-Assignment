{
 "cells": [
  {
   "cell_type": "markdown",
   "id": "650f387c-4904-4f8b-95fd-8791d89a5bf1",
   "metadata": {},
   "source": [
    "## Q1. What is Abstraction in OOPs? Explain with an example."
   ]
  },
  {
   "cell_type": "markdown",
   "id": "dc541cd7-6c67-415b-b183-60d3ffaa1345",
   "metadata": {},
   "source": [
    "Answer:\n",
    "Abstraction is the concept of hiding complex implementation details and showing only essential features to the user. It focuses on what an object does rather than how it does it.\n",
    "\n",
    "Key Points:\n",
    "\n",
    "Shows only necessary attributes\n",
    "\n",
    "Hides background details and implementation\n",
    "\n",
    "Reduces complexity\n",
    "\n",
    "Provides a clear interface"
   ]
  },
  {
   "cell_type": "code",
   "execution_count": 3,
   "id": "cf595072-f377-4655-abc0-d5b0f87d450d",
   "metadata": {},
   "outputs": [
    {
     "name": "stdout",
     "output_type": "stream",
     "text": [
      "Car engine started with key ignition\n",
      "Car engine stopped by turning key off\n"
     ]
    }
   ],
   "source": [
    "## Example\n",
    "from abc import ABC, abstractmethod\n",
    "\n",
    "class Vehicle(ABC):  # Abstract class\n",
    "    @abstractmethod\n",
    "    def start_engine(self):  # Abstract method\n",
    "        pass\n",
    "    \n",
    "    @abstractmethod\n",
    "    def stop_engine(self):\n",
    "        pass\n",
    "\n",
    "class Car(Vehicle):\n",
    "    def start_engine(self):\n",
    "        print(\"Car engine started with key ignition\")\n",
    "    \n",
    "    def stop_engine(self):\n",
    "        print(\"Car engine stopped by turning key off\")\n",
    "\n",
    "# Usage\n",
    "my_car = Car()\n",
    "my_car.start_engine()  # User doesn't need to know implementation details\n",
    "my_car.stop_engine()"
   ]
  },
  {
   "cell_type": "markdown",
   "id": "f4d9090d-d627-4d06-90a2-506edcae1991",
   "metadata": {},
   "source": [
    "## Q2. Differentiate between Abstraction and Encapsulation. Explain with an example."
   ]
  },
  {
   "cell_type": "markdown",
   "id": "cdde0125-6b0e-442b-ba3a-f8b104f5486f",
   "metadata": {},
   "source": [
    "Abstraction vs Encapsulation:\n",
    "\n",
    "Fundamental Difference:\n",
    "\n",
    "      Abstraction is about hiding complexity by showing only essential features\n",
    "\n",
    "      Encapsulation is about protecting data by bundling it with methods that operate on that data\n",
    "\n",
    "What They Solve:\n",
    "\n",
    "      Abstraction solves the problem at the design level by creating simple interfaces\n",
    "\n",
    "      Encapsulation solves the problem at the implementation level by restricting access to internal details\n",
    "\n",
    "Implementation Approach:\n",
    "\n",
    "      Abstraction is achieved through abstract classes and interfaces (using abc module in Python)\n",
    "\n",
    "      Encapsulation is achieved through access modifiers (like private variables with __ prefix) and getter/setter methods\n",
    "\n",
    "Focus Area:\n",
    "\n",
    "      Abstraction focuses on external behavior - what an object can do\n",
    "\n",
    "      Encapsulation focuses on internal state - how an object maintains its data\n",
    "\n",
    "Real-world Analogy:\n",
    "\n",
    "      Abstraction is like a car's dashboard (showing only speed, fuel level etc.)\n",
    "\n",
    "      Encapsulation is like the car's engine cover (hiding and protecting the engine components)\n",
    "\n",
    "Code Perspective:\n",
    "\n",
    "      Abstraction means creating abstract methods that child classes must implement\n",
    "\n",
    "      Encapsulation means making attributes private and providing controlled access via methods\n",
    "\n",
    "User Perspective:\n",
    "\n",
    "      Abstraction helps users by providing simple interfaces\n",
    "\n",
    "      Encapsulation helps developers by preventing accidental data corruption      "
   ]
  },
  {
   "cell_type": "code",
   "execution_count": 13,
   "id": "0227fa16-7c6b-4d15-afd2-c63f7eee5c86",
   "metadata": {},
   "outputs": [
    {
     "name": "stdout",
     "output_type": "stream",
     "text": [
      "Bulb turned on\n",
      "75\n"
     ]
    }
   ],
   "source": [
    "## Example \n",
    "from abc import ABC, abstractmethod\n",
    "\n",
    "# ABSTRACTION\n",
    "class SmartDevice(ABC):  # Abstract class providing abstraction\n",
    "    @abstractmethod\n",
    "    def turn_on(self):  # Abstract method - what it does\n",
    "        pass\n",
    "    \n",
    "    @abstractmethod\n",
    "    def turn_off(self):\n",
    "        pass\n",
    "\n",
    "# ENCAPSULATION\n",
    "class SmartBulb(SmartDevice):\n",
    "    def __init__(self):\n",
    "        self.__brightness = 0  # Private attribute - encapsulation\n",
    "    \n",
    "    # Implementation of abstract methods\n",
    "    def turn_on(self):\n",
    "        self.__brightness = 50\n",
    "        print(\"Bulb turned on\")\n",
    "    \n",
    "    def turn_off(self):\n",
    "        self.__brightness = 0\n",
    "        print(\"Bulb turned off\")\n",
    "    \n",
    "    # Encapsulation methods\n",
    "    def set_brightness(self, level):\n",
    "        if 0 <= level <= 100:\n",
    "            self.__brightness = level\n",
    "    \n",
    "    def get_brightness(self):\n",
    "        return self.__brightness\n",
    "\n",
    "# Usage\n",
    "bulb = SmartBulb()\n",
    "bulb.turn_on()  # Simple interface (abstraction)\n",
    "bulb.set_brightness(75)  # Controlled access (encapsulation)\n",
    "print(bulb.get_brightness())"
   ]
  },
  {
   "cell_type": "markdown",
   "id": "12fe9a1d-d92a-46b6-be12-1deac1a23e50",
   "metadata": {},
   "source": [
    "## Q3. What is abc module in python? Why is it used?"
   ]
  },
  {
   "cell_type": "markdown",
   "id": "a6ec1f6c-1e99-4e43-8e6a-35a5c5f3f5c6",
   "metadata": {},
   "source": [
    "Answer:\n",
    "The abc (Abstract Base Class) module provides:\n",
    "\n",
    "Infrastructure for defining abstract base classes\n",
    "\n",
    "Tools to create abstract methods\n",
    "\n",
    "Mechanism to enforce implementation of methods in child classes\n",
    "\n",
    "Key Uses:\n",
    "\n",
    "Define interfaces that subclasses must implement\n",
    "\n",
    "Prevent instantiation of incomplete classes\n",
    "\n",
    "Create a common API for related classes"
   ]
  },
  {
   "cell_type": "markdown",
   "id": "a9c2c1ab-e68a-4de7-b5ac-406b52d77062",
   "metadata": {},
   "source": [
    "## Q4. How can we achieve data abstraction?"
   ]
  },
  {
   "cell_type": "markdown",
   "id": "c2465902-9c3b-4d2d-85e5-9785e3f6cabe",
   "metadata": {},
   "source": [
    "Data abstraction can be achieved through:\n",
    "\n",
    "Abstract Classes:\n",
    "\n",
    "     Use abc module\n",
    "\n",
    "     Inherit from ABC\n",
    "\n",
    "     Mark methods with @abstractmethod\n",
    "\n",
    "Interfaces:\n",
    "\n",
    "    Create classes with all abstract methods\n",
    "\n",
    "    Child classes must implement all methods\n",
    "\n",
    "Access Modifiers:\n",
    "\n",
    "    Use naming conventions (_protected, __private)\n",
    "\n",
    "    Control access through getters/setters\n",
    "\n",
    "Hiding Implementation:\n",
    "\n",
    "    Expose only what's necessary\n",
    "\n",
    "    Keep complex logic internal"
   ]
  },
  {
   "cell_type": "markdown",
   "id": "28ec56fc-8b81-4771-9eda-57e4e73abb28",
   "metadata": {},
   "source": [
    "## Q5. Can we create an instance of an abstract class? Explain your answer."
   ]
  },
  {
   "cell_type": "markdown",
   "id": "12df3741-0f2f-42a1-95fd-cbcdb1870ed2",
   "metadata": {},
   "source": [
    "Answer:\n",
    "No, we cannot create an instance of an abstract class directly.\n",
    "\n",
    "Reasons:\n",
    "\n",
    "Abstract classes contain abstract methods without implementation\n",
    "\n",
    "They are designed to be inherited, not instantiated\n",
    "\n",
    "Python raises TypeError if you try to instantiate an abstract class\n",
    "\n",
    "The purpose is to define a template for other classes"
   ]
  },
  {
   "cell_type": "code",
   "execution_count": null,
   "id": "807d56ce-46b3-4812-94b8-d016b2ab00a0",
   "metadata": {},
   "outputs": [],
   "source": []
  },
  {
   "cell_type": "code",
   "execution_count": null,
   "id": "db5074ff-0792-4fd8-8883-d1adf9afd7e2",
   "metadata": {},
   "outputs": [],
   "source": []
  }
 ],
 "metadata": {
  "kernelspec": {
   "display_name": "Python (tf_env)",
   "language": "python",
   "name": "tf_env"
  },
  "language_info": {
   "codemirror_mode": {
    "name": "ipython",
    "version": 3
   },
   "file_extension": ".py",
   "mimetype": "text/x-python",
   "name": "python",
   "nbconvert_exporter": "python",
   "pygments_lexer": "ipython3",
   "version": "3.12.7"
  }
 },
 "nbformat": 4,
 "nbformat_minor": 5
}
