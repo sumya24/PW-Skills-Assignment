{
 "cells": [
  {
   "cell_type": "markdown",
   "id": "4e69cb23-e0c1-45a0-b752-ec19268b847d",
   "metadata": {},
   "source": [
    "## Q1: Define overfitting and underfitting in machine learning. What are the consequences of each, and how can they be mitigated?"
   ]
  },
  {
   "cell_type": "markdown",
   "id": "2c400cee-0619-4128-a119-867f72d3043b",
   "metadata": {},
   "source": [
    "Overfitting occurs when a model learns the training data too well, including noise and outliers. It performs well on training data but poorly on unseen data.\n",
    "\n",
    "Underfitting happens when a model is too simple and fails to capture the underlying patterns in the data.\n",
    "\n",
    "Mitigation:\n",
    "\n",
    "Overfitting: Cross-validation, regularization, pruning, simpler models, more data\n",
    "\n",
    "Underfitting: Use more complex models, feature engineering, reduce regularization"
   ]
  },
  {
   "cell_type": "markdown",
   "id": "89e3ba53-3518-4385-8ccd-5b3c83fe2c6a",
   "metadata": {},
   "source": [
    "##  Q2: How can we reduce overfitting? Explain in brief."
   ]
  },
  {
   "cell_type": "markdown",
   "id": "76413ec7-c313-45be-81f8-ab519fc70f4c",
   "metadata": {},
   "source": [
    "Ways to reduce overfitting:\n",
    "\n",
    "Cross-validation: Helps tune model using validation sets.\n",
    "\n",
    "Regularization: Penalizes large coefficients (L1/L2 regularization).\n",
    "\n",
    "Simpler models: Reduce model complexity (e.g., fewer layers/nodes).\n",
    "\n",
    "Pruning (for trees/ensembles): Remove unimportant nodes/branches.\n",
    "\n",
    "More training data: Helps generalize better.\n",
    "\n",
    "Dropout (in neural networks): Randomly deactivates neurons during training."
   ]
  },
  {
   "cell_type": "markdown",
   "id": "57326ce3-b3c7-4a0e-8318-8f4c51cb4dfa",
   "metadata": {},
   "source": [
    "## Q3: Explain underfitting. List scenarios where underfitting can occur in ML."
   ]
  },
  {
   "cell_type": "markdown",
   "id": "19712150-65ab-48b6-be7d-cd76f9c480b8",
   "metadata": {},
   "source": [
    "Underfitting is when the model is too simple to learn from the training data.\n",
    "\n",
    "Scenarios where underfitting can occur:\n",
    "\n",
    "Using linear regression for non-linear data\n",
    "\n",
    "High bias algorithms like Decision Stumps or Naive Bayes\n",
    "\n",
    "Insufficient training (too few epochs or iterations)\n",
    "\n",
    "Poor feature selection or irrelevant features\n",
    "\n"
   ]
  },
  {
   "cell_type": "markdown",
   "id": "e6a3f8fb-5db8-48c6-897d-71437cc0ef76",
   "metadata": {},
   "source": [
    "## Q4: Explain the bias-variance tradeoff in machine learning. What is the relationship between bias and variance, and how do they affect model performance?"
   ]
  },
  {
   "cell_type": "markdown",
   "id": "4a0ebdd3-81ae-44c6-8ff4-617287e958d5",
   "metadata": {},
   "source": [
    "Bias is the error due to overly simplistic assumptions.\n",
    "\n",
    "Variance is the error due to sensitivity to small fluctuations in training data.\n",
    "\n",
    "Bias-Variance Tradeoff: A balance must be struck between bias and variance to achieve optimal model performance. Reducing one often increases the other."
   ]
  },
  {
   "cell_type": "markdown",
   "id": "61c29911-e0f4-4e12-aa81-00218066a3c4",
   "metadata": {},
   "source": [
    "## Q5: Discuss some common methods for detecting overfitting and underfitting in machine learning models. How can you determine whether your model is overfitting or underfitting?"
   ]
  },
  {
   "cell_type": "markdown",
   "id": "39fdb214-5550-4ada-bb12-c4bb1569062a",
   "metadata": {},
   "source": [
    "Methods to detect:\n",
    "\n",
    "Train/Test Accuracy:\n",
    "\n",
    "High train accuracy, low test accuracy → Overfitting\n",
    "\n",
    "Low accuracy on both → Underfitting\n",
    "\n",
    "Learning Curves: Plotting training and validation errors vs epochs\n",
    "\n",
    "Diverging curves → Overfitting\n",
    "\n",
    "Flat curves with high error → Underfitting\n",
    "\n",
    "Cross-validation: Helps reveal generalization performance"
   ]
  },
  {
   "cell_type": "markdown",
   "id": "93afd70b-37c6-44b6-a0fe-0da5e3aad045",
   "metadata": {},
   "source": [
    "## Q6: Compare and contrast bias and variance in machine learning. What are some examples of high bias and high variance models, and how do they differ in terms of their performance?"
   ]
  },
  {
   "cell_type": "markdown",
   "id": "201da5c7-e221-459e-97fa-7bf0f1e32ddc",
   "metadata": {},
   "source": [
    "Bias is when the model makes strong assumptions and can't capture the real pattern — leads to underfitting.\n",
    "\n",
    "Variance is when the model is too complex and reacts too much to training data — leads to overfitting."
   ]
  },
  {
   "cell_type": "markdown",
   "id": "608e1517-aa51-4913-9501-d8d13539fd7c",
   "metadata": {},
   "source": [
    "## Q7: What is regularization in machine learning, and how can it be used to prevent overfitting? Describe some common regularization techniques and how they work."
   ]
  },
  {
   "cell_type": "markdown",
   "id": "3695a206-416e-4096-ad76-062d1faa84ea",
   "metadata": {},
   "source": [
    "Regularization is a technique to reduce overfitting by adding a penalty to the loss function that discourages complex models.\n",
    "\n",
    "Common regularization techniques:\n",
    "\n",
    "L1 Regularization (Lasso):\n",
    "\n",
    "Adds absolute value of coefficients to loss\n",
    "\n",
    "Encourages sparsity (some weights become 0)\n",
    "\n",
    "L2 Regularization (Ridge):\n",
    "\n",
    "Adds square of coefficients to loss\n",
    "\n",
    "Penalizes large weights smoothly\n",
    "\n",
    "Elastic Net:\n",
    "\n",
    "Combination of L1 and L2 regularization\n",
    "\n",
    "Dropout (for deep learning):\n",
    "\n",
    "Randomly drops units during training"
   ]
  },
  {
   "cell_type": "code",
   "execution_count": null,
   "id": "001b9762-abff-4ae5-94b1-60da7734d8e8",
   "metadata": {},
   "outputs": [],
   "source": []
  }
 ],
 "metadata": {
  "kernelspec": {
   "display_name": "Python (tf_env)",
   "language": "python",
   "name": "tf_env"
  },
  "language_info": {
   "codemirror_mode": {
    "name": "ipython",
    "version": 3
   },
   "file_extension": ".py",
   "mimetype": "text/x-python",
   "name": "python",
   "nbconvert_exporter": "python",
   "pygments_lexer": "ipython3",
   "version": "3.12.7"
  }
 },
 "nbformat": 4,
 "nbformat_minor": 5
}
