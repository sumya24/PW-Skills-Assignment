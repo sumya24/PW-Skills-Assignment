{
 "cells": [
  {
   "cell_type": "markdown",
   "id": "6a4bfda3-7ae1-416f-bd06-af8bbe42c998",
   "metadata": {},
   "source": [
    "## Q1. What is an Exception in Python? Write the difference between Exceptions and Syntax errors."
   ]
  },
  {
   "cell_type": "markdown",
   "id": "d194a3de-e35b-4760-ad00-202fdd0ecbe5",
   "metadata": {},
   "source": [
    "Answer:\n",
    "\n",
    "        An exception in Python is an error that occurs during the execution of a program. It interrupts the normal flow of the program unless it is handled properly using exception handling techniques.\n",
    "\n",
    "Difference between Exceptions and Syntax Errors:\n",
    "\n",
    "    A syntax error occurs when the Python code is written incorrectly and doesn’t follow the language rules. These errors are detected before the program runs.\n",
    "\n",
    "            Example:\n",
    "\n",
    "                    if True print(\"Hello\")\n",
    "                    This gives a SyntaxError because the print statement is missing a colon.\n",
    "\n",
    "    An exception occurs when the program is syntactically correct, but an error happens during execution (runtime).\n",
    "\n",
    "            Example:\n",
    "\n",
    "                    print(10 / 0)\n",
    "                    This gives a ZeroDivisionError because division by zero is not allowed."
   ]
  },
  {
   "cell_type": "markdown",
   "id": "07b12a3b-55b8-441f-bb73-9d519dd54a91",
   "metadata": {},
   "source": [
    "## Q2. What happens when an exception is not handled? Explain with an example."
   ]
  },
  {
   "cell_type": "markdown",
   "id": "d7cd71c4-cd5a-40eb-bd1e-c63fe0695ec4",
   "metadata": {},
   "source": [
    "Answer:\n",
    "\n",
    "If an exception is not handled, the program will crash and stop executing further."
   ]
  },
  {
   "cell_type": "code",
   "execution_count": 5,
   "id": "30a2bcbe-0c19-4f2a-abe4-52af86e5c702",
   "metadata": {},
   "outputs": [
    {
     "ename": "ZeroDivisionError",
     "evalue": "division by zero",
     "output_type": "error",
     "traceback": [
      "\u001b[1;31m---------------------------------------------------------------------------\u001b[0m",
      "\u001b[1;31mZeroDivisionError\u001b[0m                         Traceback (most recent call last)",
      "Cell \u001b[1;32mIn[5], line 6\u001b[0m\n\u001b[0;32m      4\u001b[0m x \u001b[38;5;241m=\u001b[39m \u001b[38;5;241m10\u001b[39m\n\u001b[0;32m      5\u001b[0m y \u001b[38;5;241m=\u001b[39m \u001b[38;5;241m0\u001b[39m\n\u001b[1;32m----> 6\u001b[0m \u001b[38;5;28mprint\u001b[39m(x \u001b[38;5;241m/\u001b[39m y)\n",
      "\u001b[1;31mZeroDivisionError\u001b[0m: division by zero"
     ]
    }
   ],
   "source": [
    "## Example:\n",
    "\n",
    "# Unhandled Exception Example\n",
    "x = 10\n",
    "y = 0\n",
    "print(x / y)  # This will raise a ZeroDivisionError and stop the program"
   ]
  },
  {
   "cell_type": "markdown",
   "id": "3c5eaf93-c2a2-474a-82ee-0e4fae0e6c61",
   "metadata": {},
   "source": [
    "## Q3. Which Python statements are used to catch and handle exceptions? Explain with an example."
   ]
  },
  {
   "cell_type": "markdown",
   "id": "31c7721e-de5d-47b4-901d-d6da708c4c3c",
   "metadata": {},
   "source": [
    "Answer:\n",
    "\n",
    "Python uses the try-except block to catch and handle exceptions."
   ]
  },
  {
   "cell_type": "code",
   "execution_count": 8,
   "id": "81ff29ab-6644-4d7a-be0d-87028f0cab39",
   "metadata": {},
   "outputs": [
    {
     "name": "stdin",
     "output_type": "stream",
     "text": [
      "Enter a number:  10\n"
     ]
    },
    {
     "name": "stdout",
     "output_type": "stream",
     "text": [
      "1.0\n"
     ]
    }
   ],
   "source": [
    "try:\n",
    "    num = int(input(\"Enter a number: \"))\n",
    "    print(10 / num)\n",
    "except ZeroDivisionError:\n",
    "    print(\"Cannot divide by zero!\")\n",
    "except ValueError:\n",
    "    print(\"Invalid input. Please enter a number.\")\n"
   ]
  },
  {
   "cell_type": "markdown",
   "id": "98017aa0-e682-467c-a3dd-00774c934fd7",
   "metadata": {},
   "source": [
    "## Q4. Explain with an example: try and else  finally   raise"
   ]
  },
  {
   "cell_type": "code",
   "execution_count": 12,
   "id": "3eb21a9e-39bb-41d3-8d59-980ed9198fd2",
   "metadata": {},
   "outputs": [
    {
     "name": "stdin",
     "output_type": "stream",
     "text": [
      "Enter a number greater than 0:  10\n"
     ]
    },
    {
     "name": "stdout",
     "output_type": "stream",
     "text": [
      "You entered: 10\n",
      "No exception occurred.\n"
     ]
    }
   ],
   "source": [
    "try:\n",
    "    x = int(input(\"Enter a number greater than 0: \"))\n",
    "    print(\"You entered:\", x)\n",
    "except ValueError:\n",
    "    print(\"Invalid input.\")\n",
    "else:\n",
    "    print(\"No exception occurred.\")\n"
   ]
  },
  {
   "cell_type": "code",
   "execution_count": 16,
   "id": "5dce3f79-c122-4d7d-9a8d-60756eb8c08c",
   "metadata": {},
   "outputs": [
    {
     "name": "stdout",
     "output_type": "stream",
     "text": [
      "File not found.\n",
      "This will run no matter what.\n"
     ]
    }
   ],
   "source": [
    "try:\n",
    "    file = open(\"sample.txt\", \"r\")\n",
    "    data = file.read()\n",
    "    print(data)\n",
    "except FileNotFoundError:\n",
    "    print(\"File not found.\")\n",
    "finally:\n",
    "    print(\"This will run no matter what.\")\n"
   ]
  },
  {
   "cell_type": "code",
   "execution_count": 18,
   "id": "d04f9d73-1273-4a8f-bf27-f7428a6da283",
   "metadata": {},
   "outputs": [
    {
     "ename": "ValueError",
     "evalue": "You must be at least 18 years old.",
     "output_type": "error",
     "traceback": [
      "\u001b[1;31m---------------------------------------------------------------------------\u001b[0m",
      "\u001b[1;31mValueError\u001b[0m                                Traceback (most recent call last)",
      "Cell \u001b[1;32mIn[18], line 7\u001b[0m\n\u001b[0;32m      4\u001b[0m     \u001b[38;5;28;01melse\u001b[39;00m:\n\u001b[0;32m      5\u001b[0m         \u001b[38;5;28mprint\u001b[39m(\u001b[38;5;124m\"\u001b[39m\u001b[38;5;124mAge is valid.\u001b[39m\u001b[38;5;124m\"\u001b[39m)\n\u001b[1;32m----> 7\u001b[0m check_age(\u001b[38;5;241m16\u001b[39m)\n",
      "Cell \u001b[1;32mIn[18], line 3\u001b[0m, in \u001b[0;36mcheck_age\u001b[1;34m(age)\u001b[0m\n\u001b[0;32m      1\u001b[0m \u001b[38;5;28;01mdef\u001b[39;00m \u001b[38;5;21mcheck_age\u001b[39m(age):\n\u001b[0;32m      2\u001b[0m     \u001b[38;5;28;01mif\u001b[39;00m age \u001b[38;5;241m<\u001b[39m \u001b[38;5;241m18\u001b[39m:\n\u001b[1;32m----> 3\u001b[0m         \u001b[38;5;28;01mraise\u001b[39;00m \u001b[38;5;167;01mValueError\u001b[39;00m(\u001b[38;5;124m\"\u001b[39m\u001b[38;5;124mYou must be at least 18 years old.\u001b[39m\u001b[38;5;124m\"\u001b[39m)\n\u001b[0;32m      4\u001b[0m     \u001b[38;5;28;01melse\u001b[39;00m:\n\u001b[0;32m      5\u001b[0m         \u001b[38;5;28mprint\u001b[39m(\u001b[38;5;124m\"\u001b[39m\u001b[38;5;124mAge is valid.\u001b[39m\u001b[38;5;124m\"\u001b[39m)\n",
      "\u001b[1;31mValueError\u001b[0m: You must be at least 18 years old."
     ]
    }
   ],
   "source": [
    "def check_age(age):\n",
    "    if age < 18:\n",
    "        raise ValueError(\"You must be at least 18 years old.\")\n",
    "    else:\n",
    "        print(\"Age is valid.\")\n",
    "\n",
    "check_age(16)\n"
   ]
  },
  {
   "cell_type": "markdown",
   "id": "59965049-b664-4e29-b2c7-465255ccc06c",
   "metadata": {},
   "source": [
    "## Q5. What are Custom Exceptions in Python? Why do we need Custom Exceptions? Explain with an example."
   ]
  },
  {
   "cell_type": "markdown",
   "id": "2d9b92d1-814d-4aa7-a0b3-2602e1a5ac3d",
   "metadata": {},
   "source": [
    "Answer:\n",
    "\n",
    "Custom Exceptions are user-defined exceptions. They allow us to create specific error messages and handle unique situations that are not covered by built-in exceptions.\n",
    "\n",
    "We need them when built-in exceptions are not descriptive enough for our specific use case."
   ]
  },
  {
   "cell_type": "code",
   "execution_count": 23,
   "id": "549da1fe-78ee-4f87-8799-697be5ea7764",
   "metadata": {},
   "outputs": [
    {
     "ename": "InvalidAgeError",
     "evalue": "Age must be 18 or older to vote.",
     "output_type": "error",
     "traceback": [
      "\u001b[1;31m---------------------------------------------------------------------------\u001b[0m",
      "\u001b[1;31mInvalidAgeError\u001b[0m                           Traceback (most recent call last)",
      "Cell \u001b[1;32mIn[23], line 9\u001b[0m\n\u001b[0;32m      6\u001b[0m         \u001b[38;5;28;01mraise\u001b[39;00m InvalidAgeError(\u001b[38;5;124m\"\u001b[39m\u001b[38;5;124mAge must be 18 or older to vote.\u001b[39m\u001b[38;5;124m\"\u001b[39m)\n\u001b[0;32m      7\u001b[0m     \u001b[38;5;28mprint\u001b[39m(\u001b[38;5;124m\"\u001b[39m\u001b[38;5;124mYou are eligible to vote.\u001b[39m\u001b[38;5;124m\"\u001b[39m)\n\u001b[1;32m----> 9\u001b[0m vote(\u001b[38;5;241m16\u001b[39m)\n",
      "Cell \u001b[1;32mIn[23], line 6\u001b[0m, in \u001b[0;36mvote\u001b[1;34m(age)\u001b[0m\n\u001b[0;32m      4\u001b[0m \u001b[38;5;28;01mdef\u001b[39;00m \u001b[38;5;21mvote\u001b[39m(age):\n\u001b[0;32m      5\u001b[0m     \u001b[38;5;28;01mif\u001b[39;00m age \u001b[38;5;241m<\u001b[39m \u001b[38;5;241m18\u001b[39m:\n\u001b[1;32m----> 6\u001b[0m         \u001b[38;5;28;01mraise\u001b[39;00m InvalidAgeError(\u001b[38;5;124m\"\u001b[39m\u001b[38;5;124mAge must be 18 or older to vote.\u001b[39m\u001b[38;5;124m\"\u001b[39m)\n\u001b[0;32m      7\u001b[0m     \u001b[38;5;28mprint\u001b[39m(\u001b[38;5;124m\"\u001b[39m\u001b[38;5;124mYou are eligible to vote.\u001b[39m\u001b[38;5;124m\"\u001b[39m)\n",
      "\u001b[1;31mInvalidAgeError\u001b[0m: Age must be 18 or older to vote."
     ]
    }
   ],
   "source": [
    "class InvalidAgeError(Exception):\n",
    "    pass\n",
    "\n",
    "def vote(age):\n",
    "    if age < 18:\n",
    "        raise InvalidAgeError(\"Age must be 18 or older to vote.\")\n",
    "    print(\"You are eligible to vote.\")\n",
    "\n",
    "vote(16)\n"
   ]
  },
  {
   "cell_type": "markdown",
   "id": "91d14896-dc00-4b6e-9951-e2a874a1b7e1",
   "metadata": {},
   "source": [
    "## Q6. Create a custom exception class. Use this class to handle an exception."
   ]
  },
  {
   "cell_type": "code",
   "execution_count": 26,
   "id": "4c825815-9fa8-440f-a66e-b560884192aa",
   "metadata": {},
   "outputs": [
    {
     "name": "stdout",
     "output_type": "stream",
     "text": [
      "Error: Cannot withdraw ₹1000. Available balance: ₹500\n"
     ]
    }
   ],
   "source": [
    "# Custom Exception Class\n",
    "class LowBalanceError(Exception):\n",
    "    def __init__(self, message=\"Balance is too low for this withdrawal.\"):\n",
    "        self.message = message\n",
    "        super().__init__(self.message)\n",
    "\n",
    "# Using the custom exception\n",
    "def withdraw(balance, amount):\n",
    "    if amount > balance:\n",
    "        raise LowBalanceError(f\"Cannot withdraw ₹{amount}. Available balance: ₹{balance}\")\n",
    "    else:\n",
    "        balance -= amount\n",
    "        print(f\"Withdrawal successful. New balance: ₹{balance}\")\n",
    "\n",
    "try:\n",
    "    withdraw(500, 1000)\n",
    "except LowBalanceError as e:\n",
    "    print(\"Error:\", e)\n"
   ]
  },
  {
   "cell_type": "code",
   "execution_count": null,
   "id": "e0fa1111-d178-4690-b097-ec093c108e27",
   "metadata": {},
   "outputs": [],
   "source": []
  }
 ],
 "metadata": {
  "kernelspec": {
   "display_name": "Python (tf_env)",
   "language": "python",
   "name": "tf_env"
  },
  "language_info": {
   "codemirror_mode": {
    "name": "ipython",
    "version": 3
   },
   "file_extension": ".py",
   "mimetype": "text/x-python",
   "name": "python",
   "nbconvert_exporter": "python",
   "pygments_lexer": "ipython3",
   "version": "3.12.7"
  }
 },
 "nbformat": 4,
 "nbformat_minor": 5
}
