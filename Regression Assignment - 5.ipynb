{
 "cells": [
  {
   "cell_type": "markdown",
   "id": "08ebb4e6-30c7-4c33-8b14-013a27f148a4",
   "metadata": {},
   "source": [
    "## Q1. What is Elastic Net Regression and how does it differ from other regression techniques?"
   ]
  },
  {
   "cell_type": "markdown",
   "id": "c751f60b-fccb-44a6-bd84-5836acd98692",
   "metadata": {},
   "source": [
    "Answer:\n",
    "\n",
    "Elastic Net Regression is a regularized linear regression technique that combines both L1 (Lasso) and L2 (Ridge) regularization penalties.\n",
    "Here:\n",
    "\n",
    "The L1 term helps with feature selection by shrinking some coefficients to zero.\n",
    "\n",
    "The L2 term helps stabilize the model when features are correlated.\n",
    "\n",
    "Elastic Net is especially useful when:\n",
    "\n",
    "There are many features, and some are highly correlated.\n",
    "\n",
    "You want both regularization and feature selection.\n",
    "\n",
    "It differs from:\n",
    "\n",
    "OLS: No regularization.\n",
    "\n",
    "Ridge: Only L2 regularization.\n",
    "\n",
    "Lasso: Only L1 regularization. Elastic Net combines the strengths of both Ridge and Lasso.\n",
    "\n"
   ]
  },
  {
   "cell_type": "markdown",
   "id": "f37b8033-7d0a-4ee0-88cc-2879001170b7",
   "metadata": {},
   "source": [
    "## Q2. How do you choose the optimal values of the regularization parameters for Elastic Net Regression?"
   ]
  },
  {
   "cell_type": "markdown",
   "id": "70e0be72-2053-4b36-9101-9aa35a6f5eed",
   "metadata": {},
   "source": [
    "Answer:\n",
    "\n",
    "Elastic Net has two main hyperparameters:\n",
    "\n",
    "Alpha (α): Overall strength of regularization.\n",
    "\n",
    "L1_ratio (ρ): Balance between L1 and L2. A value of 1 is Lasso, 0 is Ridge.\n",
    "\n",
    "To choose optimal values:\n",
    "\n",
    "Use cross-validation (e.g., ElasticNetCV in scikit-learn).\n",
    "\n",
    "Try different combinations of alpha and l1_ratio.\n",
    "\n",
    "Select the combination that minimizes the cross-validation error."
   ]
  },
  {
   "cell_type": "markdown",
   "id": "44306f12-7402-4ca6-be4d-748ecab9feb6",
   "metadata": {},
   "source": [
    "## Q3. What are the advantages and disadvantages of Elastic Net Regression?"
   ]
  },
  {
   "cell_type": "markdown",
   "id": "34a964ae-a071-4a73-be99-2a1c57726d6e",
   "metadata": {},
   "source": [
    "Answer:\n",
    "\n",
    "Advantages:\n",
    "\n",
    "Handles multicollinearity effectively.\n",
    "\n",
    "Performs automatic feature selection like Lasso.\n",
    "\n",
    "Provides better prediction accuracy in high-dimensional data.\n",
    "\n",
    "Combines the strengths of both Ridge and Lasso.\n",
    "\n",
    "Disadvantages:\n",
    "\n",
    "Requires tuning of two hyperparameters (alpha and l1_ratio).\n",
    "\n",
    "Interpretation of coefficients may be less straightforward.\n",
    "\n",
    "Can still underperform when the number of observations is low."
   ]
  },
  {
   "cell_type": "markdown",
   "id": "03221fed-2e89-495b-8480-1a01fc8ed608",
   "metadata": {},
   "source": [
    "## Q4. What are some common use cases for Elastic Net Regression?"
   ]
  },
  {
   "cell_type": "markdown",
   "id": "0b71fd55-b238-4336-b103-98d8192e2013",
   "metadata": {},
   "source": [
    "Answer:\n",
    "\n",
    "Common use cases of Elastic Net Regression include:\n",
    "\n",
    "Genomics: Where the number of predictors (genes) is very high.\n",
    "\n",
    "Finance: For selecting important financial indicators.\n",
    "\n",
    "Marketing: Predicting customer behavior using a large number of features.\n",
    "\n",
    "Medical research: Identifying significant health risk factors among many variables."
   ]
  },
  {
   "cell_type": "markdown",
   "id": "c362e65d-f5fb-45bc-956d-15a26e89a4fb",
   "metadata": {},
   "source": [
    "## Q5. How do you interpret the coefficients in Elastic Net Regression?"
   ]
  },
  {
   "cell_type": "markdown",
   "id": "e9680453-9156-4981-a8ac-378c043c83c0",
   "metadata": {},
   "source": [
    "Answer:\n",
    "\n",
    "Coefficients in Elastic Net Regression represent the impact of each feature on the target variable, similar to linear regression:\n",
    "\n",
    "A positive coefficient indicates a direct relationship.\n",
    "\n",
    "A negative coefficient indicates an inverse relationship.\n",
    "\n",
    "A coefficient of zero means that the feature has been excluded (like Lasso)."
   ]
  },
  {
   "cell_type": "markdown",
   "id": "a582e37d-c27e-4c1a-ae00-1bcf7f5c99fa",
   "metadata": {},
   "source": [
    "## Q6. How do you handle missing values when using Elastic Net Regression?"
   ]
  },
  {
   "cell_type": "markdown",
   "id": "2d65e18b-eb3b-45b4-9207-7720bfb06882",
   "metadata": {},
   "source": [
    "Answer:\n",
    "\n",
    "Elastic Net Regression in scikit-learn does not handle missing values directly, so you must preprocess the data:\n",
    "\n",
    "Use imputation methods to fill in missing values:\n",
    "\n",
    "Mean/median imputation for numerical data.\n",
    "\n",
    "KNN imputation or IterativeImputer for more advanced methods.\n",
    "\n",
    "Alternatively, drop rows or columns with missing values if appropriate."
   ]
  },
  {
   "cell_type": "markdown",
   "id": "f8c7b42e-dedf-42d3-8b12-48e964c701c5",
   "metadata": {},
   "source": [
    "## Q7. How do you use Elastic Net Regression for feature selection?"
   ]
  },
  {
   "cell_type": "markdown",
   "id": "61bd1fb5-094f-453f-848d-4d165d18d549",
   "metadata": {},
   "source": [
    "Answer:\n",
    "\n",
    "Elastic Net performs feature selection automatically through the L1 component of its penalty. During training:\n",
    "\n",
    "Unimportant feature coefficients are shrunk to zero.\n",
    "\n",
    "Only relevant features retain non-zero coefficients."
   ]
  },
  {
   "cell_type": "markdown",
   "id": "5529b006-e4e9-4a9b-b981-1e96f1957f3c",
   "metadata": {},
   "source": [
    "## Q8. How do you pickle and unpickle a trained Elastic Net Regression model in Python?"
   ]
  },
  {
   "cell_type": "markdown",
   "id": "5b278cd1-073d-4f08-8cd9-31b447d2a1ca",
   "metadata": {},
   "source": [
    "Answer:\n",
    "\n",
    "Pickling is the process of saving a trained model to a file.\n",
    "\n",
    "import pickle\n",
    "from sklearn.linear_model import ElasticNet\n",
    "\n",
    " Train the model\n",
    "model = ElasticNet(alpha=0.1, l1_ratio=0.5)\n",
    "model.fit(X_train, y_train)\n",
    "\n",
    " Save the model\n",
    "with open('elastic_net_model.pkl', 'wb') as file:\n",
    "    pickle.dump(model, file)\n",
    "\n",
    "Unpickling is loading the saved model:\n",
    "\n",
    " Load the model\n",
    "with open('elastic_net_model.pkl', 'rb') as file:\n",
    "    loaded_model = pickle.load(file)\n",
    "\n",
    " Predict\n",
    "predictions = loaded_model.predict(X_test)\n"
   ]
  },
  {
   "cell_type": "markdown",
   "id": "1c73e8cf-7ec0-4adc-a3cc-83ab7e94af50",
   "metadata": {},
   "source": [
    "## Q9. What is the purpose of pickling a model in machine learning?"
   ]
  },
  {
   "cell_type": "markdown",
   "id": "3a5f35d8-24b5-471e-b3d1-2b2b8f46d7c0",
   "metadata": {},
   "source": [
    "Answer:\n",
    "\n",
    "Pickling a model in machine learning serves the purpose of saving the trained model to disk so that:\n",
    "\n",
    "It can be reused later without retraining.\n",
    "\n",
    "You can deploy it into production (e.g., web apps or APIs).\n",
    "\n",
    "You can share it with others or transfer it across systems."
   ]
  },
  {
   "cell_type": "code",
   "execution_count": null,
   "id": "94e5a70d-c719-4cd8-867f-8d04c8920e53",
   "metadata": {},
   "outputs": [],
   "source": []
  }
 ],
 "metadata": {
  "kernelspec": {
   "display_name": "Python (tf_env)",
   "language": "python",
   "name": "tf_env"
  },
  "language_info": {
   "codemirror_mode": {
    "name": "ipython",
    "version": 3
   },
   "file_extension": ".py",
   "mimetype": "text/x-python",
   "name": "python",
   "nbconvert_exporter": "python",
   "pygments_lexer": "ipython3",
   "version": "3.12.7"
  }
 },
 "nbformat": 4,
 "nbformat_minor": 5
}
