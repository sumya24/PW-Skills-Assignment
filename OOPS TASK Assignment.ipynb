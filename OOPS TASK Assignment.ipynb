{
 "cells": [
  {
   "cell_type": "markdown",
   "id": "57047b4c-3537-4d2a-becd-b05f8c04784d",
   "metadata": {},
   "source": [
    "## Q1, Create a vehicle class with an init method having instance variables as name_of_vehicle, max_speed and average_of_vehicle."
   ]
  },
  {
   "cell_type": "code",
   "execution_count": 3,
   "id": "efef3da5-ad06-4bb6-9aca-e5e8436a886d",
   "metadata": {},
   "outputs": [],
   "source": [
    "class Vehicle:\n",
    "    def __init__(self, name_of_vehicle, max_speed, average_of_vehicle):\n",
    "        self.name_of_vehicle = name_of_vehicle\n",
    "        self.max_speed = max_speed\n",
    "        self.average_of_vehicle = average_of_vehicle"
   ]
  },
  {
   "cell_type": "markdown",
   "id": "08b87e3a-ce5e-4730-b68b-a17138cda8f1",
   "metadata": {},
   "source": [
    "## Q2. Create a child class car from the vehicle class created in Que 1, which will inherit the vehicle class. Create a method named seating_capacity which takes capacity as an argument and returns the name of the vehicle and its seating capacity."
   ]
  },
  {
   "cell_type": "code",
   "execution_count": 17,
   "id": "93f8a1af-fc66-415b-a2e2-5aa8932dc92a",
   "metadata": {},
   "outputs": [],
   "source": [
    "class Car(Vehicle):\n",
    "    def seating_capacity(self, capacity):\n",
    "        return f\"{self.name_of_vehicle} has seating capacity of {capacity}\""
   ]
  },
  {
   "cell_type": "markdown",
   "id": "91271ecb-181f-4dda-ac71-2c1b6911f002",
   "metadata": {},
   "source": [
    "## Q3. What is multiple inheritance? Write a python code to demonstrate multiple inheritance."
   ]
  },
  {
   "cell_type": "code",
   "execution_count": 19,
   "id": "549a8972-58eb-43a9-a812-f770c4fe0459",
   "metadata": {},
   "outputs": [
    {
     "name": "stdout",
     "output_type": "stream",
     "text": [
      "This is engine information\n",
      "This is body information\n"
     ]
    }
   ],
   "source": [
    "class Engine:\n",
    "    def engine_info(self):\n",
    "        return \"This is engine information\"\n",
    "\n",
    "class Body:\n",
    "    def body_info(self):\n",
    "        return \"This is body information\"\n",
    "\n",
    "class Car(Engine, Body):  # Multiple inheritance\n",
    "    pass\n",
    "\n",
    "my_car = Car()\n",
    "print(my_car.engine_info())\n",
    "print(my_car.body_info())"
   ]
  },
  {
   "cell_type": "markdown",
   "id": "aea910e9-2e9d-4109-9494-72b7f3b8f5f2",
   "metadata": {},
   "source": [
    "## Q4. What are getter and setter in python? Create a class and create a getter and a setter method in this class."
   ]
  },
  {
   "cell_type": "code",
   "execution_count": 21,
   "id": "a4cc1d1a-16ee-41d5-8b79-bc89b56a5a09",
   "metadata": {},
   "outputs": [
    {
     "name": "stdout",
     "output_type": "stream",
     "text": [
      "Alice\n"
     ]
    }
   ],
   "source": [
    "class Person:\n",
    "    def __init__(self, name):\n",
    "        self._name = name  # Protected member\n",
    "    \n",
    "    @property\n",
    "    def name(self):  # Getter\n",
    "        return self._name\n",
    "    \n",
    "    @name.setter\n",
    "    def name(self, value):  # Setter\n",
    "        if isinstance(value, str):\n",
    "            self._name = value\n",
    "        else:\n",
    "            raise ValueError(\"Name must be a string\")\n",
    "\n",
    "person = Person(\"Alice\")\n",
    "print(person.name)  # Getter\n",
    "person.name = \"Bob\"  # Setter"
   ]
  },
  {
   "cell_type": "markdown",
   "id": "018ae256-3611-488e-9823-977e014ec63b",
   "metadata": {},
   "source": [
    "## Q5.What is method overriding in python? Write a python code to demonstrate method overriding."
   ]
  },
  {
   "cell_type": "code",
   "execution_count": 23,
   "id": "63f66779-60c7-4975-a03c-b43b41ab38e8",
   "metadata": {},
   "outputs": [
    {
     "name": "stdout",
     "output_type": "stream",
     "text": [
      "Generic animal sound\n",
      "Bark\n"
     ]
    }
   ],
   "source": [
    "class Animal:\n",
    "    def make_sound(self):\n",
    "        return \"Generic animal sound\"\n",
    "\n",
    "class Dog(Animal):\n",
    "    def make_sound(self):  # Method overriding\n",
    "        return \"Bark\"\n",
    "\n",
    "animal = Animal()\n",
    "dog = Dog()\n",
    "print(animal.make_sound())  # Output: Generic animal sound\n",
    "print(dog.make_sound())     # Output: Bark"
   ]
  },
  {
   "cell_type": "code",
   "execution_count": null,
   "id": "5a21a550-7d5a-4cec-894b-216c89833b95",
   "metadata": {},
   "outputs": [],
   "source": []
  }
 ],
 "metadata": {
  "kernelspec": {
   "display_name": "Python (tf_env)",
   "language": "python",
   "name": "tf_env"
  },
  "language_info": {
   "codemirror_mode": {
    "name": "ipython",
    "version": 3
   },
   "file_extension": ".py",
   "mimetype": "text/x-python",
   "name": "python",
   "nbconvert_exporter": "python",
   "pygments_lexer": "ipython3",
   "version": "3.12.7"
  }
 },
 "nbformat": 4,
 "nbformat_minor": 5
}
