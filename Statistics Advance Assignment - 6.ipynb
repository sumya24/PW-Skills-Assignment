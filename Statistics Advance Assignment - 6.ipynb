{
 "cells": [
  {
   "cell_type": "markdown",
   "id": "e1a88dd1-1b73-4e62-a4c2-c2abf5e4152d",
   "metadata": {},
   "source": [
    "## Q1. Explain the assumptions required to use ANOVA and provide examples of violations that could impact the validity of the results."
   ]
  },
  {
   "cell_type": "markdown",
   "id": "5a27489f-3fca-4fd2-993a-a54a5e8cf5b8",
   "metadata": {},
   "source": [
    "Answer:\n",
    "\n",
    "ANOVA makes the following assumptions:\n",
    "\n",
    "Independence of observations: Each data point should be collected independently.\n",
    "\n",
    "Violation Example: Repeated measurements on the same subject without accounting for it.\n",
    "\n",
    "Normality: The residuals (differences from the group mean) should be approximately normally distributed.\n",
    "\n",
    "Violation Example: If data is highly skewed or has outliers.\n",
    "\n",
    "Homogeneity of variances (Homoscedasticity): The variance among the groups should be equal.\n",
    "\n",
    "Violation Example: One group has much larger spread than the others."
   ]
  },
  {
   "cell_type": "markdown",
   "id": "b0fe0e48-4fe4-43b3-9696-9cc956da9796",
   "metadata": {},
   "source": [
    "## Q2. What are the three types of ANOVA, and in what situations would each be used?"
   ]
  },
  {
   "cell_type": "markdown",
   "id": "278768cb-9de2-48d6-a1c1-6ae8d0fce12c",
   "metadata": {},
   "source": [
    "Answer:\n",
    "\n",
    "One-Way ANOVA: Compares means across one independent variable with multiple levels.\n",
    "\n",
    "Use case: Comparing average scores of students across different classes.\n",
    "\n",
    "Two-Way ANOVA: Compares means across two independent variables and can test for interaction effects.\n",
    "\n",
    "Use case: Analyzing effect of teaching method and gender on performance.\n",
    "\n",
    "Repeated Measures ANOVA: Used when the same subjects are measured multiple times under different conditions.\n",
    "\n",
    "Use case: Measuring blood pressure before, during, and after medication.\n",
    "\n"
   ]
  },
  {
   "cell_type": "markdown",
   "id": "a0221318-7423-440c-bdfe-f9dfcb1c17f6",
   "metadata": {},
   "source": [
    "## Q3. What is the partitioning of variance in ANOVA, and why is it important?"
   ]
  },
  {
   "cell_type": "markdown",
   "id": "e310dc53-7cba-4746-abf6-f867f6c61c16",
   "metadata": {},
   "source": [
    "Answer:\n",
    "\n",
    "In ANOVA, total variability in the data is partitioned into:\n",
    "\n",
    "SST (Total Sum of Squares): Total variation in data.\n",
    "\n",
    "SSB/SSE (Sum of Squares Between): Variation due to differences between group means.\n",
    "\n",
    "SSW/SSR (Sum of Squares Within/Residual): Variation due to differences within each group."
   ]
  },
  {
   "cell_type": "markdown",
   "id": "3df95b60-5850-482a-bd9e-d59c02262978",
   "metadata": {},
   "source": [
    "## Q4. How would you calculate SST, SSE, and SSR in a one-way ANOVA using Python?"
   ]
  },
  {
   "cell_type": "code",
   "execution_count": 8,
   "id": "af0ce32f-4c9a-4e53-b234-e15088ee9ca3",
   "metadata": {},
   "outputs": [
    {
     "name": "stdout",
     "output_type": "stream",
     "text": [
      "SST: 390.0, SSB: 360.0, SSW: 30.0\n"
     ]
    }
   ],
   "source": [
    "import pandas as pd\n",
    "import scipy.stats as stats\n",
    "import numpy as np\n",
    "\n",
    "# Sample Data\n",
    "data = {\n",
    "    'Group': ['A']*5 + ['B']*5 + ['C']*5,\n",
    "    'Scores': [20, 22, 23, 21, 24, 28, 27, 29, 26, 30, 35, 33, 32, 36, 34]\n",
    "}\n",
    "df = pd.DataFrame(data)\n",
    "\n",
    "# Overall mean\n",
    "grand_mean = df['Scores'].mean()\n",
    "\n",
    "# Total Sum of Squares (SST)\n",
    "SST = sum((df['Scores'] - grand_mean)**2)\n",
    "\n",
    "# Between Group Sum of Squares (SSB)\n",
    "group_means = df.groupby('Group')['Scores'].mean()\n",
    "n = df['Group'].value_counts().values[0]\n",
    "SSB = sum(n * (group_means - grand_mean)**2)\n",
    "\n",
    "# Within Group Sum of Squares (SSW)\n",
    "SSW = SST - SSB\n",
    "\n",
    "print(f\"SST: {SST}, SSB: {SSB}, SSW: {SSW}\")\n"
   ]
  },
  {
   "cell_type": "markdown",
   "id": "ba200cf8-97cd-49f7-81c9-d234dcb6e7d0",
   "metadata": {},
   "source": [
    "## Q5. In a two-way ANOVA, how would you calculate the main effects and interaction effects using Python?"
   ]
  },
  {
   "cell_type": "code",
   "execution_count": 11,
   "id": "8d00ab7c-f08c-4474-9ae2-e026a4392480",
   "metadata": {},
   "outputs": [
    {
     "name": "stdout",
     "output_type": "stream",
     "text": [
      "                      sum_sq    df          F        PR(>F)\n",
      "C(supp)           205.350000   1.0  15.571979  2.311828e-04\n",
      "C(dose)          2426.434333   2.0  91.999965  4.046291e-18\n",
      "C(supp):C(dose)   108.319000   2.0   4.106991  2.186027e-02\n",
      "Residual          712.106000  54.0        NaN           NaN\n"
     ]
    }
   ],
   "source": [
    "import statsmodels.api as sm\n",
    "from statsmodels.formula.api import ols\n",
    "\n",
    "# Sample Data\n",
    "df = pd.read_csv(\"https://raw.githubusercontent.com/selva86/datasets/master/ToothGrowth.csv\")\n",
    "\n",
    "# Two-way ANOVA: len ~ supp + dose + supp:dose\n",
    "model = ols('len ~ C(supp) + C(dose) + C(supp):C(dose)', data=df).fit()\n",
    "anova_table = sm.stats.anova_lm(model, typ=2)\n",
    "print(anova_table)\n"
   ]
  },
  {
   "cell_type": "markdown",
   "id": "d3a9dce8-b09a-4ee6-bd14-86a68dfad19b",
   "metadata": {},
   "source": [
    "## Q6. Suppose you conducted a one-way ANOVA and obtained an F-statistic of 5.23 and a p-value of 0.02. What can you conclude?"
   ]
  },
  {
   "cell_type": "markdown",
   "id": "2b77ea1e-e563-450f-8926-5e1c67121df7",
   "metadata": {},
   "source": [
    "Answer:\n",
    "\n",
    "At a 5% significance level (α = 0.05), since p-value = 0.02 < 0.05, we reject the null hypothesis.\n",
    "\n",
    "Conclusion: There is a statistically significant difference between the group means.\n",
    "\n"
   ]
  },
  {
   "cell_type": "markdown",
   "id": "76b29eff-049b-446d-95b2-289a6c4e557c",
   "metadata": {},
   "source": [
    "## Q7. In a repeated measures ANOVA, how would you handle missing data, and what are the potential consequences?"
   ]
  },
  {
   "cell_type": "markdown",
   "id": "54645108-dc66-464b-aa87-8cfb6b7083ec",
   "metadata": {},
   "source": [
    "Answer:\n",
    "\n",
    "Methods to handle missing data:\n",
    "\n",
    "Listwise Deletion: Remove any subject with missing values.\n",
    "\n",
    "Imputation: Fill in missing data (e.g., mean imputation, regression imputation).\n",
    "\n",
    "Mixed Models: Use models that handle missingness under MAR assumptions.\n",
    "\n",
    "Consequences:\n",
    "\n",
    "Biased results if missingness is not random.\n",
    "\n",
    "Reduced power due to loss of data."
   ]
  },
  {
   "cell_type": "markdown",
   "id": "5d3d35f9-ae71-4a11-97de-a944c8d40eb7",
   "metadata": {},
   "source": [
    "##  Q8. What are some common post-hoc tests used after ANOVA?"
   ]
  },
  {
   "cell_type": "markdown",
   "id": "6228c9a6-0d0b-4cf8-9aa6-0cfdc9ebd608",
   "metadata": {},
   "source": [
    "Answer:\n",
    "\n",
    "Tukey's HSD: Best for comparing all pairs of group means.\n",
    "\n",
    "Bonferroni Correction: Adjusts p-values for multiple comparisons.\n",
    "\n",
    "Scheffe’s Test: More conservative; good for unequal group sizes."
   ]
  },
  {
   "cell_type": "markdown",
   "id": "c74ec877-65bb-43d8-8e92-82857084235a",
   "metadata": {},
   "source": [
    "## Q9. One-way ANOVA in Python – Comparing 3 Diets"
   ]
  },
  {
   "cell_type": "code",
   "execution_count": 19,
   "id": "14fa5318-0555-4717-8078-48284f03c000",
   "metadata": {},
   "outputs": [
    {
     "name": "stdout",
     "output_type": "stream",
     "text": [
      "F-statistic: 12.12, P-value: 0.0013\n"
     ]
    }
   ],
   "source": [
    "from scipy.stats import f_oneway\n",
    "\n",
    "# Sample Data\n",
    "diet_A = [5, 7, 6, 8, 9]\n",
    "diet_B = [4, 3, 6, 5, 4]\n",
    "diet_C = [8, 9, 7, 8, 10]\n",
    "\n",
    "# One-way ANOVA\n",
    "f_stat, p_value = f_oneway(diet_A, diet_B, diet_C)\n",
    "print(f\"F-statistic: {f_stat:.2f}, P-value: {p_value:.4f}\")\n"
   ]
  },
  {
   "cell_type": "markdown",
   "id": "99bdeb83-2111-4545-bf00-f8b70da23077",
   "metadata": {},
   "source": [
    "## Q10. Two-way ANOVA – Software Program & Experience"
   ]
  },
  {
   "cell_type": "code",
   "execution_count": 31,
   "id": "97035edb-e196-4e89-aa60-5703a6ac1f09",
   "metadata": {},
   "outputs": [
    {
     "name": "stdout",
     "output_type": "stream",
     "text": [
      "                             sum_sq    df         F    PR(>F)\n",
      "C(Program)                 1.866667   2.0  0.269231  0.766244\n",
      "C(Experience)              0.833333   1.0  0.240385  0.628381\n",
      "C(Program):C(Experience)  39.466667   2.0  5.692308  0.009479\n",
      "Residual                  83.200000  24.0       NaN       NaN\n"
     ]
    }
   ],
   "source": [
    "import pandas as pd\n",
    "import statsmodels.api as sm\n",
    "from statsmodels.formula.api import ols\n",
    "\n",
    "# Fixing data: 3 programs (A, B, C) × 2 experience levels × 5 repetitions = 30 rows\n",
    "programs = ['A', 'B', 'C']\n",
    "experiences = ['Novice', 'Experienced']\n",
    "\n",
    "data = []\n",
    "\n",
    "# Simulating 5 samples per (program, experience) group\n",
    "values = [22, 24, 23, 25, 21, 20, 22, 21, 19, 20, 18, 19] * 3  # 36 values\n",
    "i = 0\n",
    "\n",
    "for program in programs:\n",
    "    for exp in experiences:\n",
    "        for _ in range(5):  # 5 repetitions\n",
    "            data.append({'Program': program, 'Experience': exp, 'Time': values[i]})\n",
    "            i += 1\n",
    "\n",
    "df = pd.DataFrame(data)\n",
    "\n",
    "# Two-way ANOVA\n",
    "model = ols('Time ~ C(Program) + C(Experience) + C(Program):C(Experience)', data=df).fit()\n",
    "anova_result = sm.stats.anova_lm(model, typ=2)\n",
    "print(anova_result)\n"
   ]
  },
  {
   "cell_type": "markdown",
   "id": "8521c774-b0eb-4e18-9232-1e66f6e2aac4",
   "metadata": {},
   "source": [
    "##  Q11. Two-sample t-test for test score comparison"
   ]
  },
  {
   "cell_type": "code",
   "execution_count": 25,
   "id": "0665333a-7353-434c-bd0d-5ed73e8a8dc8",
   "metadata": {},
   "outputs": [
    {
     "name": "stdout",
     "output_type": "stream",
     "text": [
      "T-statistic: -6.47, P-value: 0.0002\n"
     ]
    }
   ],
   "source": [
    "from scipy.stats import ttest_ind\n",
    "\n",
    "# Sample Data\n",
    "control = [70, 72, 68, 71, 69]\n",
    "experimental = [75, 78, 80, 76, 77]\n",
    "\n",
    "t_stat, p_val = ttest_ind(control, experimental)\n",
    "print(f\"T-statistic: {t_stat:.2f}, P-value: {p_val:.4f}\")\n"
   ]
  },
  {
   "cell_type": "markdown",
   "id": "fc197ab0-da54-4d0a-aa02-893912b2c62a",
   "metadata": {},
   "source": [
    "## Q12. Repeated Measures ANOVA – Daily Sales of 3 Stores"
   ]
  },
  {
   "cell_type": "code",
   "execution_count": 29,
   "id": "db56468c-15ae-40de-a3e7-ad03d7cdf08d",
   "metadata": {},
   "outputs": [
    {
     "name": "stdout",
     "output_type": "stream",
     "text": [
      "               Anova\n",
      "===================================\n",
      "      F Value Num DF  Den DF Pr > F\n",
      "-----------------------------------\n",
      "Store  2.2704 2.0000 58.0000 0.1124\n",
      "===================================\n",
      "\n"
     ]
    }
   ],
   "source": [
    "import pandas as pd\n",
    "from statsmodels.stats.anova import AnovaRM\n",
    "\n",
    "# Simulated Data\n",
    "df = pd.DataFrame({\n",
    "    'Subject': list(range(1, 31)),\n",
    "    'StoreA': np.random.normal(500, 20, 30),\n",
    "    'StoreB': np.random.normal(520, 20, 30),\n",
    "    'StoreC': np.random.normal(510, 20, 30)\n",
    "})\n",
    "\n",
    "melted = pd.melt(df, id_vars=['Subject'], value_vars=['StoreA', 'StoreB', 'StoreC'],\n",
    "                 var_name='Store', value_name='Sales')\n",
    "\n",
    "anova = AnovaRM(melted, 'Sales', 'Subject', within=['Store']).fit()\n",
    "print(anova)\n"
   ]
  },
  {
   "cell_type": "code",
   "execution_count": null,
   "id": "28e52daa-7d26-4a3f-bbfc-a68557bccfa6",
   "metadata": {},
   "outputs": [],
   "source": []
  }
 ],
 "metadata": {
  "kernelspec": {
   "display_name": "Python (tf_env)",
   "language": "python",
   "name": "tf_env"
  },
  "language_info": {
   "codemirror_mode": {
    "name": "ipython",
    "version": 3
   },
   "file_extension": ".py",
   "mimetype": "text/x-python",
   "name": "python",
   "nbconvert_exporter": "python",
   "pygments_lexer": "ipython3",
   "version": "3.12.7"
  }
 },
 "nbformat": 4,
 "nbformat_minor": 5
}
