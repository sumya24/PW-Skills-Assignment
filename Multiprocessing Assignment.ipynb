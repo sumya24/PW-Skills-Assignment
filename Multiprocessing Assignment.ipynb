{
 "cells": [
  {
   "cell_type": "markdown",
   "id": "0628b649-3065-4509-b465-102a0777670b",
   "metadata": {},
   "source": [
    "## Q1. What is multiprocessing in Python? Why is it useful?"
   ]
  },
  {
   "cell_type": "markdown",
   "id": "74c7a640-5c6d-4a39-90f0-d614e1bcaecb",
   "metadata": {},
   "source": [
    "Answer:\n",
    "\n",
    "Multiprocessing is a Python module that allows you to create multiple processes that run independently and in parallel.\n",
    "\n",
    "It is useful because:\n",
    "\n",
    "It bypasses Python's Global Interpreter Lock (GIL).\n",
    "\n",
    "It's ideal for CPU-bound tasks (like mathematical computations, image processing, etc.).\n",
    "\n",
    "It allows true parallelism, using multiple CPU cores for faster execution.\n",
    "\n"
   ]
  },
  {
   "cell_type": "markdown",
   "id": "6fb09be1-f7b5-4cf6-bc90-bff7c57f5f2a",
   "metadata": {},
   "source": [
    "## Q2. What are the differences between multiprocessing and multithreading?"
   ]
  },
  {
   "cell_type": "markdown",
   "id": "8029043a-b5c9-41f4-a333-244bc1188180",
   "metadata": {},
   "source": [
    "Answer:\n",
    "\n",
    "Multiprocessing uses multiple processes, each with its own memory space. In contrast, multithreading uses multiple threads that run within the same process and share the same memory.\n",
    "\n",
    "Multiprocessing can run multiple tasks truly in parallel by using different CPU cores. Multithreading may not achieve real parallelism in Python due to the Global Interpreter Lock (GIL), which allows only one thread to execute Python bytecode at a time.\n",
    "\n",
    "Multiprocessing is best suited for CPU-bound tasks (e.g., heavy computations), while multithreading is more efficient for I/O-bound tasks (e.g., file or network operations).\n",
    "\n",
    "In multiprocessing, if one process crashes, it doesn’t affect the others. But in multithreading, if one thread crashes, it might affect the entire program since all threads share the same memory space.\n",
    "\n",
    "Multiprocessing consumes more memory because each process has its own memory. On the other hand, multithreading uses less memory as threads share data and memory."
   ]
  },
  {
   "cell_type": "markdown",
   "id": "889dc749-7190-4aa4-818f-9f18ac0a780c",
   "metadata": {},
   "source": [
    "## Q3. Write a Python code to create a process using the multiprocessing module."
   ]
  },
  {
   "cell_type": "code",
   "execution_count": 8,
   "id": "17b7f63e-e771-4144-8803-4e2f3093e0e3",
   "metadata": {},
   "outputs": [],
   "source": [
    "import multiprocessing\n",
    "\n",
    "def display():\n",
    "    print(\"Process is running\")\n",
    "\n",
    "if __name__ == \"__main__\":\n",
    "    p = multiprocessing.Process(target=display)\n",
    "    p.start()\n",
    "    p.join()\n"
   ]
  },
  {
   "cell_type": "markdown",
   "id": "b8887244-a20a-4244-b8c3-51013f172fe2",
   "metadata": {},
   "source": [
    "## Q4. What is a multiprocessing pool in Python? Why is it used?"
   ]
  },
  {
   "cell_type": "markdown",
   "id": "dfb9db6c-da7a-4e74-ab56-0abc7c3f1161",
   "metadata": {},
   "source": [
    "Answer:\n",
    "\n",
    "A multiprocessing pool is a way to manage a collection of worker processes that can run tasks in parallel.\n",
    "\n",
    "✅ It's used to:\n",
    "\n",
    "Automatically manage multiple processes.\n",
    "\n",
    "Map a function over a range of data.\n",
    "\n",
    "Improve performance for CPU-heavy, repetitive tasks.\n",
    "\n"
   ]
  },
  {
   "cell_type": "markdown",
   "id": "2f235f6f-4e5d-4f21-ba28-73897d2f2697",
   "metadata": {},
   "source": [
    "## Q5. How can we create a pool of worker processes in Python using the multiprocessing module?"
   ]
  },
  {
   "cell_type": "code",
   "execution_count": null,
   "id": "1cbba989-933d-48aa-82c2-9bdd6352bc99",
   "metadata": {},
   "outputs": [],
   "source": [
    "from multiprocessing import Pool\n",
    "\n",
    "def square(n):\n",
    "    return n * n\n",
    "\n",
    "if __name__ == \"__main__\":\n",
    "    numbers = [1, 2, 3, 4, 5]\n",
    "    with Pool(processes=4) as pool:\n",
    "        results = pool.map(square, numbers)\n",
    "    print(\"Squares:\", results)"
   ]
  },
  {
   "cell_type": "markdown",
   "id": "b1e15e42-d513-493a-ad8f-feaa618fc8da",
   "metadata": {},
   "source": [
    "## Q6. Write a Python program to create 4 processes, each process should print a different number using the multiprocessing module."
   ]
  },
  {
   "cell_type": "code",
   "execution_count": 2,
   "id": "77f9dec5-d36c-486f-89e2-45e031aad51c",
   "metadata": {},
   "outputs": [],
   "source": [
    "import multiprocessing\n",
    "\n",
    "def print_number(n):\n",
    "    print(f\"Process {multiprocessing.current_process().name} prints: {n}\")\n",
    "\n",
    "if __name__ == \"__main__\":\n",
    "    numbers = [10, 20, 30, 40]\n",
    "    processes = []\n",
    "\n",
    "    for num in numbers:\n",
    "        p = multiprocessing.Process(target=print_number, args=(num,))\n",
    "        processes.append(p)\n",
    "        p.start()\n",
    "\n",
    "    for p in processes:\n",
    "        p.join()\n"
   ]
  },
  {
   "cell_type": "code",
   "execution_count": null,
   "id": "952dc7d3-cc7f-4049-956e-d1dca2b5c835",
   "metadata": {},
   "outputs": [],
   "source": []
  },
  {
   "cell_type": "code",
   "execution_count": null,
   "id": "798ab6e5-6d46-46d7-a7bc-79e8d5f0bd07",
   "metadata": {},
   "outputs": [],
   "source": []
  }
 ],
 "metadata": {
  "kernelspec": {
   "display_name": "Python (tf_env)",
   "language": "python",
   "name": "tf_env"
  },
  "language_info": {
   "codemirror_mode": {
    "name": "ipython",
    "version": 3
   },
   "file_extension": ".py",
   "mimetype": "text/x-python",
   "name": "python",
   "nbconvert_exporter": "python",
   "pygments_lexer": "ipython3",
   "version": "3.12.7"
  }
 },
 "nbformat": 4,
 "nbformat_minor": 5
}
