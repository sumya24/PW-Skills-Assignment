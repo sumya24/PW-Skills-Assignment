{
 "cells": [
  {
   "cell_type": "markdown",
   "id": "5eb4a0fe-41a6-4479-9a52-9e7c23a0a392",
   "metadata": {},
   "source": [
    "## Q1. What are the three measures of central tendency?"
   ]
  },
  {
   "cell_type": "markdown",
   "id": "46b8d76b-79de-43a3-9c45-b211ee3d09f5",
   "metadata": {},
   "source": [
    "Answer:\n",
    "The three main measures of central tendency are:\n",
    "\n",
    "Mean – The arithmetic average of a dataset.\n",
    "\n",
    "Median – The middle value when the data is sorted.\n",
    "\n",
    "Mode – The most frequently occurring value in the dataset."
   ]
  },
  {
   "cell_type": "markdown",
   "id": "06535920-ef7d-4751-a423-067629d6def3",
   "metadata": {},
   "source": [
    "## Q2. What is the difference between the mean, median, and mode? How are they used to measure the central tendency of a dataset?"
   ]
  },
  {
   "cell_type": "markdown",
   "id": "5599c134-b39a-4037-9a43-807b703753af",
   "metadata": {},
   "source": [
    "Answer:\n",
    "\n",
    "Mean is the average and is sensitive to outliers. It is best used when the data is symmetrically distributed.\n",
    "\n",
    "Median is the middle value and is not affected by outliers. It is preferred for skewed distributions.\n",
    "\n",
    "Mode is the most common value, useful for categorical data or distributions with repeated values."
   ]
  },
  {
   "cell_type": "markdown",
   "id": "f5065dfb-51c3-41a7-befe-237907002ebb",
   "metadata": {},
   "source": [
    "## Q3. Measure the three measures of central tendency for the given height data:"
   ]
  },
  {
   "cell_type": "code",
   "execution_count": 29,
   "id": "c16e7e97-42b7-495c-b95e-c62a1ff1ea12",
   "metadata": {},
   "outputs": [
    {
     "name": "stdout",
     "output_type": "stream",
     "text": [
      "Mean: 177.01875\n",
      "Median: 177.0\n",
      "Mode: 177.0\n"
     ]
    }
   ],
   "source": [
    "import numpy as np\n",
    "from scipy import stats\n",
    "\n",
    "data = [178,177,176,177,178.2,178,175,179,180,175,178.9,176.2,177,172.5,178,176.5]\n",
    "\n",
    "mean = np.mean(data)\n",
    "median = np.median(data)\n",
    "\n",
    "# Fixed mode extraction\n",
    "mode_result = stats.mode(data, keepdims=True)\n",
    "mode = mode_result.mode[0]\n",
    "\n",
    "print(\"Mean:\", mean)\n",
    "print(\"Median:\", median)\n",
    "print(\"Mode:\", mode)\n"
   ]
  },
  {
   "cell_type": "markdown",
   "id": "0b97415f-2c53-46c2-8191-9ec7249753e7",
   "metadata": {},
   "source": [
    "## Q4. Find the standard deviation for the given data:"
   ]
  },
  {
   "cell_type": "code",
   "execution_count": 9,
   "id": "334c53ca-cae7-44ab-a332-91bb62eeb599",
   "metadata": {},
   "outputs": [
    {
     "name": "stdout",
     "output_type": "stream",
     "text": [
      "Standard Deviation: 1.7885814036548633\n"
     ]
    }
   ],
   "source": [
    "std_dev = np.std(data)\n",
    "print(\"Standard Deviation:\", std_dev)\n"
   ]
  },
  {
   "cell_type": "markdown",
   "id": "bba36e69-2dd0-48d4-985e-ae7f11771ed4",
   "metadata": {},
   "source": [
    "## Q5. How are measures of dispersion such as range, variance, and standard deviation used to describe the spread of a dataset? Provide an example."
   ]
  },
  {
   "cell_type": "markdown",
   "id": "6652f0cf-2e8e-424d-a849-47e1da73c2c2",
   "metadata": {},
   "source": [
    "Answer:\n",
    "\n",
    "Range is the difference between the highest and lowest values.\n",
    "\n",
    "Variance measures how far each number in the dataset is from the mean.\n",
    "\n",
    "Standard Deviation is the square root of variance, representing the average distance from the mean.\n",
    "\n",
    "Example:\n",
    "For [1, 2, 3, 4, 100], the range is large (99), variance and standard deviation are also high, indicating a wide spread due to the outlier."
   ]
  },
  {
   "cell_type": "markdown",
   "id": "9e41d7af-a593-4745-b4ca-68be4b383715",
   "metadata": {},
   "source": [
    "## Q6. What is a Venn diagram?"
   ]
  },
  {
   "cell_type": "markdown",
   "id": "bfcb6176-bd3b-47af-9136-83802ea465f5",
   "metadata": {},
   "source": [
    "Answer:\n",
    "A Venn diagram is a graphical representation of sets and their relationships using overlapping circles. It shows common and distinct elements among sets."
   ]
  },
  {
   "cell_type": "markdown",
   "id": "d3cf4245-1fdd-4d29-aaa0-3fe866539b42",
   "metadata": {},
   "source": [
    "## Q7. For the two given sets A = (2,3,4,5,6,7) & B = (0,2,6,8,10). Find:\n",
    "(i) A ∩ B (Intersection): Elements common to both sets\n",
    "(ii) A ∪ B (Union): All elements from both sets without repetition"
   ]
  },
  {
   "cell_type": "code",
   "execution_count": 14,
   "id": "7333c200-0fd5-4199-b8f4-e05ada0eb13b",
   "metadata": {},
   "outputs": [
    {
     "name": "stdout",
     "output_type": "stream",
     "text": [
      "A ∩ B: {2, 6}\n",
      "A ∪ B: {0, 2, 3, 4, 5, 6, 7, 8, 10}\n"
     ]
    }
   ],
   "source": [
    "A = {2,3,4,5,6,7}\n",
    "B = {0,2,6,8,10}\n",
    "\n",
    "intersection = A & B\n",
    "union = A | B\n",
    "\n",
    "print(\"A ∩ B:\", intersection)\n",
    "print(\"A ∪ B:\", union)\n"
   ]
  },
  {
   "cell_type": "markdown",
   "id": "c6ec78ee-3012-4d59-aed5-7437b95e87ff",
   "metadata": {},
   "source": [
    "## Q8. What do you understand about skewness in data?"
   ]
  },
  {
   "cell_type": "markdown",
   "id": "57dfd69e-cb3e-48ed-a8bc-1a528aeb22e3",
   "metadata": {},
   "source": [
    "Answer:\n",
    "Skewness indicates the asymmetry of a distribution:\n",
    "\n",
    "Positive skew (right-skewed): Tail on the right, mean > median.\n",
    "\n",
    "Negative skew (left-skewed): Tail on the left, mean < median.\n",
    "\n",
    "Zero skew: Symmetrical distribution."
   ]
  },
  {
   "cell_type": "markdown",
   "id": "e70da3c4-f6a0-4a8e-976f-207b8bfb1343",
   "metadata": {},
   "source": [
    "## Q9. If a data is right skewed then what will be the position of median with respect to mean?"
   ]
  },
  {
   "cell_type": "markdown",
   "id": "092d8be0-2e7e-4297-9b60-477b17997d7f",
   "metadata": {},
   "source": [
    "Answer:\n",
    "In a right-skewed (positively skewed) distribution, the mean is greater than the median."
   ]
  },
  {
   "cell_type": "markdown",
   "id": "9c8ee45a-ce23-49b4-b64f-533299bfa512",
   "metadata": {},
   "source": [
    "## Q10. Explain the difference between covariance and correlation. How are these measures used in statistical analysis?"
   ]
  },
  {
   "cell_type": "markdown",
   "id": "b7061ac2-fe1d-4a11-8af2-6a4e771779ed",
   "metadata": {},
   "source": [
    "Answer:\n",
    "\n",
    "Covariance measures the direction of the relationship between two variables (positive or negative).\n",
    "\n",
    "Correlation measures both the direction and strength of the relationship. It is a normalized form of covariance (ranges from -1 to 1)."
   ]
  },
  {
   "cell_type": "markdown",
   "id": "b9c93f20-9703-47d8-a861-e8434c75af73",
   "metadata": {},
   "source": [
    "## Q11. What is the formula for calculating the sample mean? Provide an example calculation for a dataset."
   ]
  },
  {
   "cell_type": "code",
   "execution_count": 24,
   "id": "f5d1891d-d583-43ef-8fe6-e52e0233afda",
   "metadata": {},
   "outputs": [
    {
     "data": {
      "text/plain": [
       "177.01875"
      ]
     },
     "execution_count": 24,
     "metadata": {},
     "output_type": "execute_result"
    }
   ],
   "source": [
    "# Example (dataset = [5, 10, 15]):\n",
    "Mean = (5 + 10 + 15) / 3 \n",
    "mean"
   ]
  },
  {
   "cell_type": "markdown",
   "id": "4b9c639b-cfea-493f-89e8-e10584424364",
   "metadata": {},
   "source": [
    "## Q12. For a normal distribution data what is the relationship between its measure of central tendency?"
   ]
  },
  {
   "cell_type": "markdown",
   "id": "00e98076-e19b-4b81-9c48-c42608512b7a",
   "metadata": {},
   "source": [
    "Answer:\n",
    "In a normal distribution, mean = median = mode. The data is symmetrically distributed."
   ]
  },
  {
   "cell_type": "markdown",
   "id": "58de5fd4-6a32-4c48-ad25-610cadf3a51e",
   "metadata": {},
   "source": [
    "## Q13. How is covariance different from correlation?"
   ]
  },
  {
   "cell_type": "markdown",
   "id": "5f9a339d-bfd0-4712-b753-58af37a541d1",
   "metadata": {},
   "source": [
    "Answer:\n",
    "\n",
    "Covariance indicates the direction of the relationship but not the strength.\n",
    "\n",
    "Correlation indicates both direction and strength, scaled between -1 and 1."
   ]
  },
  {
   "cell_type": "markdown",
   "id": "bca9cc7d-3b1e-41a7-809d-be6f9b75164f",
   "metadata": {},
   "source": [
    "## Q14. How do outliers affect measures of central tendency and dispersion? Provide an example."
   ]
  },
  {
   "cell_type": "markdown",
   "id": "0e9cb06c-1a23-4b98-a116-bc2f105092d9",
   "metadata": {},
   "source": [
    "Answer:\n",
    "Outliers greatly affect the mean and standard deviation but have minimal effect on median and mode.\n",
    "\n",
    "Example:\n",
    "Dataset A: [10, 20, 30, 40] → Mean = 25\n",
    "Dataset B: [10, 20, 30, 400] → Mean = 115 → Skewed by outlier (400)"
   ]
  },
  {
   "cell_type": "code",
   "execution_count": null,
   "id": "c3fdd1da-5e0d-4a85-98fb-7eee8e9fb9d3",
   "metadata": {},
   "outputs": [],
   "source": []
  }
 ],
 "metadata": {
  "kernelspec": {
   "display_name": "Python (tf_env)",
   "language": "python",
   "name": "tf_env"
  },
  "language_info": {
   "codemirror_mode": {
    "name": "ipython",
    "version": 3
   },
   "file_extension": ".py",
   "mimetype": "text/x-python",
   "name": "python",
   "nbconvert_exporter": "python",
   "pygments_lexer": "ipython3",
   "version": "3.12.7"
  }
 },
 "nbformat": 4,
 "nbformat_minor": 5
}
