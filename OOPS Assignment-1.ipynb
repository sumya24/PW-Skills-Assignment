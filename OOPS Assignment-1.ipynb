{
 "cells": [
  {
   "cell_type": "markdown",
   "id": "4de587cf-4470-4fd6-9970-f8935f64111c",
   "metadata": {},
   "source": [
    "## Q1. Explain Class and Object with respect to Object-Oriented Programming. Give a suitable example."
   ]
  },
  {
   "cell_type": "markdown",
   "id": "f9e35459-3d26-4cf0-a45b-65d4f2a3ce7e",
   "metadata": {},
   "source": [
    "In Object-Oriented Programming (OOP):\n",
    "\n",
    "A class is a blueprint or template for creating objects. It defines the properties (attributes) and behaviors (methods) that the objects created from the class will have.\n",
    "\n",
    "An object is an instance of a class. It's a concrete entity created from the class blueprint, with its own set of attributes and capable of performing the defined methods."
   ]
  },
  {
   "cell_type": "code",
   "execution_count": 6,
   "id": "b7818df7-7c30-4c98-a7cf-8576bc8dd809",
   "metadata": {},
   "outputs": [
    {
     "name": "stdout",
     "output_type": "stream",
     "text": [
      "This car is a Toyota Corolla\n",
      "This car is a Honda Civic\n"
     ]
    }
   ],
   "source": [
    "## Example:\n",
    "\n",
    "# Class definition\n",
    "class Car:\n",
    "    def __init__(self, brand, model):\n",
    "        self.brand = brand  # Attribute\n",
    "        self.model = model  # Attribute\n",
    "    \n",
    "    def display_info(self):  # Method\n",
    "        print(f\"This car is a {self.brand} {self.model}\")\n",
    "\n",
    "# Creating objects (instances) of the Car class\n",
    "car1 = Car(\"Toyota\", \"Corolla\")\n",
    "car2 = Car(\"Honda\", \"Civic\")\n",
    "\n",
    "# Using the objects\n",
    "car1.display_info()  # Output: This car is a Toyota Corolla\n",
    "car2.display_info()  # Output: This car is a Honda Civic"
   ]
  },
  {
   "cell_type": "markdown",
   "id": "2120b2e6-6ca5-463e-8f24-0e472f24fe7b",
   "metadata": {},
   "source": [
    "## Q2. Name the four pillars of OOPs."
   ]
  },
  {
   "cell_type": "markdown",
   "id": "627404f5-2745-450b-9f2d-11ceee78724f",
   "metadata": {},
   "source": [
    "Answer:\n",
    "The four fundamental pillars of Object-Oriented Programming are:\n",
    "\n",
    "Encapsulation - Bundling of data and methods that operate on that data within one unit (class)\n",
    "\n",
    "Inheritance - Mechanism where a new class derives properties and behaviors from an existing class\n",
    "\n",
    "Polymorphism - Ability of objects to take on many forms (method overriding, method overloading)\n",
    "\n",
    "Abstraction - Hiding complex implementation details and showing only essential features"
   ]
  },
  {
   "cell_type": "markdown",
   "id": "9277f52e-8e03-4544-a045-329fd786ab58",
   "metadata": {},
   "source": [
    "## Q3. Explain why the init() function is used. Give a suitable example."
   ]
  },
  {
   "cell_type": "markdown",
   "id": "81ad9257-0020-4d91-8b11-f3daf833ec01",
   "metadata": {},
   "source": [
    "Answer:\n",
    "The __init__() function is a special method in Python classes that:\n",
    "\n",
    "Serves as the constructor that is automatically called when an object is created\n",
    "\n",
    "Used to initialize the object's attributes with initial values\n",
    "\n",
    "Allows passing initial values to the object at creation time\n",
    "\n",
    "The first parameter is always self which refers to the instance being created\n"
   ]
  },
  {
   "cell_type": "code",
   "execution_count": 14,
   "id": "464c050a-81b2-4f28-a266-8278f6e7f81a",
   "metadata": {},
   "outputs": [
    {
     "name": "stdout",
     "output_type": "stream",
     "text": [
      "New student object created\n",
      "New student object created\n",
      "Name: Alice, Age: 20, ID: S12345\n"
     ]
    }
   ],
   "source": [
    "## Example:\n",
    "\n",
    "class Student:\n",
    "    def __init__(self, name, age, student_id):\n",
    "        self.name = name\n",
    "        self.age = age\n",
    "        self.student_id = student_id\n",
    "        print(\"New student object created\")\n",
    "    \n",
    "    def display_info(self):\n",
    "        print(f\"Name: {self.name}, Age: {self.age}, ID: {self.student_id}\")\n",
    "\n",
    "# Creating student objects\n",
    "student1 = Student(\"Alice\", 20, \"S12345\")\n",
    "student2 = Student(\"Bob\", 21, \"S67890\")\n",
    "\n",
    "student1.display_info() "
   ]
  },
  {
   "cell_type": "markdown",
   "id": "39d9c042-ecf6-4b32-a80e-e7ffe79124c5",
   "metadata": {},
   "source": [
    "## Q4. Why self is used in OOPs?"
   ]
  },
  {
   "cell_type": "markdown",
   "id": "48199954-891a-4026-aae4-d6ed5c886aee",
   "metadata": {},
   "source": [
    "Answer:\n",
    "In Python OOP, self is used to:\n",
    "\n",
    "Refer to the current instance of the class\n",
    "\n",
    "Access the instance variables and methods within the class\n",
    "\n",
    "Distinguish between instance variables and local variables\n",
    "\n",
    "Bind the attributes with the given arguments when an object is created"
   ]
  },
  {
   "cell_type": "markdown",
   "id": "04ed0922-b0d6-4666-957f-d09b53690b2d",
   "metadata": {},
   "source": [
    "## Q5. What is inheritance? Give an example for each type of inheritance."
   ]
  },
  {
   "cell_type": "markdown",
   "id": "a1430467-c8fe-4228-ac2d-810e9bb49959",
   "metadata": {},
   "source": [
    "Answer:\n",
    "Inheritance is an OOP concept where a class (child/derived class) inherits properties and methods from another class (parent/base class). This promotes code reusability and establishes relationships between classes."
   ]
  },
  {
   "cell_type": "code",
   "execution_count": 18,
   "id": "bfb8a3b9-e0f8-4fd3-9476-6b20b1627a12",
   "metadata": {},
   "outputs": [
    {
     "name": "stdout",
     "output_type": "stream",
     "text": [
      "Animal speaks\n",
      "Dog barks\n"
     ]
    }
   ],
   "source": [
    "## Single Inheritance:\n",
    "class Animal:  # Parent class\n",
    "    def speak(self):\n",
    "        print(\"Animal speaks\")\n",
    "\n",
    "class Dog(Animal):  # Child class\n",
    "    def bark(self):\n",
    "        print(\"Dog barks\")\n",
    "\n",
    "dog = Dog()\n",
    "dog.speak()  # Inherited from Animal\n",
    "dog.bark()   # Own method"
   ]
  },
  {
   "cell_type": "code",
   "execution_count": 20,
   "id": "e6d6c2a8-2401-420c-9cbe-4570e1a6257a",
   "metadata": {},
   "outputs": [
    {
     "name": "stdout",
     "output_type": "stream",
     "text": [
      "Father's quality\n",
      "Mother's quality\n"
     ]
    }
   ],
   "source": [
    "## Multiple Inheritance:\n",
    "class Father:\n",
    "    def father_quality(self):\n",
    "        print(\"Father's quality\")\n",
    "\n",
    "class Mother:\n",
    "    def mother_quality(self):\n",
    "        print(\"Mother's quality\")\n",
    "\n",
    "class Child(Father, Mother):  # Inherits from multiple classes\n",
    "    pass\n",
    "\n",
    "child = Child()\n",
    "child.father_quality()\n",
    "child.mother_quality()"
   ]
  },
  {
   "cell_type": "code",
   "execution_count": 22,
   "id": "dd997223-abc6-4ad1-abbe-d060837cd4e6",
   "metadata": {},
   "outputs": [
    {
     "name": "stdout",
     "output_type": "stream",
     "text": [
      "Grandparent's method\n",
      "Parent's method\n",
      "Child's method\n"
     ]
    }
   ],
   "source": [
    "## Multilevel Inheritance:\n",
    "class Grandparent:\n",
    "    def grandparent_method(self):\n",
    "        print(\"Grandparent's method\")\n",
    "\n",
    "class Parent(Grandparent):\n",
    "    def parent_method(self):\n",
    "        print(\"Parent's method\")\n",
    "\n",
    "class Child(Parent):\n",
    "    def child_method(self):\n",
    "        print(\"Child's method\")\n",
    "\n",
    "child = Child()\n",
    "child.grandparent_method()\n",
    "child.parent_method()\n",
    "child.child_method()"
   ]
  },
  {
   "cell_type": "code",
   "execution_count": 26,
   "id": "f6daa37d-86ea-4b31-a62e-892310f5ce40",
   "metadata": {},
   "outputs": [
    {
     "name": "stdout",
     "output_type": "stream",
     "text": [
      "This is a vehicle\n",
      "This is a vehicle\n",
      "This is a car\n",
      "This is a truck\n"
     ]
    }
   ],
   "source": [
    "## Hierarchical Inheritance:\n",
    "class Vehicle:\n",
    "    def info(self):\n",
    "        print(\"This is a vehicle\")\n",
    "\n",
    "class Car(Vehicle):\n",
    "    def car_info(self):\n",
    "        print(\"This is a car\")\n",
    "\n",
    "class Truck(Vehicle):\n",
    "    def truck_info(self):\n",
    "        print(\"This is a truck\")\n",
    "\n",
    "car = Car()\n",
    "truck = Truck()\n",
    "car.info()        # Inherited from Vehicle\n",
    "truck.info()      # Inherited from Vehicle\n",
    "car.car_info()    # Specific to Car\n",
    "truck.truck_info() # Specific to Truck"
   ]
  },
  {
   "cell_type": "code",
   "execution_count": 28,
   "id": "b4de86af-447e-4896-935a-1f3386ff261a",
   "metadata": {},
   "outputs": [],
   "source": [
    "## Hybrid Inheritance (Combination of multiple types):\n",
    "class A:\n",
    "    pass\n",
    "\n",
    "class B(A):\n",
    "    pass\n",
    "\n",
    "class C(A):\n",
    "    pass\n",
    "\n",
    "class D(B, C):\n",
    "    pass\n",
    "\n",
    "d = D()\n",
    "# This combines hierarchical (B and C inherit from A) and multiple (D inherits from B and C)"
   ]
  },
  {
   "cell_type": "code",
   "execution_count": null,
   "id": "e68e8160-4074-4001-8e98-098333671eb7",
   "metadata": {},
   "outputs": [],
   "source": []
  }
 ],
 "metadata": {
  "kernelspec": {
   "display_name": "Python (tf_env)",
   "language": "python",
   "name": "tf_env"
  },
  "language_info": {
   "codemirror_mode": {
    "name": "ipython",
    "version": 3
   },
   "file_extension": ".py",
   "mimetype": "text/x-python",
   "name": "python",
   "nbconvert_exporter": "python",
   "pygments_lexer": "ipython3",
   "version": "3.12.7"
  }
 },
 "nbformat": 4,
 "nbformat_minor": 5
}
