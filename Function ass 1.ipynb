{
 "cells": [
  {
   "cell_type": "markdown",
   "id": "5eb71956-f338-4163-b27c-86ba04803a59",
   "metadata": {},
   "source": [
    "## Q1. Function to return odd numbers between 1 and 25"
   ]
  },
  {
   "cell_type": "code",
   "execution_count": 3,
   "id": "c0e3d2fc-2554-40b8-923d-3b625d11419f",
   "metadata": {},
   "outputs": [
    {
     "name": "stdout",
     "output_type": "stream",
     "text": [
      "[1, 3, 5, 7, 9, 11, 13, 15, 17, 19, 21, 23, 25]\n"
     ]
    }
   ],
   "source": [
    "# The 'def' keyword is used to create a function in Python\n",
    "def get_odd_numbers():\n",
    "    return [num for num in range(1, 26) if num % 2 != 0]\n",
    "\n",
    "print(get_odd_numbers())"
   ]
  },
  {
   "cell_type": "markdown",
   "id": "6b22f4b9-b365-4c2a-98fd-eaea3cfb2ff0",
   "metadata": {},
   "source": [
    "## Q2. Understanding *args and **kwargs"
   ]
  },
  {
   "cell_type": "code",
   "execution_count": 7,
   "id": "da449b05-a201-472b-a282-2ecc5b4bd3f4",
   "metadata": {},
   "outputs": [
    {
     "name": "stdout",
     "output_type": "stream",
     "text": [
      "15\n",
      "name: Alice\n",
      "age: 25\n",
      "city: New York\n"
     ]
    }
   ],
   "source": [
    "# *args is used to pass a variable number of non-keyword arguments\n",
    "def sum_numbers(*args):\n",
    "    return sum(args)\n",
    "\n",
    "print(sum_numbers(1, 2, 3, 4, 5))  # Output: 15\n",
    "\n",
    "# **kwargs is used to pass a variable number of keyword arguments\n",
    "def print_kwargs(**kwargs):\n",
    "    for key, value in kwargs.items():\n",
    "        print(f\"{key}: {value}\")\n",
    "\n",
    "print_kwargs(name=\"Alice\", age=25, city=\"New York\")"
   ]
  },
  {
   "cell_type": "markdown",
   "id": "a448a93c-8090-4024-ac06-740f3d2f09ee",
   "metadata": {},
   "source": [
    "## Q3. Iterator in Python"
   ]
  },
  {
   "cell_type": "code",
   "execution_count": 12,
   "id": "0c59251d-8d17-4a57-a2df-bc7d4352acdf",
   "metadata": {},
   "outputs": [
    {
     "name": "stdout",
     "output_type": "stream",
     "text": [
      "2\n",
      "4\n",
      "6\n",
      "8\n",
      "10\n"
     ]
    }
   ],
   "source": [
    "numbers = [2, 4, 6, 8, 10, 12, 14, 16, 18, 20]\n",
    "\n",
    "# Initialize iterator object using iter() method\n",
    "num_iterator = iter(numbers)\n",
    "\n",
    "# Iterate using next() method\n",
    "for _ in range(5):\n",
    "    print(next(num_iterator))"
   ]
  },
  {
   "cell_type": "markdown",
   "id": "cf2d0a66-67bf-41a2-b068-32c7a3e96c84",
   "metadata": {},
   "source": [
    "## Q4. Generator function and yield keyword"
   ]
  },
  {
   "cell_type": "code",
   "execution_count": 16,
   "id": "7584cb60-478a-473d-ab67-f732eeced1a5",
   "metadata": {},
   "outputs": [
    {
     "name": "stdout",
     "output_type": "stream",
     "text": [
      "[1, 2, 3, 4, 5]\n"
     ]
    }
   ],
   "source": [
    "# A generator function returns a generator object that can be iterated upon\n",
    "# The yield keyword is used to return a value and pause the function's execution\n",
    "\n",
    "def count_up_to(max):\n",
    "    count = 1\n",
    "    while count <= max:\n",
    "        yield count\n",
    "        count += 1\n",
    "\n",
    "counter = count_up_to(5)\n",
    "print(list(counter))  # Output: [1, 2, 3, 4, 5]"
   ]
  },
  {
   "cell_type": "markdown",
   "id": "f7286deb-f16e-41a9-9b63-089485b0cec4",
   "metadata": {},
   "source": [
    "## Q5. Generator for prime numbers < 1000"
   ]
  },
  {
   "cell_type": "code",
   "execution_count": 19,
   "id": "482455ca-ea65-44a6-944a-9a016bb00422",
   "metadata": {},
   "outputs": [
    {
     "name": "stdout",
     "output_type": "stream",
     "text": [
      "2\n",
      "3\n",
      "5\n",
      "7\n",
      "11\n",
      "13\n",
      "17\n",
      "19\n",
      "23\n",
      "29\n",
      "31\n",
      "37\n",
      "41\n",
      "43\n",
      "47\n",
      "53\n",
      "59\n",
      "61\n",
      "67\n",
      "71\n"
     ]
    }
   ],
   "source": [
    "def primes_under_1000():\n",
    "    for num in range(2, 1000):\n",
    "        for i in range(2, num):\n",
    "            if num % i == 0:\n",
    "                break\n",
    "        else:\n",
    "            yield num\n",
    "\n",
    "prime_gen = primes_under_1000()\n",
    "for _ in range(20):\n",
    "    print(next(prime_gen))"
   ]
  },
  {
   "cell_type": "markdown",
   "id": "d6c59ba7-5b35-4468-9a66-fc73b34f71c8",
   "metadata": {},
   "source": [
    "## Q6. First 10 Fibonacci numbers using while loop"
   ]
  },
  {
   "cell_type": "code",
   "execution_count": 22,
   "id": "3c1d7977-22b4-43d1-987b-eaf7364d79a8",
   "metadata": {},
   "outputs": [
    {
     "name": "stdout",
     "output_type": "stream",
     "text": [
      "0\n",
      "1\n",
      "1\n",
      "2\n",
      "3\n",
      "5\n",
      "8\n",
      "13\n",
      "21\n",
      "34\n"
     ]
    }
   ],
   "source": [
    "a, b = 0, 1\n",
    "count = 0\n",
    "while count < 10:\n",
    "    print(a)\n",
    "    a, b = b, a + b\n",
    "    count += 1"
   ]
  },
  {
   "cell_type": "markdown",
   "id": "554ab3ba-d930-4b4c-98e7-4ac9c66ef1b6",
   "metadata": {},
   "source": [
    "## Q7. List Comprehension for string iteration"
   ]
  },
  {
   "cell_type": "code",
   "execution_count": 25,
   "id": "51fa6448-0f01-4fca-9cfe-f26447cf80a5",
   "metadata": {},
   "outputs": [
    {
     "name": "stdout",
     "output_type": "stream",
     "text": [
      "['p', 'w', 's', 'k', 'i', 'l', 'l', 's']\n"
     ]
    }
   ],
   "source": [
    "string = 'pwskills'\n",
    "result = [char for char in string]\n",
    "print(result)"
   ]
  },
  {
   "cell_type": "markdown",
   "id": "e702743f-6f69-403d-ae5c-679b2b677c80",
   "metadata": {},
   "source": [
    "## Q8. Palindrome check using while loop"
   ]
  },
  {
   "cell_type": "code",
   "execution_count": 30,
   "id": "8fd93d5a-f6f1-49ee-9897-d3fb35fce0d7",
   "metadata": {},
   "outputs": [
    {
     "name": "stdin",
     "output_type": "stream",
     "text": [
      "Enter a number:  101\n"
     ]
    },
    {
     "name": "stdout",
     "output_type": "stream",
     "text": [
      "Palindrome\n"
     ]
    }
   ],
   "source": [
    "num = int(input(\"Enter a number: \"))\n",
    "original = num\n",
    "reverse = 0\n",
    "\n",
    "while num > 0:\n",
    "    digit = num % 10\n",
    "    reverse = reverse * 10 + digit\n",
    "    num = num // 10\n",
    "\n",
    "if original == reverse:\n",
    "    print(\"Palindrome\")\n",
    "else:\n",
    "    print(\"Not a Palindrome\")"
   ]
  },
  {
   "cell_type": "markdown",
   "id": "d4c99e8a-104c-410a-9b5a-8236e92783f5",
   "metadata": {},
   "source": [
    "## Q9. Odd numbers from 1 to 100 using list comprehension"
   ]
  },
  {
   "cell_type": "code",
   "execution_count": 33,
   "id": "6ae2db16-4350-4076-9c5a-7daedbe7102f",
   "metadata": {},
   "outputs": [
    {
     "name": "stdout",
     "output_type": "stream",
     "text": [
      "[1, 3, 5, 7, 9, 11, 13, 15, 17, 19, 21, 23, 25, 27, 29, 31, 33, 35, 37, 39, 41, 43, 45, 47, 49, 51, 53, 55, 57, 59, 61, 63, 65, 67, 69, 71, 73, 75, 77, 79, 81, 83, 85, 87, 89, 91, 93, 95, 97, 99]\n"
     ]
    }
   ],
   "source": [
    "numbers = [num for num in range(1, 101)]\n",
    "odd_numbers = [num for num in numbers if num % 2 != 0]\n",
    "print(odd_numbers)"
   ]
  },
  {
   "cell_type": "code",
   "execution_count": null,
   "id": "565bcc50-becc-4289-ad6f-87c9c901ed55",
   "metadata": {},
   "outputs": [],
   "source": []
  }
 ],
 "metadata": {
  "kernelspec": {
   "display_name": "Python (tf_env)",
   "language": "python",
   "name": "tf_env"
  },
  "language_info": {
   "codemirror_mode": {
    "name": "ipython",
    "version": 3
   },
   "file_extension": ".py",
   "mimetype": "text/x-python",
   "name": "python",
   "nbconvert_exporter": "python",
   "pygments_lexer": "ipython3",
   "version": "3.12.7"
  }
 },
 "nbformat": 4,
 "nbformat_minor": 5
}
